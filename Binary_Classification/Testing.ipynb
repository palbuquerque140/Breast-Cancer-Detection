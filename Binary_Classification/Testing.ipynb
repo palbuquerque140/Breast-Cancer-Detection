{
 "cells": [
  {
   "cell_type": "code",
   "execution_count": 16,
   "id": "64dcf208",
   "metadata": {},
   "outputs": [],
   "source": [
    "import pandas as pd\n",
    "import numpy as np\n",
    "import seaborn as sns\n",
    "import matplotlib.pyplot as plt\n",
    "import os\n",
    "from tensorflow.keras import models\n",
    "from tensorflow.keras import optimizers\n",
    "from tensorflow.keras import metrics\n",
    "from tensorflow.keras.preprocessing.image import ImageDataGenerator\n",
    "from tensorflow.keras.models import load_model\n",
    "from sklearn.metrics import confusion_matrix, ConfusionMatrixDisplay"
   ]
  },
  {
   "cell_type": "markdown",
   "id": "cef41384",
   "metadata": {},
   "source": [
    "### Load Models to Test ###\n",
    "---"
   ]
  },
  {
   "cell_type": "code",
   "execution_count": 3,
   "id": "82638a0b",
   "metadata": {},
   "outputs": [
    {
     "name": "stderr",
     "output_type": "stream",
     "text": [
      "<>:1: SyntaxWarning: invalid escape sequence '\\B'\n",
      "<>:1: SyntaxWarning: invalid escape sequence '\\B'\n",
      "C:\\Users\\pedro\\AppData\\Local\\Temp\\ipykernel_22220\\2770228833.py:1: SyntaxWarning: invalid escape sequence '\\B'\n",
      "  model_dacl = load_model ('..\\Binary_Classification\\models\\model_dacl.h5')\n",
      "WARNING:absl:Compiled the loaded model, but the compiled metrics have yet to be built. `model.compile_metrics` will be empty until you train or evaluate the model.\n"
     ]
    }
   ],
   "source": [
    "model_dacl = load_model ('..\\Binary_Classification\\models\\model_dacl.h5')"
   ]
  },
  {
   "cell_type": "code",
   "execution_count": 7,
   "id": "d9e6188c",
   "metadata": {},
   "outputs": [
    {
     "name": "stderr",
     "output_type": "stream",
     "text": [
      "<>:1: SyntaxWarning: invalid escape sequence '\\B'\n",
      "<>:1: SyntaxWarning: invalid escape sequence '\\B'\n",
      "C:\\Users\\pedro\\AppData\\Local\\Temp\\ipykernel_22220\\3156080558.py:1: SyntaxWarning: invalid escape sequence '\\B'\n",
      "  model_clw = load_model ('..\\Binary_Classification\\models\\model_clw.h5')\n",
      "WARNING:absl:Compiled the loaded model, but the compiled metrics have yet to be built. `model.compile_metrics` will be empty until you train or evaluate the model.\n"
     ]
    }
   ],
   "source": [
    "model_clw = load_model ('..\\Binary_Classification\\models\\model_clw.h5')"
   ]
  },
  {
   "cell_type": "markdown",
   "id": "a6e3c9f8",
   "metadata": {},
   "source": [
    "### Create Test Datagen ###\n",
    "---"
   ]
  },
  {
   "cell_type": "code",
   "execution_count": 6,
   "id": "fdf97159",
   "metadata": {},
   "outputs": [
    {
     "name": "stdout",
     "output_type": "stream",
     "text": [
      "Found 1187 images belonging to 2 classes.\n"
     ]
    }
   ],
   "source": [
    "test_datagen = ImageDataGenerator(rescale = 1./255)\n",
    "\n",
    "test_dir = r'..\\Binary_Classification\\binary_class\\test'\n",
    "test_generator = test_datagen.flow_from_directory( \n",
    "    test_dir,           \n",
    "    target_size=(150,150), \n",
    "    batch_size=20,  \n",
    "    class_mode='binary',\n",
    "    shuffle = False\n",
    ")"
   ]
  },
  {
   "cell_type": "markdown",
   "id": "72e1a9dd",
   "metadata": {},
   "source": [
    "### Evaluate Models ###\n",
    "---"
   ]
  },
  {
   "cell_type": "markdown",
   "id": "df22882c",
   "metadata": {},
   "source": [
    "Data Augmentation + Class Weights"
   ]
  },
  {
   "cell_type": "code",
   "execution_count": 8,
   "id": "dd271c76",
   "metadata": {},
   "outputs": [
    {
     "name": "stderr",
     "output_type": "stream",
     "text": [
      "c:\\Users\\pedro\\Desktop\\Breast-Cancer-Detection\\venv\\Lib\\site-packages\\keras\\src\\trainers\\data_adapters\\py_dataset_adapter.py:121: UserWarning: Your `PyDataset` class should call `super().__init__(**kwargs)` in its constructor. `**kwargs` can include `workers`, `use_multiprocessing`, `max_queue_size`. Do not pass these arguments to `fit()`, as they will be ignored.\n",
      "  self._warn_if_super_not_called()\n"
     ]
    },
    {
     "name": "stdout",
     "output_type": "stream",
     "text": [
      "\u001b[1m60/60\u001b[0m \u001b[32m━━━━━━━━━━━━━━━━━━━━\u001b[0m\u001b[37m\u001b[0m \u001b[1m18s\u001b[0m 270ms/step - accuracy: 0.8509 - auc: 0.8580 - loss: 0.4106 - precision: 0.8529 - recall: 0.9460\n"
     ]
    },
    {
     "data": {
      "text/plain": [
       "[0.41060250997543335,\n",
       " 0.8508845567703247,\n",
       " 0.9460122585296631,\n",
       " 0.8528761267662048,\n",
       " 0.85802161693573]"
      ]
     },
     "execution_count": 8,
     "metadata": {},
     "output_type": "execute_result"
    }
   ],
   "source": [
    "model_dacl.evaluate(test_generator)"
   ]
  },
  {
   "cell_type": "code",
   "execution_count": 11,
   "id": "931be11a",
   "metadata": {},
   "outputs": [
    {
     "name": "stdout",
     "output_type": "stream",
     "text": [
      "\u001b[1m60/60\u001b[0m \u001b[32m━━━━━━━━━━━━━━━━━━━━\u001b[0m\u001b[37m\u001b[0m \u001b[1m12s\u001b[0m 199ms/step\n"
     ]
    }
   ],
   "source": [
    "predictions_dacl = model_dacl.predict(test_generator)"
   ]
  },
  {
   "cell_type": "code",
   "execution_count": 12,
   "id": "41b37cf4",
   "metadata": {},
   "outputs": [
    {
     "data": {
      "text/plain": [
       "array([[0.16859782],\n",
       "       [0.61747265],\n",
       "       [0.38885203],\n",
       "       ...,\n",
       "       [0.5934255 ],\n",
       "       [0.68823785],\n",
       "       [0.79685503]], shape=(1187, 1), dtype=float32)"
      ]
     },
     "execution_count": 12,
     "metadata": {},
     "output_type": "execute_result"
    }
   ],
   "source": [
    "predictions_dacl"
   ]
  },
  {
   "cell_type": "code",
   "execution_count": 19,
   "id": "3c86a204",
   "metadata": {},
   "outputs": [],
   "source": [
    "y_true_dacl = test_generator.classes  #Actual Labels\n",
    "y_pred_dacl = np.where(predictions_dacl > 0.5, 1, 0)  #Predicted labels at a 0.5 threhold"
   ]
  },
  {
   "cell_type": "code",
   "execution_count": 25,
   "id": "7b654ed3",
   "metadata": {},
   "outputs": [
    {
     "data": {
      "text/plain": [
       "<sklearn.metrics._plot.confusion_matrix.ConfusionMatrixDisplay at 0x16b98892b10>"
      ]
     },
     "execution_count": 25,
     "metadata": {},
     "output_type": "execute_result"
    },
    {
     "data": {
      "image/png": "[encoded data removed]",
      "text/plain": [
       "<Figure size 640x480 with 2 Axes>"
      ]
     },
     "metadata": {},
     "output_type": "display_data"
    }
   ],
   "source": [
    "cm_dacl = confusion_matrix(y_true_dacl, y_pred_dacl)\n",
    "disp_dacl = ConfusionMatrixDisplay(confusion_matrix=cm_dacl, display_labels=list(test_generator.class_indices.keys()))\n",
    "disp_dacl.plot(cmap='Blues')"
   ]
  },
  {
   "cell_type": "markdown",
   "id": "e78d69c6",
   "metadata": {},
   "source": [
    "Class Weights"
   ]
  },
  {
   "cell_type": "code",
   "execution_count": 22,
   "id": "58ecc899",
   "metadata": {},
   "outputs": [
    {
     "name": "stdout",
     "output_type": "stream",
     "text": [
      "\u001b[1m60/60\u001b[0m \u001b[32m━━━━━━━━━━━━━━━━━━━━\u001b[0m\u001b[37m\u001b[0m \u001b[1m14s\u001b[0m 228ms/step - accuracy: 0.8450 - auc_1: 0.9148 - loss: 0.3773 - precision_1: 0.9071 - recall_1: 0.8626\n"
     ]
    },
    {
     "data": {
      "text/plain": [
       "[0.37726110219955444,\n",
       " 0.8449873924255371,\n",
       " 0.8625766634941101,\n",
       " 0.907096803188324,\n",
       " 0.9148459434509277]"
      ]
     },
     "execution_count": 22,
     "metadata": {},
     "output_type": "execute_result"
    }
   ],
   "source": [
    "model_clw.evaluate(test_generator)"
   ]
  },
  {
   "cell_type": "code",
   "execution_count": 23,
   "id": "2838a86a",
   "metadata": {},
   "outputs": [
    {
     "name": "stdout",
     "output_type": "stream",
     "text": [
      "\u001b[1m60/60\u001b[0m \u001b[32m━━━━━━━━━━━━━━━━━━━━\u001b[0m\u001b[37m\u001b[0m \u001b[1m15s\u001b[0m 239ms/step\n"
     ]
    }
   ],
   "source": [
    "predictions_clw = model_clw.predict(test_generator)"
   ]
  },
  {
   "cell_type": "code",
   "execution_count": 24,
   "id": "4749b438",
   "metadata": {},
   "outputs": [],
   "source": [
    "y_true_clw = test_generator.classes  #Actual Labels\n",
    "y_pred_clw = np.where(predictions_clw > 0.5, 1, 0)  #Predicted labels at a 0.5 threhol"
   ]
  },
  {
   "cell_type": "code",
   "execution_count": 27,
   "id": "c8a3b8dc",
   "metadata": {},
   "outputs": [
    {
     "data": {
      "text/plain": [
       "<sklearn.metrics._plot.confusion_matrix.ConfusionMatrixDisplay at 0x16b9a5015e0>"
      ]
     },
     "execution_count": 27,
     "metadata": {},
     "output_type": "execute_result"
    },
    {
     "data": {
      "image/png": "[encoded data removed]",
      "text/plain": [
       "<Figure size 640x480 with 2 Axes>"
      ]
     },
     "metadata": {},
     "output_type": "display_data"
    }
   ],
   "source": [
    "cm_clw = confusion_matrix(y_true_clw, y_pred_clw)\n",
    "disp_clw = ConfusionMatrixDisplay(confusion_matrix=cm_clw, display_labels=list(test_generator.class_indices.keys()))\n",
    "disp_clw.plot(cmap='Greens')"
   ]
  },
  {
   "cell_type": "code",
   "execution_count": 41,
   "id": "4edea567",
   "metadata": {},
   "outputs": [
    {
     "data": {
      "image/png": "[encoded data removed]",
      "text/plain": [
       "<Figure size 1500x1000 with 2 Axes>"
      ]
     },
     "metadata": {},
     "output_type": "display_data"
    }
   ],
   "source": [
    "fig, axes = plt.subplots (nrows = 1, ncols=2, figsize =(15,10))\n",
    "\n",
    "disp_dacl.plot(cmap = 'Blues', ax = axes[0], colorbar=False)\n",
    "axes[0].set_title('Model Data Augmentation + Class Weights')\n",
    "\n",
    "disp_clw.plot(cmap = 'Greens', ax = axes[1], colorbar=False)\n",
    "axes[1].set_title('Model Class Weights')\n",
    "\n",
    "fig.suptitle('Model Comparison CM')\n",
    "plt.tight_layout()\n",
    "plt.show()"
   ]
  },
  {
   "cell_type": "code",
   "execution_count": 39,
   "id": "d5be1039",
   "metadata": {},
   "outputs": [],
   "source": [
    "fig.savefig(\"Model Comparison CM.png\", dpi=300, bbox_inches='tight')"
   ]
  },
  {
   "cell_type": "code",
   "execution_count": 42,
   "id": "1e454666",
   "metadata": {},
   "outputs": [],
   "source": [
    "from sklearn.metrics import accuracy_score, recall_score, precision_score, roc_auc_score"
   ]
  },
  {
   "cell_type": "code",
   "execution_count": 44,
   "id": "216e5810",
   "metadata": {},
   "outputs": [],
   "source": [
    "metrics = {\n",
    "    \"Model\": [\"Class Weights\", \"Data Aug + Class Weights\"],\n",
    "    \"Accuracy\": [accuracy_score(y_true_clw, y_pred_clw), accuracy_score(y_true_dacl, y_pred_dacl)],\n",
    "    \"Recall\": [recall_score(y_true_clw, y_pred_clw), recall_score(y_true_dacl, y_pred_dacl)],\n",
    "    \"Precision\": [precision_score(y_true_clw, y_pred_clw), precision_score(y_true_dacl, y_pred_dacl)],\n",
    "    \"AUC\": [roc_auc_score(y_true_clw, y_pred_clw), roc_auc_score(y_true_dacl, y_pred_dacl)]\n",
    "}"
   ]
  },
  {
   "cell_type": "code",
   "execution_count": null,
   "id": "13a932c7",
   "metadata": {},
   "outputs": [],
   "source": [
    "df_metrics = pd.DataFrame(metrics)"
   ]
  },
  {
   "cell_type": "code",
   "execution_count": 47,
   "id": "6019b0ed",
   "metadata": {},
   "outputs": [
    {
     "data": {
      "text/html": [
       "<div>\n",
       "<style scoped>\n",
       "    .dataframe tbody tr th:only-of-type {\n",
       "        vertical-align: middle;\n",
       "    }\n",
       "\n",
       "    .dataframe tbody tr th {\n",
       "        vertical-align: top;\n",
       "    }\n",
       "\n",
       "    .dataframe thead th {\n",
       "        text-align: right;\n",
       "    }\n",
       "</style>\n",
       "<table border=\"1\" class=\"dataframe\">\n",
       "  <thead>\n",
       "    <tr style=\"text-align: right;\">\n",
       "      <th></th>\n",
       "      <th>Model</th>\n",
       "      <th>Accuracy</th>\n",
       "      <th>Recall</th>\n",
       "      <th>Precision</th>\n",
       "      <th>AUC</th>\n",
       "    </tr>\n",
       "  </thead>\n",
       "  <tbody>\n",
       "    <tr>\n",
       "      <th>0</th>\n",
       "      <td>Class Weights</td>\n",
       "      <td>0.844987</td>\n",
       "      <td>0.862577</td>\n",
       "      <td>0.907097</td>\n",
       "      <td>0.834514</td>\n",
       "    </tr>\n",
       "    <tr>\n",
       "      <th>1</th>\n",
       "      <td>Data Aug + Class Weights</td>\n",
       "      <td>0.850885</td>\n",
       "      <td>0.946012</td>\n",
       "      <td>0.852876</td>\n",
       "      <td>0.794243</td>\n",
       "    </tr>\n",
       "  </tbody>\n",
       "</table>\n",
       "</div>"
      ],
      "text/plain": [
       "                      Model  Accuracy    Recall  Precision       AUC\n",
       "0             Class Weights  0.844987  0.862577   0.907097  0.834514\n",
       "1  Data Aug + Class Weights  0.850885  0.946012   0.852876  0.794243"
      ]
     },
     "execution_count": 47,
     "metadata": {},
     "output_type": "execute_result"
    }
   ],
   "source": [
    "df_metrics"
   ]
  }
 ],
 "metadata": {
  "kernelspec": {
   "display_name": "venv",
   "language": "python",
   "name": "python3"
  },
  "language_info": {
   "codemirror_mode": {
    "name": "ipython",
    "version": 3
   },
   "file_extension": ".py",
   "mimetype": "text/x-python",
   "name": "python",
   "nbconvert_exporter": "python",
   "pygments_lexer": "ipython3",
   "version": "3.12.0"
  }
 },
 "nbformat": 4,
 "nbformat_minor": 5
}
