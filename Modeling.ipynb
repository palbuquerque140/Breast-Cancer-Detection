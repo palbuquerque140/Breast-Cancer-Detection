{
 "cells": [
  {
   "cell_type": "code",
   "execution_count": 31,
   "id": "f043f415",
   "metadata": {},
   "outputs": [],
   "source": [
    "import pandas as pd\n",
    "import numpy as np\n",
    "import seaborn as sns\n",
    "import matplotlib.pyplot as plt\n",
    "import os\n",
    "from tensorflow.keras import models\n",
    "from tensorflow.keras import layers\n",
    "from tensorflow.keras import optimizers\n",
    "from tensorflow.keras import metrics\n",
    "from tensorflow.keras.preprocessing.image import ImageDataGenerator"
   ]
  },
  {
   "cell_type": "markdown",
   "id": "f712679d",
   "metadata": {},
   "source": [
    "Rescale Train Images and build tensors"
   ]
  },
  {
   "cell_type": "code",
   "execution_count": 8,
   "id": "80baaa1a",
   "metadata": {},
   "outputs": [],
   "source": [
    "train_datagen = ImageDataGenerator(rescale = 1./255) #After decoding image pixels (ints that vary [0,255]), each of these pixels is multiplied by 1/255. Output are floats [0,1]"
   ]
  },
  {
   "cell_type": "code",
   "execution_count": null,
   "id": "23d0d3d8",
   "metadata": {},
   "outputs": [
    {
     "name": "stdout",
     "output_type": "stream",
     "text": [
      "Found 5536 images belonging to 2 classes.\n"
     ]
    }
   ],
   "source": [
    "train_dir = r'binary_class\\train'\n",
    "train_generator = train_datagen.flow_from_directory(  #flow_from_directory: Will scan train_dir once and build an index of all files found in its subfolders (subfolder names become labels)\n",
    "    train_dir,        #Returns a Generator that yields batches of (images, labels)   \n",
    "    target_size=(150,150), #Every image read is resized to 150x150\n",
    "    batch_size=20,  # Each time we ask the genertor for a batch, we'll get 20 images and their 20 labels\n",
    "    class_mode='binary'  #We're telling the generator to produce binary labels\n",
    ")"
   ]
  },
  {
   "cell_type": "code",
   "execution_count": 19,
   "id": "e859d89a",
   "metadata": {},
   "outputs": [
    {
     "name": "stdout",
     "output_type": "stream",
     "text": [
      "1736\n",
      "3800\n"
     ]
    }
   ],
   "source": [
    "print(len(os.listdir(os.path.join(train_dir, 'benign'))))\n",
    "print(len(os.listdir(os.path.join(train_dir, 'malignant'))))"
   ]
  },
  {
   "cell_type": "code",
   "execution_count": 24,
   "id": "8604306a",
   "metadata": {},
   "outputs": [
    {
     "name": "stdout",
     "output_type": "stream",
     "text": [
      "data batch shape: (20, 150, 150, 3)\n",
      "labels batch shape: (20,)\n"
     ]
    }
   ],
   "source": [
    "for data_batch, labels_batch in train_generator:\n",
    "    print('data batch shape:', data_batch.shape)\n",
    "    print('labels batch shape:', labels_batch.shape)\n",
    "    break\n"
   ]
  },
  {
   "cell_type": "markdown",
   "id": "d430f105",
   "metadata": {},
   "source": [
    "Rescale Validation Images and build tensors"
   ]
  },
  {
   "cell_type": "code",
   "execution_count": 21,
   "id": "71d08c54",
   "metadata": {},
   "outputs": [
    {
     "name": "stdout",
     "output_type": "stream",
     "text": [
      "Found 1186 images belonging to 2 classes.\n"
     ]
    }
   ],
   "source": [
    "val_datagen = ImageDataGenerator(rescale = 1./255)\n",
    "\n",
    "val_dir = r'binary_class\\validation'\n",
    "val_generator = val_datagen.flow_from_directory( \n",
    "    val_dir,           \n",
    "    target_size=(150,150), \n",
    "    batch_size=20,  \n",
    "    class_mode='binary',\n",
    "    shuffle = False #default =True, keras shuffles the order of the images before creating batches. Good for training. If we shuffle val/test, order of predictions won't match order of true labels\n",
    ")"
   ]
  },
  {
   "cell_type": "code",
   "execution_count": 25,
   "id": "7990adf1",
   "metadata": {},
   "outputs": [
    {
     "name": "stdout",
     "output_type": "stream",
     "text": [
      "data batch shape: (20, 150, 150, 3)\n",
      "labels batch shape: (20,)\n"
     ]
    }
   ],
   "source": [
    "for data_batch, labels_batch in val_generator:\n",
    "    print('data batch shape:', data_batch.shape)\n",
    "    print('labels batch shape:', labels_batch.shape)\n",
    "    break"
   ]
  },
  {
   "cell_type": "markdown",
   "id": "4072aa78",
   "metadata": {},
   "source": [
    "Rescale Test Images and build tensors"
   ]
  },
  {
   "cell_type": "code",
   "execution_count": 22,
   "id": "f315475f",
   "metadata": {},
   "outputs": [
    {
     "name": "stdout",
     "output_type": "stream",
     "text": [
      "Found 1187 images belonging to 2 classes.\n"
     ]
    }
   ],
   "source": [
    "test_datagen = ImageDataGenerator(rescale = 1./255)\n",
    "\n",
    "test_dir = r'binary_class\\test'\n",
    "test_generator = test_datagen.flow_from_directory( \n",
    "    test_dir,           \n",
    "    target_size=(150,150), \n",
    "    batch_size=20,  \n",
    "    class_mode='binary',\n",
    "    shuffle = False\n",
    ")"
   ]
  },
  {
   "cell_type": "code",
   "execution_count": 26,
   "id": "6a9a46f7",
   "metadata": {},
   "outputs": [
    {
     "name": "stdout",
     "output_type": "stream",
     "text": [
      "data batch shape: (20, 150, 150, 3)\n",
      "labels batch shape: (20,)\n"
     ]
    }
   ],
   "source": [
    "for data_batch, labels_batch in test_generator:\n",
    "    print('data batch shape:', data_batch.shape)\n",
    "    print('labels batch shape:', labels_batch.shape)\n",
    "    break"
   ]
  },
  {
   "cell_type": "markdown",
   "id": "efc609d1",
   "metadata": {},
   "source": [
    "### Train Baseline Model ###\n",
    "---"
   ]
  },
  {
   "cell_type": "markdown",
   "id": "74d1fc36",
   "metadata": {},
   "source": [
    "Create model instance"
   ]
  },
  {
   "cell_type": "code",
   "execution_count": 28,
   "id": "6817ba69",
   "metadata": {},
   "outputs": [
    {
     "name": "stderr",
     "output_type": "stream",
     "text": [
      "c:\\Users\\pedro\\Desktop\\Breast-Cancer-Detection\\venv\\Lib\\site-packages\\keras\\src\\layers\\convolutional\\base_conv.py:113: UserWarning: Do not pass an `input_shape`/`input_dim` argument to a layer. When using Sequential models, prefer using an `Input(shape)` object as the first layer in the model instead.\n",
      "  super().__init__(activity_regularizer=activity_regularizer, **kwargs)\n"
     ]
    }
   ],
   "source": [
    "base_model = models.Sequential()\n",
    "base_model.add (layers.Conv2D (32, (3,3), activation = 'relu', input_shape=(150,150,3)))\n",
    "# Conv layer, aplies filters (3,3) to the input image to detect features (edges, texturs, patterns). 32:nr of filters/kernels applied. Each one learns to detect a different feature.\n",
    "# Output of Conv layers will be a stack of 32 feature maps.\n",
    "# Relu introduces non-linearity\n",
    "base_model.add (layers.MaxPooling2D (2,2))\n",
    "# Maxpooling is a subsampling/reduction operation. Makes de feature maps (ouput of Conv layer) smaller in width and height, while keeping the most important information. \n",
    "# Keeps only the strongest information. (2,2) : Pool size, size of window that slides over the feature map. Each 2x2 slides on non-overlapping 2x2 blocks of the feature map and takes the max value.\n",
    "# Purpose: Reduce computation (faster training), Control Overfitting (reduces sensitvity to exact pixel positions)\n",
    "base_model.add (layers.Conv2D (64, (3,3), activation = 'relu'))\n",
    "base_model.add (layers.MaxPooling2D (2,2))\n",
    "base_model.add (layers.Conv2D (128, (3,3), activation = 'relu'))\n",
    "base_model.add (layers.MaxPooling2D (2,2))\n",
    "base_model.add (layers.Flatten())\n",
    "# Up until now, data is 3D (height, width and depth), BUT Dense layers expect a 1D vector as input, so flatten does exactly that.\n",
    "base_model.add (layers.Dense(512, activation = 'relu'))\n",
    "# Dense/Fully connected layer. Every neuron from this layer is connected to EVERY output from the previous layer\n",
    "base_model.add (layers.Dense(1, activation = 'sigmoid'))\n",
    "# Output layer produces final prediction. Takes all the info leaner in the previous Dense and compresses it into a signles number between 0 and 1. This number is the probability of belonging to one class.\n",
    "# Close to 0: benign, Close to 1:malignant. Sigmoid compressed any real number into a range [0,1], i.e. converts result to probability.\n"
   ]
  },
  {
   "cell_type": "code",
   "execution_count": 29,
   "id": "3cdb0eba",
   "metadata": {},
   "outputs": [
    {
     "data": {
      "text/html": [
       "<pre style=\"white-space:pre;overflow-x:auto;line-height:normal;font-family:Menlo,'DejaVu Sans Mono',consolas,'Courier New',monospace\"><span style=\"font-weight: bold\">Model: \"sequential_1\"</span>\n",
       "</pre>\n"
      ],
      "text/plain": [
       "\u001b[1mModel: \"sequential_1\"\u001b[0m\n"
      ]
     },
     "metadata": {},
     "output_type": "display_data"
    },
    {
     "data": {
      "text/html": [
       "<pre style=\"white-space:pre;overflow-x:auto;line-height:normal;font-family:Menlo,'DejaVu Sans Mono',consolas,'Courier New',monospace\">┏━━━━━━━━━━━━━━━━━━━━━━━━━━━━━━━━━┳━━━━━━━━━━━━━━━━━━━━━━━━┳━━━━━━━━━━━━━━━┓\n",
       "┃<span style=\"font-weight: bold\"> Layer (type)                    </span>┃<span style=\"font-weight: bold\"> Output Shape           </span>┃<span style=\"font-weight: bold\">       Param # </span>┃\n",
       "┡━━━━━━━━━━━━━━━━━━━━━━━━━━━━━━━━━╇━━━━━━━━━━━━━━━━━━━━━━━━╇━━━━━━━━━━━━━━━┩\n",
       "│ conv2d_3 (<span style=\"color: #0087ff; text-decoration-color: #0087ff\">Conv2D</span>)               │ (<span style=\"color: #00d7ff; text-decoration-color: #00d7ff\">None</span>, <span style=\"color: #00af00; text-decoration-color: #00af00\">148</span>, <span style=\"color: #00af00; text-decoration-color: #00af00\">148</span>, <span style=\"color: #00af00; text-decoration-color: #00af00\">32</span>)   │           <span style=\"color: #00af00; text-decoration-color: #00af00\">896</span> │\n",
       "├─────────────────────────────────┼────────────────────────┼───────────────┤\n",
       "│ max_pooling2d_3 (<span style=\"color: #0087ff; text-decoration-color: #0087ff\">MaxPooling2D</span>)  │ (<span style=\"color: #00d7ff; text-decoration-color: #00d7ff\">None</span>, <span style=\"color: #00af00; text-decoration-color: #00af00\">74</span>, <span style=\"color: #00af00; text-decoration-color: #00af00\">74</span>, <span style=\"color: #00af00; text-decoration-color: #00af00\">32</span>)     │             <span style=\"color: #00af00; text-decoration-color: #00af00\">0</span> │\n",
       "├─────────────────────────────────┼────────────────────────┼───────────────┤\n",
       "│ conv2d_4 (<span style=\"color: #0087ff; text-decoration-color: #0087ff\">Conv2D</span>)               │ (<span style=\"color: #00d7ff; text-decoration-color: #00d7ff\">None</span>, <span style=\"color: #00af00; text-decoration-color: #00af00\">72</span>, <span style=\"color: #00af00; text-decoration-color: #00af00\">72</span>, <span style=\"color: #00af00; text-decoration-color: #00af00\">64</span>)     │        <span style=\"color: #00af00; text-decoration-color: #00af00\">18,496</span> │\n",
       "├─────────────────────────────────┼────────────────────────┼───────────────┤\n",
       "│ max_pooling2d_4 (<span style=\"color: #0087ff; text-decoration-color: #0087ff\">MaxPooling2D</span>)  │ (<span style=\"color: #00d7ff; text-decoration-color: #00d7ff\">None</span>, <span style=\"color: #00af00; text-decoration-color: #00af00\">36</span>, <span style=\"color: #00af00; text-decoration-color: #00af00\">36</span>, <span style=\"color: #00af00; text-decoration-color: #00af00\">64</span>)     │             <span style=\"color: #00af00; text-decoration-color: #00af00\">0</span> │\n",
       "├─────────────────────────────────┼────────────────────────┼───────────────┤\n",
       "│ conv2d_5 (<span style=\"color: #0087ff; text-decoration-color: #0087ff\">Conv2D</span>)               │ (<span style=\"color: #00d7ff; text-decoration-color: #00d7ff\">None</span>, <span style=\"color: #00af00; text-decoration-color: #00af00\">34</span>, <span style=\"color: #00af00; text-decoration-color: #00af00\">34</span>, <span style=\"color: #00af00; text-decoration-color: #00af00\">128</span>)    │        <span style=\"color: #00af00; text-decoration-color: #00af00\">73,856</span> │\n",
       "├─────────────────────────────────┼────────────────────────┼───────────────┤\n",
       "│ max_pooling2d_5 (<span style=\"color: #0087ff; text-decoration-color: #0087ff\">MaxPooling2D</span>)  │ (<span style=\"color: #00d7ff; text-decoration-color: #00d7ff\">None</span>, <span style=\"color: #00af00; text-decoration-color: #00af00\">17</span>, <span style=\"color: #00af00; text-decoration-color: #00af00\">17</span>, <span style=\"color: #00af00; text-decoration-color: #00af00\">128</span>)    │             <span style=\"color: #00af00; text-decoration-color: #00af00\">0</span> │\n",
       "├─────────────────────────────────┼────────────────────────┼───────────────┤\n",
       "│ flatten (<span style=\"color: #0087ff; text-decoration-color: #0087ff\">Flatten</span>)               │ (<span style=\"color: #00d7ff; text-decoration-color: #00d7ff\">None</span>, <span style=\"color: #00af00; text-decoration-color: #00af00\">36992</span>)          │             <span style=\"color: #00af00; text-decoration-color: #00af00\">0</span> │\n",
       "├─────────────────────────────────┼────────────────────────┼───────────────┤\n",
       "│ dense (<span style=\"color: #0087ff; text-decoration-color: #0087ff\">Dense</span>)                   │ (<span style=\"color: #00d7ff; text-decoration-color: #00d7ff\">None</span>, <span style=\"color: #00af00; text-decoration-color: #00af00\">512</span>)            │    <span style=\"color: #00af00; text-decoration-color: #00af00\">18,940,416</span> │\n",
       "├─────────────────────────────────┼────────────────────────┼───────────────┤\n",
       "│ dense_1 (<span style=\"color: #0087ff; text-decoration-color: #0087ff\">Dense</span>)                 │ (<span style=\"color: #00d7ff; text-decoration-color: #00d7ff\">None</span>, <span style=\"color: #00af00; text-decoration-color: #00af00\">1</span>)              │           <span style=\"color: #00af00; text-decoration-color: #00af00\">513</span> │\n",
       "└─────────────────────────────────┴────────────────────────┴───────────────┘\n",
       "</pre>\n"
      ],
      "text/plain": [
       "┏━━━━━━━━━━━━━━━━━━━━━━━━━━━━━━━━━┳━━━━━━━━━━━━━━━━━━━━━━━━┳━━━━━━━━━━━━━━━┓\n",
       "┃\u001b[1m \u001b[0m\u001b[1mLayer (type)                   \u001b[0m\u001b[1m \u001b[0m┃\u001b[1m \u001b[0m\u001b[1mOutput Shape          \u001b[0m\u001b[1m \u001b[0m┃\u001b[1m \u001b[0m\u001b[1m      Param #\u001b[0m\u001b[1m \u001b[0m┃\n",
       "┡━━━━━━━━━━━━━━━━━━━━━━━━━━━━━━━━━╇━━━━━━━━━━━━━━━━━━━━━━━━╇━━━━━━━━━━━━━━━┩\n",
       "│ conv2d_3 (\u001b[38;5;33mConv2D\u001b[0m)               │ (\u001b[38;5;45mNone\u001b[0m, \u001b[38;5;34m148\u001b[0m, \u001b[38;5;34m148\u001b[0m, \u001b[38;5;34m32\u001b[0m)   │           \u001b[38;5;34m896\u001b[0m │\n",
       "├─────────────────────────────────┼────────────────────────┼───────────────┤\n",
       "│ max_pooling2d_3 (\u001b[38;5;33mMaxPooling2D\u001b[0m)  │ (\u001b[38;5;45mNone\u001b[0m, \u001b[38;5;34m74\u001b[0m, \u001b[38;5;34m74\u001b[0m, \u001b[38;5;34m32\u001b[0m)     │             \u001b[38;5;34m0\u001b[0m │\n",
       "├─────────────────────────────────┼────────────────────────┼───────────────┤\n",
       "│ conv2d_4 (\u001b[38;5;33mConv2D\u001b[0m)               │ (\u001b[38;5;45mNone\u001b[0m, \u001b[38;5;34m72\u001b[0m, \u001b[38;5;34m72\u001b[0m, \u001b[38;5;34m64\u001b[0m)     │        \u001b[38;5;34m18,496\u001b[0m │\n",
       "├─────────────────────────────────┼────────────────────────┼───────────────┤\n",
       "│ max_pooling2d_4 (\u001b[38;5;33mMaxPooling2D\u001b[0m)  │ (\u001b[38;5;45mNone\u001b[0m, \u001b[38;5;34m36\u001b[0m, \u001b[38;5;34m36\u001b[0m, \u001b[38;5;34m64\u001b[0m)     │             \u001b[38;5;34m0\u001b[0m │\n",
       "├─────────────────────────────────┼────────────────────────┼───────────────┤\n",
       "│ conv2d_5 (\u001b[38;5;33mConv2D\u001b[0m)               │ (\u001b[38;5;45mNone\u001b[0m, \u001b[38;5;34m34\u001b[0m, \u001b[38;5;34m34\u001b[0m, \u001b[38;5;34m128\u001b[0m)    │        \u001b[38;5;34m73,856\u001b[0m │\n",
       "├─────────────────────────────────┼────────────────────────┼───────────────┤\n",
       "│ max_pooling2d_5 (\u001b[38;5;33mMaxPooling2D\u001b[0m)  │ (\u001b[38;5;45mNone\u001b[0m, \u001b[38;5;34m17\u001b[0m, \u001b[38;5;34m17\u001b[0m, \u001b[38;5;34m128\u001b[0m)    │             \u001b[38;5;34m0\u001b[0m │\n",
       "├─────────────────────────────────┼────────────────────────┼───────────────┤\n",
       "│ flatten (\u001b[38;5;33mFlatten\u001b[0m)               │ (\u001b[38;5;45mNone\u001b[0m, \u001b[38;5;34m36992\u001b[0m)          │             \u001b[38;5;34m0\u001b[0m │\n",
       "├─────────────────────────────────┼────────────────────────┼───────────────┤\n",
       "│ dense (\u001b[38;5;33mDense\u001b[0m)                   │ (\u001b[38;5;45mNone\u001b[0m, \u001b[38;5;34m512\u001b[0m)            │    \u001b[38;5;34m18,940,416\u001b[0m │\n",
       "├─────────────────────────────────┼────────────────────────┼───────────────┤\n",
       "│ dense_1 (\u001b[38;5;33mDense\u001b[0m)                 │ (\u001b[38;5;45mNone\u001b[0m, \u001b[38;5;34m1\u001b[0m)              │           \u001b[38;5;34m513\u001b[0m │\n",
       "└─────────────────────────────────┴────────────────────────┴───────────────┘\n"
      ]
     },
     "metadata": {},
     "output_type": "display_data"
    },
    {
     "data": {
      "text/html": [
       "<pre style=\"white-space:pre;overflow-x:auto;line-height:normal;font-family:Menlo,'DejaVu Sans Mono',consolas,'Courier New',monospace\"><span style=\"font-weight: bold\"> Total params: </span><span style=\"color: #00af00; text-decoration-color: #00af00\">19,034,177</span> (72.61 MB)\n",
       "</pre>\n"
      ],
      "text/plain": [
       "\u001b[1m Total params: \u001b[0m\u001b[38;5;34m19,034,177\u001b[0m (72.61 MB)\n"
      ]
     },
     "metadata": {},
     "output_type": "display_data"
    },
    {
     "data": {
      "text/html": [
       "<pre style=\"white-space:pre;overflow-x:auto;line-height:normal;font-family:Menlo,'DejaVu Sans Mono',consolas,'Courier New',monospace\"><span style=\"font-weight: bold\"> Trainable params: </span><span style=\"color: #00af00; text-decoration-color: #00af00\">19,034,177</span> (72.61 MB)\n",
       "</pre>\n"
      ],
      "text/plain": [
       "\u001b[1m Trainable params: \u001b[0m\u001b[38;5;34m19,034,177\u001b[0m (72.61 MB)\n"
      ]
     },
     "metadata": {},
     "output_type": "display_data"
    },
    {
     "data": {
      "text/html": [
       "<pre style=\"white-space:pre;overflow-x:auto;line-height:normal;font-family:Menlo,'DejaVu Sans Mono',consolas,'Courier New',monospace\"><span style=\"font-weight: bold\"> Non-trainable params: </span><span style=\"color: #00af00; text-decoration-color: #00af00\">0</span> (0.00 B)\n",
       "</pre>\n"
      ],
      "text/plain": [
       "\u001b[1m Non-trainable params: \u001b[0m\u001b[38;5;34m0\u001b[0m (0.00 B)\n"
      ]
     },
     "metadata": {},
     "output_type": "display_data"
    }
   ],
   "source": [
    "base_model.summary()"
   ]
  },
  {
   "cell_type": "markdown",
   "id": "f19c4ad3",
   "metadata": {},
   "source": [
    "Compile the model"
   ]
  },
  {
   "cell_type": "code",
   "execution_count": 33,
   "id": "165d2788",
   "metadata": {},
   "outputs": [],
   "source": [
    "base_model.compile (loss = 'binary_crossentropy', #measures how well the predicted probabilities match the true labels\n",
    "                    optimizer = optimizers.RMSprop(learning_rate = 0.001), #Optimization algorithm tht updates the network weights to minimize the loss\n",
    "                    metrics = ['accuracy', 'recall', 'precision', 'auc']) #Asking the model to track accuracy during training"
   ]
  },
  {
   "cell_type": "markdown",
   "id": "00a8f64e",
   "metadata": {},
   "source": [
    "Model fitting with Batch Generator\n"
   ]
  },
  {
   "cell_type": "code",
   "execution_count": 34,
   "id": "d6db67ae",
   "metadata": {},
   "outputs": [
    {
     "name": "stderr",
     "output_type": "stream",
     "text": [
      "c:\\Users\\pedro\\Desktop\\Breast-Cancer-Detection\\venv\\Lib\\site-packages\\keras\\src\\trainers\\data_adapters\\py_dataset_adapter.py:121: UserWarning: Your `PyDataset` class should call `super().__init__(**kwargs)` in its constructor. `**kwargs` can include `workers`, `use_multiprocessing`, `max_queue_size`. Do not pass these arguments to `fit()`, as they will be ignored.\n",
      "  self._warn_if_super_not_called()\n"
     ]
    },
    {
     "name": "stdout",
     "output_type": "stream",
     "text": [
      "Epoch 1/20\n",
      "\u001b[1m277/277\u001b[0m \u001b[32m━━━━━━━━━━━━━━━━━━━━\u001b[0m\u001b[37m\u001b[0m \u001b[1m99s\u001b[0m 352ms/step - accuracy: 0.7225 - auc: 0.6964 - loss: 0.6016 - precision: 0.7403 - recall: 0.9176 - val_accuracy: 0.8019 - val_auc: 0.8435 - val_loss: 0.4628 - val_precision: 0.7852 - val_recall: 0.9791\n",
      "Epoch 2/20\n",
      "\u001b[1m277/277\u001b[0m \u001b[32m━━━━━━━━━━━━━━━━━━━━\u001b[0m\u001b[37m\u001b[0m \u001b[1m96s\u001b[0m 346ms/step - accuracy: 0.7930 - auc: 0.8013 - loss: 0.4850 - precision: 0.8134 - recall: 0.9063 - val_accuracy: 0.8491 - val_auc: 0.8495 - val_loss: 0.4278 - val_precision: 0.8654 - val_recall: 0.9238\n",
      "Epoch 3/20\n",
      "\u001b[1m277/277\u001b[0m \u001b[32m━━━━━━━━━━━━━━━━━━━━\u001b[0m\u001b[37m\u001b[0m \u001b[1m93s\u001b[0m 337ms/step - accuracy: 0.8076 - auc: 0.8162 - loss: 0.4653 - precision: 0.8307 - recall: 0.9039 - val_accuracy: 0.7774 - val_auc: 0.8555 - val_loss: 0.5477 - val_precision: 0.7594 - val_recall: 0.9889\n",
      "Epoch 4/20\n",
      "\u001b[1m277/277\u001b[0m \u001b[32m━━━━━━━━━━━━━━━━━━━━\u001b[0m\u001b[37m\u001b[0m \u001b[1m126s\u001b[0m 456ms/step - accuracy: 0.8141 - auc: 0.8295 - loss: 0.4487 - precision: 0.8352 - recall: 0.9084 - val_accuracy: 0.7184 - val_auc: 0.8645 - val_loss: 0.5487 - val_precision: 0.8909 - val_recall: 0.6720\n",
      "Epoch 5/20\n",
      "\u001b[1m277/277\u001b[0m \u001b[32m━━━━━━━━━━━━━━━━━━━━\u001b[0m\u001b[37m\u001b[0m \u001b[1m94s\u001b[0m 337ms/step - accuracy: 0.8203 - auc: 0.8400 - loss: 0.4352 - precision: 0.8430 - recall: 0.9071 - val_accuracy: 0.7597 - val_auc: 0.8782 - val_loss: 0.5577 - val_precision: 0.7429 - val_recall: 0.9939\n",
      "Epoch 6/20\n",
      "\u001b[1m277/277\u001b[0m \u001b[32m━━━━━━━━━━━━━━━━━━━━\u001b[0m\u001b[37m\u001b[0m \u001b[1m152s\u001b[0m 548ms/step - accuracy: 0.8237 - auc: 0.8571 - loss: 0.4213 - precision: 0.8528 - recall: 0.8982 - val_accuracy: 0.8609 - val_auc: 0.8730 - val_loss: 0.3918 - val_precision: 0.8602 - val_recall: 0.9521\n",
      "Epoch 7/20\n",
      "\u001b[1m277/277\u001b[0m \u001b[32m━━━━━━━━━━━━━━━━━━━━\u001b[0m\u001b[37m\u001b[0m \u001b[1m228s\u001b[0m 824ms/step - accuracy: 0.8288 - auc: 0.8595 - loss: 0.4158 - precision: 0.8490 - recall: 0.9129 - val_accuracy: 0.7715 - val_auc: 0.8764 - val_loss: 0.4976 - val_precision: 0.9010 - val_recall: 0.7494\n",
      "Epoch 8/20\n",
      "\u001b[1m277/277\u001b[0m \u001b[32m━━━━━━━━━━━━━━━━━━━━\u001b[0m\u001b[37m\u001b[0m \u001b[1m219s\u001b[0m 793ms/step - accuracy: 0.8351 - auc: 0.8676 - loss: 0.4058 - precision: 0.8523 - recall: 0.9189 - val_accuracy: 0.8685 - val_auc: 0.9100 - val_loss: 0.3485 - val_precision: 0.8664 - val_recall: 0.9558\n",
      "Epoch 9/20\n",
      "\u001b[1m277/277\u001b[0m \u001b[32m━━━━━━━━━━━━━━━━━━━━\u001b[0m\u001b[37m\u001b[0m \u001b[1m233s\u001b[0m 841ms/step - accuracy: 0.8338 - auc: 0.8764 - loss: 0.3955 - precision: 0.8559 - recall: 0.9113 - val_accuracy: 0.7142 - val_auc: 0.8658 - val_loss: 0.5757 - val_precision: 0.7060 - val_recall: 1.0000\n",
      "Epoch 10/20\n",
      "\u001b[1m277/277\u001b[0m \u001b[32m━━━━━━━━━━━━━━━━━━━━\u001b[0m\u001b[37m\u001b[0m \u001b[1m235s\u001b[0m 848ms/step - accuracy: 0.8459 - auc: 0.8872 - loss: 0.3825 - precision: 0.8674 - recall: 0.9155 - val_accuracy: 0.8735 - val_auc: 0.9186 - val_loss: 0.3278 - val_precision: 0.8816 - val_recall: 0.9423\n",
      "Epoch 11/20\n",
      "\u001b[1m277/277\u001b[0m \u001b[32m━━━━━━━━━━━━━━━━━━━━\u001b[0m\u001b[37m\u001b[0m \u001b[1m242s\u001b[0m 874ms/step - accuracy: 0.8409 - auc: 0.9012 - loss: 0.3637 - precision: 0.8681 - recall: 0.9058 - val_accuracy: 0.8718 - val_auc: 0.9142 - val_loss: 0.3440 - val_precision: 0.8770 - val_recall: 0.9459\n",
      "Epoch 12/20\n",
      "\u001b[1m277/277\u001b[0m \u001b[32m━━━━━━━━━━━━━━━━━━━━\u001b[0m\u001b[37m\u001b[0m \u001b[1m235s\u001b[0m 850ms/step - accuracy: 0.8546 - auc: 0.9071 - loss: 0.3528 - precision: 0.8835 - recall: 0.9079 - val_accuracy: 0.8170 - val_auc: 0.8726 - val_loss: 0.4314 - val_precision: 0.8975 - val_recall: 0.8280\n",
      "Epoch 13/20\n",
      "\u001b[1m277/277\u001b[0m \u001b[32m━━━━━━━━━━━━━━━━━━━━\u001b[0m\u001b[37m\u001b[0m \u001b[1m249s\u001b[0m 899ms/step - accuracy: 0.8593 - auc: 0.9182 - loss: 0.3351 - precision: 0.8870 - recall: 0.9111 - val_accuracy: 0.8600 - val_auc: 0.9224 - val_loss: 0.3466 - val_precision: 0.9091 - val_recall: 0.8845\n",
      "Epoch 14/20\n",
      "\u001b[1m277/277\u001b[0m \u001b[32m━━━━━━━━━━━━━━━━━━━━\u001b[0m\u001b[37m\u001b[0m \u001b[1m256s\u001b[0m 924ms/step - accuracy: 0.8678 - auc: 0.9270 - loss: 0.3117 - precision: 0.8954 - recall: 0.9142 - val_accuracy: 0.8457 - val_auc: 0.9016 - val_loss: 0.3875 - val_precision: 0.9009 - val_recall: 0.8710\n",
      "Epoch 15/20\n",
      "\u001b[1m277/277\u001b[0m \u001b[32m━━━━━━━━━━━━━━━━━━━━\u001b[0m\u001b[37m\u001b[0m \u001b[1m240s\u001b[0m 865ms/step - accuracy: 0.8826 - auc: 0.9340 - loss: 0.2991 - precision: 0.9070 - recall: 0.9237 - val_accuracy: 0.8508 - val_auc: 0.8957 - val_loss: 0.3828 - val_precision: 0.8787 - val_recall: 0.9079\n",
      "Epoch 16/20\n",
      "\u001b[1m277/277\u001b[0m \u001b[32m━━━━━━━━━━━━━━━━━━━━\u001b[0m\u001b[37m\u001b[0m \u001b[1m246s\u001b[0m 886ms/step - accuracy: 0.8913 - auc: 0.9502 - loss: 0.2617 - precision: 0.9119 - recall: 0.9316 - val_accuracy: 0.8019 - val_auc: 0.8720 - val_loss: 0.6946 - val_precision: 0.7858 - val_recall: 0.9779\n",
      "Epoch 17/20\n",
      "\u001b[1m277/277\u001b[0m \u001b[32m━━━━━━━━━━━━━━━━━━━━\u001b[0m\u001b[37m\u001b[0m \u001b[1m117s\u001b[0m 419ms/step - accuracy: 0.9030 - auc: 0.9595 - loss: 0.2383 - precision: 0.9259 - recall: 0.9334 - val_accuracy: 0.8432 - val_auc: 0.8839 - val_loss: 0.4766 - val_precision: 0.8435 - val_recall: 0.9472\n",
      "Epoch 18/20\n",
      "\u001b[1m277/277\u001b[0m \u001b[32m━━━━━━━━━━━━━━━━━━━━\u001b[0m\u001b[37m\u001b[0m \u001b[1m101s\u001b[0m 366ms/step - accuracy: 0.9209 - auc: 0.9676 - loss: 0.2151 - precision: 0.9384 - recall: 0.9468 - val_accuracy: 0.8406 - val_auc: 0.8803 - val_loss: 0.4788 - val_precision: 0.8743 - val_recall: 0.8968\n",
      "Epoch 19/20\n",
      "\u001b[1m277/277\u001b[0m \u001b[32m━━━━━━━━━━━━━━━━━━━━\u001b[0m\u001b[37m\u001b[0m \u001b[1m100s\u001b[0m 361ms/step - accuracy: 0.9362 - auc: 0.9769 - loss: 0.1810 - precision: 0.9520 - recall: 0.9553 - val_accuracy: 0.7766 - val_auc: 0.8279 - val_loss: 0.7002 - val_precision: 0.8588 - val_recall: 0.8071\n",
      "Epoch 20/20\n",
      "\u001b[1m277/277\u001b[0m \u001b[32m━━━━━━━━━━━━━━━━━━━━\u001b[0m\u001b[37m\u001b[0m \u001b[1m100s\u001b[0m 361ms/step - accuracy: 0.9474 - auc: 0.9828 - loss: 0.1457 - precision: 0.9575 - recall: 0.9663 - val_accuracy: 0.7968 - val_auc: 0.8631 - val_loss: 0.8939 - val_precision: 0.9087 - val_recall: 0.7826\n"
     ]
    }
   ],
   "source": [
    "history = base_model.fit(\n",
    "        train_generator,\n",
    "        steps_per_epoch = len(train_generator), #Goes through all batches once per epoch. len(train_generator) = nr_train_images/train_batch_size\n",
    "        epochs = 20,\n",
    "        validation_data = val_generator,\n",
    "        validation_steps = len(val_generator) #Goes through all batches once per epoch\n",
    ")"
   ]
  },
  {
   "cell_type": "code",
   "execution_count": 38,
   "id": "a6609d46",
   "metadata": {},
   "outputs": [
    {
     "data": {
      "text/plain": [
       "dict_keys(['accuracy', 'auc', 'loss', 'precision', 'recall', 'val_accuracy', 'val_auc', 'val_loss', 'val_precision', 'val_recall'])"
      ]
     },
     "execution_count": 38,
     "metadata": {},
     "output_type": "execute_result"
    }
   ],
   "source": [
    "history.history.keys()"
   ]
  },
  {
   "cell_type": "code",
   "execution_count": 39,
   "id": "efe4c329",
   "metadata": {},
   "outputs": [],
   "source": [
    "accuracy = history.history['accuracy']\n",
    "val_acc = history.history ['val_accuracy']\n",
    "\n",
    "loss = history.history['loss']\n",
    "val_loss = history.history['val_loss']\n",
    "\n",
    "epochs = range(1, len(accuracy)+1)"
   ]
  },
  {
   "cell_type": "code",
   "execution_count": 63,
   "id": "de8cd3c1",
   "metadata": {},
   "outputs": [
    {
     "name": "stderr",
     "output_type": "stream",
     "text": [
      "C:\\Users\\pedro\\AppData\\Local\\Temp\\ipykernel_14036\\1738211133.py:11: UserWarning: color is redundantly defined by the 'color' keyword argument and the fmt string \"bo\" (-> color='b'). The keyword argument will take precedence.\n",
      "  axes[1].plot (epochs, loss, 'bo', color = 'red', label = 'Training Loss')\n",
      "C:\\Users\\pedro\\AppData\\Local\\Temp\\ipykernel_14036\\1738211133.py:12: UserWarning: color is redundantly defined by the 'color' keyword argument and the fmt string \"b\" (-> color=(0.0, 0.0, 1.0, 1)). The keyword argument will take precedence.\n",
      "  axes[1].plot (epochs, val_loss, 'b', color= 'red', label = 'Validation Loss')\n"
     ]
    },
    {
     "data": {
      "image/png": "[encoded data removed]",
      "text/plain": [
       "<Figure size 1500x500 with 2 Axes>"
      ]
     },
     "metadata": {},
     "output_type": "display_data"
    }
   ],
   "source": [
    "fig, axes = plt.subplots (nrows = 1, ncols = 2, figsize = (15,5))\n",
    "\n",
    "axes[0].plot (epochs, accuracy, 'bo', label = 'Training Accuracy')\n",
    "axes[0].plot (epochs, val_acc, 'b', label = 'Validation Accuracy')\n",
    "axes[0].set_title ('Training/Validation Accuracy')\n",
    "axes[0].set_xlabel ('Epochs')\n",
    "axes[0].set_xticks (range(0, len(accuracy)+1, 2))\n",
    "axes[0].legend()\n",
    "\n",
    "\n",
    "axes[1].plot (epochs, loss, 'bo', color = 'red', label = 'Training Loss')\n",
    "axes[1].plot (epochs, val_loss, 'b', color= 'red', label = 'Validation Loss')\n",
    "axes[1].set_title ('Training/Validation Loss')\n",
    "axes[1].set_xlabel('Epochs')\n",
    "axes[1].set_xticks (range(0, len(accuracy)+1, 2))\n",
    "axes[1].legend()\n",
    "\n",
    "plt.tight_layout()\n",
    "plt.show()"
   ]
  },
  {
   "cell_type": "code",
   "execution_count": 64,
   "id": "540f3aa9",
   "metadata": {},
   "outputs": [
    {
     "name": "stderr",
     "output_type": "stream",
     "text": [
      "WARNING:absl:You are saving your model as an HDF5 file via `model.save()` or `keras.saving.save_model(model)`. This file format is considered legacy. We recommend using instead the native Keras format, e.g. `model.save('my_model.keras')` or `keras.saving.save_model(model, 'my_model.keras')`. \n"
     ]
    }
   ],
   "source": [
    "base_model.save('models/baseline_model.h5')"
   ]
  }
 ],
 "metadata": {
  "kernelspec": {
   "display_name": "venv",
   "language": "python",
   "name": "python3"
  },
  "language_info": {
   "codemirror_mode": {
    "name": "ipython",
    "version": 3
   },
   "file_extension": ".py",
   "mimetype": "text/x-python",
   "name": "python",
   "nbconvert_exporter": "python",
   "pygments_lexer": "ipython3",
   "version": "3.12.0"
  }
 },
 "nbformat": 4,
 "nbformat_minor": 5
}
