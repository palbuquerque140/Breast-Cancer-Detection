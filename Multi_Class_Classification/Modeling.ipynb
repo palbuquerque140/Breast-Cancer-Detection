{
 "cells": [
  {
   "cell_type": "code",
   "execution_count": 1,
   "id": "69613f84",
   "metadata": {},
   "outputs": [],
   "source": [
    "import pandas as pd\n",
    "import numpy as np\n",
    "import seaborn as sns\n",
    "import matplotlib.pyplot as plt\n",
    "import os\n",
    "from tensorflow.keras import models\n",
    "from tensorflow.keras import layers\n",
    "from tensorflow.keras import optimizers\n",
    "from tensorflow.keras import metrics\n",
    "from tensorflow.keras.preprocessing.image import ImageDataGenerator\n",
    "from tensorflow.keras.callbacks import EarlyStopping, ModelCheckpoint"
   ]
  },
  {
   "cell_type": "code",
   "execution_count": 7,
   "id": "cb8b8b2c",
   "metadata": {},
   "outputs": [
    {
     "data": {
      "text/plain": [
       "['Adenosis',\n",
       " 'Ductal Carcinoma',\n",
       " 'Fibroadenoma',\n",
       " 'Lobular Carcinoma',\n",
       " 'Mucinous Carcinoma',\n",
       " 'Papillary Carcinoma',\n",
       " 'Phyllodes Tumor',\n",
       " 'Tubular Adenoma']"
      ]
     },
     "execution_count": 7,
     "metadata": {},
     "output_type": "execute_result"
    }
   ],
   "source": [
    "train_fld = r'..\\Multi_Class_Classification\\multi_class\\train'\n",
    "types = os.listdir(train_fld)\n",
    "types"
   ]
  },
  {
   "cell_type": "code",
   "execution_count": 45,
   "id": "2d461039",
   "metadata": {},
   "outputs": [],
   "source": [
    "df=pd.read_csv(r'..\\Data_Info\\image_data_preprocessed.csv')"
   ]
  },
  {
   "cell_type": "code",
   "execution_count": 48,
   "id": "e471a366",
   "metadata": {},
   "outputs": [
    {
     "data": {
      "text/html": [
       "<div>\n",
       "<style scoped>\n",
       "    .dataframe tbody tr th:only-of-type {\n",
       "        vertical-align: middle;\n",
       "    }\n",
       "\n",
       "    .dataframe tbody tr th {\n",
       "        vertical-align: top;\n",
       "    }\n",
       "\n",
       "    .dataframe thead th {\n",
       "        text-align: right;\n",
       "    }\n",
       "</style>\n",
       "<table border=\"1\" class=\"dataframe\">\n",
       "  <thead>\n",
       "    <tr style=\"text-align: right;\">\n",
       "      <th></th>\n",
       "      <th>Unnamed: 0</th>\n",
       "      <th>path_to_image</th>\n",
       "      <th>Benign or Malignant</th>\n",
       "      <th>Cancer Type</th>\n",
       "      <th>Magnification</th>\n",
       "      <th>image_name</th>\n",
       "    </tr>\n",
       "  </thead>\n",
       "  <tbody>\n",
       "    <tr>\n",
       "      <th>0</th>\n",
       "      <td>0</td>\n",
       "      <td>BreaKHis_v1/histology_slides/breast/benign/SOB...</td>\n",
       "      <td>Benign</td>\n",
       "      <td>Adenosis</td>\n",
       "      <td>100X</td>\n",
       "      <td>SOB_B_A-14-22549AB-100-011.png</td>\n",
       "    </tr>\n",
       "    <tr>\n",
       "      <th>1</th>\n",
       "      <td>1</td>\n",
       "      <td>BreaKHis_v1/histology_slides/breast/benign/SOB...</td>\n",
       "      <td>Benign</td>\n",
       "      <td>Adenosis</td>\n",
       "      <td>100X</td>\n",
       "      <td>SOB_B_A-14-22549AB-100-005.png</td>\n",
       "    </tr>\n",
       "    <tr>\n",
       "      <th>2</th>\n",
       "      <td>2</td>\n",
       "      <td>BreaKHis_v1/histology_slides/breast/benign/SOB...</td>\n",
       "      <td>Benign</td>\n",
       "      <td>Adenosis</td>\n",
       "      <td>100X</td>\n",
       "      <td>SOB_B_A-14-22549AB-100-004.png</td>\n",
       "    </tr>\n",
       "    <tr>\n",
       "      <th>3</th>\n",
       "      <td>3</td>\n",
       "      <td>BreaKHis_v1/histology_slides/breast/benign/SOB...</td>\n",
       "      <td>Benign</td>\n",
       "      <td>Adenosis</td>\n",
       "      <td>100X</td>\n",
       "      <td>SOB_B_A-14-22549AB-100-010.png</td>\n",
       "    </tr>\n",
       "    <tr>\n",
       "      <th>4</th>\n",
       "      <td>4</td>\n",
       "      <td>BreaKHis_v1/histology_slides/breast/benign/SOB...</td>\n",
       "      <td>Benign</td>\n",
       "      <td>Adenosis</td>\n",
       "      <td>100X</td>\n",
       "      <td>SOB_B_A-14-22549AB-100-006.png</td>\n",
       "    </tr>\n",
       "    <tr>\n",
       "      <th>...</th>\n",
       "      <td>...</td>\n",
       "      <td>...</td>\n",
       "      <td>...</td>\n",
       "      <td>...</td>\n",
       "      <td>...</td>\n",
       "      <td>...</td>\n",
       "    </tr>\n",
       "    <tr>\n",
       "      <th>7904</th>\n",
       "      <td>7904</td>\n",
       "      <td>BreaKHis_v1/histology_slides/breast/malignant/...</td>\n",
       "      <td>Malignant</td>\n",
       "      <td>Lobular Carcinoma</td>\n",
       "      <td>200X</td>\n",
       "      <td>SOB_M_LC-14-12204-200-028.png</td>\n",
       "    </tr>\n",
       "    <tr>\n",
       "      <th>7905</th>\n",
       "      <td>7905</td>\n",
       "      <td>BreaKHis_v1/histology_slides/breast/malignant/...</td>\n",
       "      <td>Malignant</td>\n",
       "      <td>Lobular Carcinoma</td>\n",
       "      <td>200X</td>\n",
       "      <td>SOB_M_LC-14-12204-200-029.png</td>\n",
       "    </tr>\n",
       "    <tr>\n",
       "      <th>7906</th>\n",
       "      <td>7906</td>\n",
       "      <td>BreaKHis_v1/histology_slides/breast/malignant/...</td>\n",
       "      <td>Malignant</td>\n",
       "      <td>Lobular Carcinoma</td>\n",
       "      <td>200X</td>\n",
       "      <td>SOB_M_LC-14-12204-200-006.png</td>\n",
       "    </tr>\n",
       "    <tr>\n",
       "      <th>7907</th>\n",
       "      <td>7907</td>\n",
       "      <td>BreaKHis_v1/histology_slides/breast/malignant/...</td>\n",
       "      <td>Malignant</td>\n",
       "      <td>Lobular Carcinoma</td>\n",
       "      <td>200X</td>\n",
       "      <td>SOB_M_LC-14-12204-200-039.png</td>\n",
       "    </tr>\n",
       "    <tr>\n",
       "      <th>7908</th>\n",
       "      <td>7908</td>\n",
       "      <td>BreaKHis_v1/histology_slides/breast/malignant/...</td>\n",
       "      <td>Malignant</td>\n",
       "      <td>Lobular Carcinoma</td>\n",
       "      <td>200X</td>\n",
       "      <td>SOB_M_LC-14-12204-200-038.png</td>\n",
       "    </tr>\n",
       "  </tbody>\n",
       "</table>\n",
       "<p>7909 rows × 6 columns</p>\n",
       "</div>"
      ],
      "text/plain": [
       "      Unnamed: 0                                      path_to_image  \\\n",
       "0              0  BreaKHis_v1/histology_slides/breast/benign/SOB...   \n",
       "1              1  BreaKHis_v1/histology_slides/breast/benign/SOB...   \n",
       "2              2  BreaKHis_v1/histology_slides/breast/benign/SOB...   \n",
       "3              3  BreaKHis_v1/histology_slides/breast/benign/SOB...   \n",
       "4              4  BreaKHis_v1/histology_slides/breast/benign/SOB...   \n",
       "...          ...                                                ...   \n",
       "7904        7904  BreaKHis_v1/histology_slides/breast/malignant/...   \n",
       "7905        7905  BreaKHis_v1/histology_slides/breast/malignant/...   \n",
       "7906        7906  BreaKHis_v1/histology_slides/breast/malignant/...   \n",
       "7907        7907  BreaKHis_v1/histology_slides/breast/malignant/...   \n",
       "7908        7908  BreaKHis_v1/histology_slides/breast/malignant/...   \n",
       "\n",
       "     Benign or Malignant        Cancer Type Magnification  \\\n",
       "0                 Benign           Adenosis          100X   \n",
       "1                 Benign           Adenosis          100X   \n",
       "2                 Benign           Adenosis          100X   \n",
       "3                 Benign           Adenosis          100X   \n",
       "4                 Benign           Adenosis          100X   \n",
       "...                  ...                ...           ...   \n",
       "7904           Malignant  Lobular Carcinoma          200X   \n",
       "7905           Malignant  Lobular Carcinoma          200X   \n",
       "7906           Malignant  Lobular Carcinoma          200X   \n",
       "7907           Malignant  Lobular Carcinoma          200X   \n",
       "7908           Malignant  Lobular Carcinoma          200X   \n",
       "\n",
       "                          image_name  \n",
       "0     SOB_B_A-14-22549AB-100-011.png  \n",
       "1     SOB_B_A-14-22549AB-100-005.png  \n",
       "2     SOB_B_A-14-22549AB-100-004.png  \n",
       "3     SOB_B_A-14-22549AB-100-010.png  \n",
       "4     SOB_B_A-14-22549AB-100-006.png  \n",
       "...                              ...  \n",
       "7904   SOB_M_LC-14-12204-200-028.png  \n",
       "7905   SOB_M_LC-14-12204-200-029.png  \n",
       "7906   SOB_M_LC-14-12204-200-006.png  \n",
       "7907   SOB_M_LC-14-12204-200-039.png  \n",
       "7908   SOB_M_LC-14-12204-200-038.png  \n",
       "\n",
       "[7909 rows x 6 columns]"
      ]
     },
     "execution_count": 48,
     "metadata": {},
     "output_type": "execute_result"
    }
   ],
   "source": [
    "df"
   ]
  },
  {
   "cell_type": "code",
   "execution_count": 69,
   "id": "29113146",
   "metadata": {},
   "outputs": [],
   "source": [
    "df_type = df.groupby('Cancer Type').agg({'Cancer Type':'count'}).rename(columns = {'Cancer Type':'Count'})"
   ]
  },
  {
   "cell_type": "code",
   "execution_count": 79,
   "id": "d841f408",
   "metadata": {},
   "outputs": [],
   "source": [
    "df_type ['Percentage'] = df_type['Count'].apply (lambda x: (x / df_type['Count'].sum()*100).round(2))"
   ]
  },
  {
   "cell_type": "code",
   "execution_count": 77,
   "id": "8266353e",
   "metadata": {},
   "outputs": [
    {
     "data": {
      "text/html": [
       "<div>\n",
       "<style scoped>\n",
       "    .dataframe tbody tr th:only-of-type {\n",
       "        vertical-align: middle;\n",
       "    }\n",
       "\n",
       "    .dataframe tbody tr th {\n",
       "        vertical-align: top;\n",
       "    }\n",
       "\n",
       "    .dataframe thead th {\n",
       "        text-align: right;\n",
       "    }\n",
       "</style>\n",
       "<table border=\"1\" class=\"dataframe\">\n",
       "  <thead>\n",
       "    <tr style=\"text-align: right;\">\n",
       "      <th></th>\n",
       "      <th>Count</th>\n",
       "      <th>Percentage</th>\n",
       "    </tr>\n",
       "    <tr>\n",
       "      <th>Cancer Type</th>\n",
       "      <th></th>\n",
       "      <th></th>\n",
       "    </tr>\n",
       "  </thead>\n",
       "  <tbody>\n",
       "    <tr>\n",
       "      <th>Adenosis</th>\n",
       "      <td>444</td>\n",
       "      <td>5.61</td>\n",
       "    </tr>\n",
       "    <tr>\n",
       "      <th>Ductal Carcinoma</th>\n",
       "      <td>3451</td>\n",
       "      <td>43.63</td>\n",
       "    </tr>\n",
       "    <tr>\n",
       "      <th>Fibroadenoma</th>\n",
       "      <td>1014</td>\n",
       "      <td>12.82</td>\n",
       "    </tr>\n",
       "    <tr>\n",
       "      <th>Lobular Carcinoma</th>\n",
       "      <td>626</td>\n",
       "      <td>7.92</td>\n",
       "    </tr>\n",
       "    <tr>\n",
       "      <th>Mucinous Carcinoma</th>\n",
       "      <td>792</td>\n",
       "      <td>10.01</td>\n",
       "    </tr>\n",
       "    <tr>\n",
       "      <th>Papillary Carcinoma</th>\n",
       "      <td>560</td>\n",
       "      <td>7.08</td>\n",
       "    </tr>\n",
       "    <tr>\n",
       "      <th>Phyllodes Tumor</th>\n",
       "      <td>453</td>\n",
       "      <td>5.73</td>\n",
       "    </tr>\n",
       "    <tr>\n",
       "      <th>Tubular Adenoma</th>\n",
       "      <td>569</td>\n",
       "      <td>7.19</td>\n",
       "    </tr>\n",
       "  </tbody>\n",
       "</table>\n",
       "</div>"
      ],
      "text/plain": [
       "                     Count  Percentage\n",
       "Cancer Type                           \n",
       "Adenosis               444        5.61\n",
       "Ductal Carcinoma      3451       43.63\n",
       "Fibroadenoma          1014       12.82\n",
       "Lobular Carcinoma      626        7.92\n",
       "Mucinous Carcinoma     792       10.01\n",
       "Papillary Carcinoma    560        7.08\n",
       "Phyllodes Tumor        453        5.73\n",
       "Tubular Adenoma        569        7.19"
      ]
     },
     "execution_count": 77,
     "metadata": {},
     "output_type": "execute_result"
    }
   ],
   "source": [
    "df_type"
   ]
  },
  {
   "cell_type": "markdown",
   "id": "6f287185",
   "metadata": {},
   "source": [
    "TRAIN"
   ]
  },
  {
   "cell_type": "code",
   "execution_count": 18,
   "id": "0aaa14f3",
   "metadata": {},
   "outputs": [],
   "source": [
    "train_dic = {}\n",
    "for i in types:\n",
    "    ct = len(os.listdir(os.path.join(train_fld, i)))\n",
    "    train_dic[i]=ct"
   ]
  },
  {
   "cell_type": "code",
   "execution_count": 24,
   "id": "bd39116b",
   "metadata": {},
   "outputs": [],
   "source": [
    "total_train = 0\n",
    "for val in train_dic.values():\n",
    "    total_train += val"
   ]
  },
  {
   "cell_type": "code",
   "execution_count": 44,
   "id": "5e9aab79",
   "metadata": {},
   "outputs": [
    {
     "name": "stdout",
     "output_type": "stream",
     "text": [
      "Adenosis: 311 images, 5.62%\n",
      "Ductal Carcinoma: 2416 images, 43.64%\n",
      "Fibroadenoma: 710 images, 12.83%\n",
      "Lobular Carcinoma: 438 images, 7.91%\n",
      "Mucinous Carcinoma: 554 images, 10.01%\n",
      "Papillary Carcinoma: 392 images, 7.08%\n",
      "Phyllodes Tumor: 317 images, 5.73%\n",
      "Tubular Adenoma: 398 images, 7.19%\n"
     ]
    }
   ],
   "source": [
    "for i in range (len(train_dic)):\n",
    "    print (f'{list(train_dic.keys())[i]}: {list(train_dic.values())[i]} images, {list(train_dic.values())[i]/total_train*100:.2f}%')"
   ]
  },
  {
   "cell_type": "markdown",
   "id": "c4aef1a7",
   "metadata": {},
   "source": [
    "VALIDATION"
   ]
  },
  {
   "cell_type": "code",
   "execution_count": 80,
   "id": "9a6427fa",
   "metadata": {},
   "outputs": [],
   "source": [
    "val_fld = r'..\\Multi_Class_Classification\\multi_class\\validation'\n",
    "\n",
    "val_dic = {}\n",
    "for i in types:\n",
    "    ct = len(os.listdir(os.path.join(val_fld, i)))\n",
    "    val_dic[i]=ct"
   ]
  },
  {
   "cell_type": "code",
   "execution_count": 83,
   "id": "02a7e405",
   "metadata": {},
   "outputs": [],
   "source": [
    "total_val = 0\n",
    "for val in val_dic.values():\n",
    "    total_val += val"
   ]
  },
  {
   "cell_type": "code",
   "execution_count": 84,
   "id": "380b61e6",
   "metadata": {},
   "outputs": [
    {
     "name": "stdout",
     "output_type": "stream",
     "text": [
      "Adenosis: 67 images, 5.65%\n",
      "Ductal Carcinoma: 517 images, 43.59%\n",
      "Fibroadenoma: 152 images, 12.82%\n",
      "Lobular Carcinoma: 94 images, 7.93%\n",
      "Mucinous Carcinoma: 119 images, 10.03%\n",
      "Papillary Carcinoma: 84 images, 7.08%\n",
      "Phyllodes Tumor: 68 images, 5.73%\n",
      "Tubular Adenoma: 85 images, 7.17%\n"
     ]
    }
   ],
   "source": [
    "for i in range (len(val_dic)):\n",
    "    print (f'{list(val_dic.keys())[i]}: {list(val_dic.values())[i]} images, {list(val_dic.values())[i]/total_val*100:.2f}%')"
   ]
  },
  {
   "cell_type": "markdown",
   "id": "ed93200e",
   "metadata": {},
   "source": [
    "Validation Datagen"
   ]
  },
  {
   "cell_type": "code",
   "execution_count": 90,
   "id": "98698cbb",
   "metadata": {},
   "outputs": [],
   "source": [
    "val_datagen = ImageDataGenerator(rescale = 1./255)"
   ]
  },
  {
   "cell_type": "code",
   "execution_count": 91,
   "id": "a6e1c432",
   "metadata": {},
   "outputs": [
    {
     "name": "stdout",
     "output_type": "stream",
     "text": [
      "Found 1186 images belonging to 8 classes.\n"
     ]
    }
   ],
   "source": [
    "val_dir = r'..\\Multi_Class_Classification\\multi_class\\validation'\n",
    "val_generator = val_datagen.flow_from_directory( \n",
    "    val_dir,           \n",
    "    target_size=(150,150), \n",
    "    batch_size=20,  \n",
    "    class_mode='categorical',\n",
    "    shuffle = False \n",
    ")"
   ]
  },
  {
   "cell_type": "markdown",
   "id": "38e57aa8",
   "metadata": {},
   "source": [
    "### Model Training ###\n",
    "---"
   ]
  },
  {
   "cell_type": "markdown",
   "id": "dd3a2d78",
   "metadata": {},
   "source": [
    "Baseline"
   ]
  },
  {
   "cell_type": "code",
   "execution_count": 85,
   "id": "298e894b",
   "metadata": {},
   "outputs": [],
   "source": [
    "train_datagen = ImageDataGenerator(rescale = 1./255)"
   ]
  },
  {
   "cell_type": "code",
   "execution_count": 87,
   "id": "e8274c56",
   "metadata": {},
   "outputs": [
    {
     "name": "stdout",
     "output_type": "stream",
     "text": [
      "Found 5536 images belonging to 8 classes.\n"
     ]
    }
   ],
   "source": [
    "train_dir = r'..\\Multi_Class_Classification\\multi_class\\train'\n",
    "train_generator = train_datagen.flow_from_directory( \n",
    "    train_dir,         \n",
    "    target_size=(150,150), \n",
    "    batch_size=20,  \n",
    "    class_mode='categorical')"
   ]
  },
  {
   "cell_type": "code",
   "execution_count": 94,
   "id": "3449831f",
   "metadata": {},
   "outputs": [
    {
     "data": {
      "text/plain": [
       "{'Adenosis': 0,\n",
       " 'Ductal Carcinoma': 1,\n",
       " 'Fibroadenoma': 2,\n",
       " 'Lobular Carcinoma': 3,\n",
       " 'Mucinous Carcinoma': 4,\n",
       " 'Papillary Carcinoma': 5,\n",
       " 'Phyllodes Tumor': 6,\n",
       " 'Tubular Adenoma': 7}"
      ]
     },
     "execution_count": 94,
     "metadata": {},
     "output_type": "execute_result"
    }
   ],
   "source": [
    "train_generator.class_indices"
   ]
  },
  {
   "cell_type": "code",
   "execution_count": 95,
   "id": "9638605b",
   "metadata": {},
   "outputs": [
    {
     "name": "stdout",
     "output_type": "stream",
     "text": [
      "data batch shape: (20, 150, 150, 3)\n",
      "labels batch shape: (20, 8)\n"
     ]
    }
   ],
   "source": [
    "for data_batch, labels_batch in train_generator:\n",
    "    print('data batch shape:', data_batch.shape)\n",
    "    print('labels batch shape:', labels_batch.shape)\n",
    "    break"
   ]
  },
  {
   "cell_type": "code",
   "execution_count": 92,
   "id": "1f693feb",
   "metadata": {},
   "outputs": [
    {
     "name": "stderr",
     "output_type": "stream",
     "text": [
      "c:\\Users\\pedro\\Desktop\\Breast-Cancer-Detection\\venv\\Lib\\site-packages\\keras\\src\\layers\\convolutional\\base_conv.py:113: UserWarning: Do not pass an `input_shape`/`input_dim` argument to a layer. When using Sequential models, prefer using an `Input(shape)` object as the first layer in the model instead.\n",
      "  super().__init__(activity_regularizer=activity_regularizer, **kwargs)\n"
     ]
    }
   ],
   "source": [
    "model_base = models.Sequential()\n",
    "model_base.add(layers.Conv2D(32, (3,3), activation='relu', input_shape=(150,150,3)))\n",
    "model_base.add(layers.MaxPooling2D(2,2))\n",
    "model_base.add(layers.Conv2D(64, (3,3), activation='relu'))\n",
    "model_base.add(layers.MaxPooling2D(2,2))\n",
    "model_base.add(layers.Conv2D(128, (3,3), activation='relu'))\n",
    "model_base.add(layers.MaxPooling2D(2,2))\n",
    "model_base.add(layers.Flatten())\n",
    "model_base.add(layers.Dense(512, activation='relu'))\n",
    "model_base.add(layers.Dense(8, activation='softmax'))"
   ]
  },
  {
   "cell_type": "code",
   "execution_count": 93,
   "id": "49bf0169",
   "metadata": {},
   "outputs": [
    {
     "data": {
      "text/html": [
       "<pre style=\"white-space:pre;overflow-x:auto;line-height:normal;font-family:Menlo,'DejaVu Sans Mono',consolas,'Courier New',monospace\"><span style=\"font-weight: bold\">Model: \"sequential\"</span>\n",
       "</pre>\n"
      ],
      "text/plain": [
       "\u001b[1mModel: \"sequential\"\u001b[0m\n"
      ]
     },
     "metadata": {},
     "output_type": "display_data"
    },
    {
     "data": {
      "text/html": [
       "<pre style=\"white-space:pre;overflow-x:auto;line-height:normal;font-family:Menlo,'DejaVu Sans Mono',consolas,'Courier New',monospace\">┏━━━━━━━━━━━━━━━━━━━━━━━━━━━━━━━━━┳━━━━━━━━━━━━━━━━━━━━━━━━┳━━━━━━━━━━━━━━━┓\n",
       "┃<span style=\"font-weight: bold\"> Layer (type)                    </span>┃<span style=\"font-weight: bold\"> Output Shape           </span>┃<span style=\"font-weight: bold\">       Param # </span>┃\n",
       "┡━━━━━━━━━━━━━━━━━━━━━━━━━━━━━━━━━╇━━━━━━━━━━━━━━━━━━━━━━━━╇━━━━━━━━━━━━━━━┩\n",
       "│ conv2d (<span style=\"color: #0087ff; text-decoration-color: #0087ff\">Conv2D</span>)                 │ (<span style=\"color: #00d7ff; text-decoration-color: #00d7ff\">None</span>, <span style=\"color: #00af00; text-decoration-color: #00af00\">148</span>, <span style=\"color: #00af00; text-decoration-color: #00af00\">148</span>, <span style=\"color: #00af00; text-decoration-color: #00af00\">32</span>)   │           <span style=\"color: #00af00; text-decoration-color: #00af00\">896</span> │\n",
       "├─────────────────────────────────┼────────────────────────┼───────────────┤\n",
       "│ max_pooling2d (<span style=\"color: #0087ff; text-decoration-color: #0087ff\">MaxPooling2D</span>)    │ (<span style=\"color: #00d7ff; text-decoration-color: #00d7ff\">None</span>, <span style=\"color: #00af00; text-decoration-color: #00af00\">74</span>, <span style=\"color: #00af00; text-decoration-color: #00af00\">74</span>, <span style=\"color: #00af00; text-decoration-color: #00af00\">32</span>)     │             <span style=\"color: #00af00; text-decoration-color: #00af00\">0</span> │\n",
       "├─────────────────────────────────┼────────────────────────┼───────────────┤\n",
       "│ conv2d_1 (<span style=\"color: #0087ff; text-decoration-color: #0087ff\">Conv2D</span>)               │ (<span style=\"color: #00d7ff; text-decoration-color: #00d7ff\">None</span>, <span style=\"color: #00af00; text-decoration-color: #00af00\">72</span>, <span style=\"color: #00af00; text-decoration-color: #00af00\">72</span>, <span style=\"color: #00af00; text-decoration-color: #00af00\">64</span>)     │        <span style=\"color: #00af00; text-decoration-color: #00af00\">18,496</span> │\n",
       "├─────────────────────────────────┼────────────────────────┼───────────────┤\n",
       "│ max_pooling2d_1 (<span style=\"color: #0087ff; text-decoration-color: #0087ff\">MaxPooling2D</span>)  │ (<span style=\"color: #00d7ff; text-decoration-color: #00d7ff\">None</span>, <span style=\"color: #00af00; text-decoration-color: #00af00\">36</span>, <span style=\"color: #00af00; text-decoration-color: #00af00\">36</span>, <span style=\"color: #00af00; text-decoration-color: #00af00\">64</span>)     │             <span style=\"color: #00af00; text-decoration-color: #00af00\">0</span> │\n",
       "├─────────────────────────────────┼────────────────────────┼───────────────┤\n",
       "│ conv2d_2 (<span style=\"color: #0087ff; text-decoration-color: #0087ff\">Conv2D</span>)               │ (<span style=\"color: #00d7ff; text-decoration-color: #00d7ff\">None</span>, <span style=\"color: #00af00; text-decoration-color: #00af00\">34</span>, <span style=\"color: #00af00; text-decoration-color: #00af00\">34</span>, <span style=\"color: #00af00; text-decoration-color: #00af00\">128</span>)    │        <span style=\"color: #00af00; text-decoration-color: #00af00\">73,856</span> │\n",
       "├─────────────────────────────────┼────────────────────────┼───────────────┤\n",
       "│ max_pooling2d_2 (<span style=\"color: #0087ff; text-decoration-color: #0087ff\">MaxPooling2D</span>)  │ (<span style=\"color: #00d7ff; text-decoration-color: #00d7ff\">None</span>, <span style=\"color: #00af00; text-decoration-color: #00af00\">17</span>, <span style=\"color: #00af00; text-decoration-color: #00af00\">17</span>, <span style=\"color: #00af00; text-decoration-color: #00af00\">128</span>)    │             <span style=\"color: #00af00; text-decoration-color: #00af00\">0</span> │\n",
       "├─────────────────────────────────┼────────────────────────┼───────────────┤\n",
       "│ flatten (<span style=\"color: #0087ff; text-decoration-color: #0087ff\">Flatten</span>)               │ (<span style=\"color: #00d7ff; text-decoration-color: #00d7ff\">None</span>, <span style=\"color: #00af00; text-decoration-color: #00af00\">36992</span>)          │             <span style=\"color: #00af00; text-decoration-color: #00af00\">0</span> │\n",
       "├─────────────────────────────────┼────────────────────────┼───────────────┤\n",
       "│ dense (<span style=\"color: #0087ff; text-decoration-color: #0087ff\">Dense</span>)                   │ (<span style=\"color: #00d7ff; text-decoration-color: #00d7ff\">None</span>, <span style=\"color: #00af00; text-decoration-color: #00af00\">512</span>)            │    <span style=\"color: #00af00; text-decoration-color: #00af00\">18,940,416</span> │\n",
       "├─────────────────────────────────┼────────────────────────┼───────────────┤\n",
       "│ dense_1 (<span style=\"color: #0087ff; text-decoration-color: #0087ff\">Dense</span>)                 │ (<span style=\"color: #00d7ff; text-decoration-color: #00d7ff\">None</span>, <span style=\"color: #00af00; text-decoration-color: #00af00\">8</span>)              │         <span style=\"color: #00af00; text-decoration-color: #00af00\">4,104</span> │\n",
       "└─────────────────────────────────┴────────────────────────┴───────────────┘\n",
       "</pre>\n"
      ],
      "text/plain": [
       "┏━━━━━━━━━━━━━━━━━━━━━━━━━━━━━━━━━┳━━━━━━━━━━━━━━━━━━━━━━━━┳━━━━━━━━━━━━━━━┓\n",
       "┃\u001b[1m \u001b[0m\u001b[1mLayer (type)                   \u001b[0m\u001b[1m \u001b[0m┃\u001b[1m \u001b[0m\u001b[1mOutput Shape          \u001b[0m\u001b[1m \u001b[0m┃\u001b[1m \u001b[0m\u001b[1m      Param #\u001b[0m\u001b[1m \u001b[0m┃\n",
       "┡━━━━━━━━━━━━━━━━━━━━━━━━━━━━━━━━━╇━━━━━━━━━━━━━━━━━━━━━━━━╇━━━━━━━━━━━━━━━┩\n",
       "│ conv2d (\u001b[38;5;33mConv2D\u001b[0m)                 │ (\u001b[38;5;45mNone\u001b[0m, \u001b[38;5;34m148\u001b[0m, \u001b[38;5;34m148\u001b[0m, \u001b[38;5;34m32\u001b[0m)   │           \u001b[38;5;34m896\u001b[0m │\n",
       "├─────────────────────────────────┼────────────────────────┼───────────────┤\n",
       "│ max_pooling2d (\u001b[38;5;33mMaxPooling2D\u001b[0m)    │ (\u001b[38;5;45mNone\u001b[0m, \u001b[38;5;34m74\u001b[0m, \u001b[38;5;34m74\u001b[0m, \u001b[38;5;34m32\u001b[0m)     │             \u001b[38;5;34m0\u001b[0m │\n",
       "├─────────────────────────────────┼────────────────────────┼───────────────┤\n",
       "│ conv2d_1 (\u001b[38;5;33mConv2D\u001b[0m)               │ (\u001b[38;5;45mNone\u001b[0m, \u001b[38;5;34m72\u001b[0m, \u001b[38;5;34m72\u001b[0m, \u001b[38;5;34m64\u001b[0m)     │        \u001b[38;5;34m18,496\u001b[0m │\n",
       "├─────────────────────────────────┼────────────────────────┼───────────────┤\n",
       "│ max_pooling2d_1 (\u001b[38;5;33mMaxPooling2D\u001b[0m)  │ (\u001b[38;5;45mNone\u001b[0m, \u001b[38;5;34m36\u001b[0m, \u001b[38;5;34m36\u001b[0m, \u001b[38;5;34m64\u001b[0m)     │             \u001b[38;5;34m0\u001b[0m │\n",
       "├─────────────────────────────────┼────────────────────────┼───────────────┤\n",
       "│ conv2d_2 (\u001b[38;5;33mConv2D\u001b[0m)               │ (\u001b[38;5;45mNone\u001b[0m, \u001b[38;5;34m34\u001b[0m, \u001b[38;5;34m34\u001b[0m, \u001b[38;5;34m128\u001b[0m)    │        \u001b[38;5;34m73,856\u001b[0m │\n",
       "├─────────────────────────────────┼────────────────────────┼───────────────┤\n",
       "│ max_pooling2d_2 (\u001b[38;5;33mMaxPooling2D\u001b[0m)  │ (\u001b[38;5;45mNone\u001b[0m, \u001b[38;5;34m17\u001b[0m, \u001b[38;5;34m17\u001b[0m, \u001b[38;5;34m128\u001b[0m)    │             \u001b[38;5;34m0\u001b[0m │\n",
       "├─────────────────────────────────┼────────────────────────┼───────────────┤\n",
       "│ flatten (\u001b[38;5;33mFlatten\u001b[0m)               │ (\u001b[38;5;45mNone\u001b[0m, \u001b[38;5;34m36992\u001b[0m)          │             \u001b[38;5;34m0\u001b[0m │\n",
       "├─────────────────────────────────┼────────────────────────┼───────────────┤\n",
       "│ dense (\u001b[38;5;33mDense\u001b[0m)                   │ (\u001b[38;5;45mNone\u001b[0m, \u001b[38;5;34m512\u001b[0m)            │    \u001b[38;5;34m18,940,416\u001b[0m │\n",
       "├─────────────────────────────────┼────────────────────────┼───────────────┤\n",
       "│ dense_1 (\u001b[38;5;33mDense\u001b[0m)                 │ (\u001b[38;5;45mNone\u001b[0m, \u001b[38;5;34m8\u001b[0m)              │         \u001b[38;5;34m4,104\u001b[0m │\n",
       "└─────────────────────────────────┴────────────────────────┴───────────────┘\n"
      ]
     },
     "metadata": {},
     "output_type": "display_data"
    },
    {
     "data": {
      "text/html": [
       "<pre style=\"white-space:pre;overflow-x:auto;line-height:normal;font-family:Menlo,'DejaVu Sans Mono',consolas,'Courier New',monospace\"><span style=\"font-weight: bold\"> Total params: </span><span style=\"color: #00af00; text-decoration-color: #00af00\">19,037,768</span> (72.62 MB)\n",
       "</pre>\n"
      ],
      "text/plain": [
       "\u001b[1m Total params: \u001b[0m\u001b[38;5;34m19,037,768\u001b[0m (72.62 MB)\n"
      ]
     },
     "metadata": {},
     "output_type": "display_data"
    },
    {
     "data": {
      "text/html": [
       "<pre style=\"white-space:pre;overflow-x:auto;line-height:normal;font-family:Menlo,'DejaVu Sans Mono',consolas,'Courier New',monospace\"><span style=\"font-weight: bold\"> Trainable params: </span><span style=\"color: #00af00; text-decoration-color: #00af00\">19,037,768</span> (72.62 MB)\n",
       "</pre>\n"
      ],
      "text/plain": [
       "\u001b[1m Trainable params: \u001b[0m\u001b[38;5;34m19,037,768\u001b[0m (72.62 MB)\n"
      ]
     },
     "metadata": {},
     "output_type": "display_data"
    },
    {
     "data": {
      "text/html": [
       "<pre style=\"white-space:pre;overflow-x:auto;line-height:normal;font-family:Menlo,'DejaVu Sans Mono',consolas,'Courier New',monospace\"><span style=\"font-weight: bold\"> Non-trainable params: </span><span style=\"color: #00af00; text-decoration-color: #00af00\">0</span> (0.00 B)\n",
       "</pre>\n"
      ],
      "text/plain": [
       "\u001b[1m Non-trainable params: \u001b[0m\u001b[38;5;34m0\u001b[0m (0.00 B)\n"
      ]
     },
     "metadata": {},
     "output_type": "display_data"
    }
   ],
   "source": [
    "model_base.summary()"
   ]
  },
  {
   "cell_type": "code",
   "execution_count": 96,
   "id": "eeb8d660",
   "metadata": {},
   "outputs": [],
   "source": [
    "model_base.compile (loss = 'categorical_crossentropy', \n",
    "                    optimizer = optimizers.RMSprop(learning_rate = 0.001),\n",
    "                    metrics = ['accuracy', 'recall', 'precision', 'auc']) "
   ]
  },
  {
   "cell_type": "code",
   "execution_count": 97,
   "id": "97e20352",
   "metadata": {},
   "outputs": [],
   "source": [
    "callbacks = [\n",
    "    EarlyStopping(monitor='val_accuracy', mode= 'max', patience=3, restore_best_weights=True), \n",
    "    ModelCheckpoint('Multi_Class_Classification/models/model_base.h5', save_best_only=True)]"
   ]
  },
  {
   "cell_type": "code",
   "execution_count": 98,
   "id": "4e4cc9ad",
   "metadata": {},
   "outputs": [
    {
     "name": "stderr",
     "output_type": "stream",
     "text": [
      "c:\\Users\\pedro\\Desktop\\Breast-Cancer-Detection\\venv\\Lib\\site-packages\\keras\\src\\trainers\\data_adapters\\py_dataset_adapter.py:121: UserWarning: Your `PyDataset` class should call `super().__init__(**kwargs)` in its constructor. `**kwargs` can include `workers`, `use_multiprocessing`, `max_queue_size`. Do not pass these arguments to `fit()`, as they will be ignored.\n",
      "  self._warn_if_super_not_called()\n"
     ]
    },
    {
     "name": "stdout",
     "output_type": "stream",
     "text": [
      "Epoch 1/15\n",
      "\u001b[1m277/277\u001b[0m \u001b[32m━━━━━━━━━━━━━━━━━━━━\u001b[0m\u001b[37m\u001b[0m \u001b[1m0s\u001b[0m 334ms/step - accuracy: 0.4058 - auc: 0.7013 - loss: 2.5097 - precision: 0.4952 - recall: 0.1298"
     ]
    },
    {
     "name": "stderr",
     "output_type": "stream",
     "text": [
      "WARNING:absl:You are saving your model as an HDF5 file via `model.save()` or `keras.saving.save_model(model)`. This file format is considered legacy. We recommend using instead the native Keras format, e.g. `model.save('my_model.keras')` or `keras.saving.save_model(model, 'my_model.keras')`. \n"
     ]
    },
    {
     "name": "stdout",
     "output_type": "stream",
     "text": [
      "\u001b[1m277/277\u001b[0m \u001b[32m━━━━━━━━━━━━━━━━━━━━\u001b[0m\u001b[37m\u001b[0m \u001b[1m111s\u001b[0m 393ms/step - accuracy: 0.4426 - auc: 0.7415 - loss: 1.8705 - precision: 0.5594 - recall: 0.1709 - val_accuracy: 0.4275 - val_auc: 0.7643 - val_loss: 1.6825 - val_precision: 0.7760 - val_recall: 0.1256\n",
      "Epoch 2/15\n",
      "\u001b[1m277/277\u001b[0m \u001b[32m━━━━━━━━━━━━━━━━━━━━\u001b[0m\u001b[37m\u001b[0m \u001b[1m0s\u001b[0m 459ms/step - accuracy: 0.4622 - auc: 0.7892 - loss: 1.6125 - precision: 0.6486 - recall: 0.2260"
     ]
    },
    {
     "name": "stderr",
     "output_type": "stream",
     "text": [
      "WARNING:absl:You are saving your model as an HDF5 file via `model.save()` or `keras.saving.save_model(model)`. This file format is considered legacy. We recommend using instead the native Keras format, e.g. `model.save('my_model.keras')` or `keras.saving.save_model(model, 'my_model.keras')`. \n"
     ]
    },
    {
     "name": "stdout",
     "output_type": "stream",
     "text": [
      "\u001b[1m277/277\u001b[0m \u001b[32m━━━━━━━━━━━━━━━━━━━━\u001b[0m\u001b[37m\u001b[0m \u001b[1m166s\u001b[0m 600ms/step - accuracy: 0.4769 - auc: 0.8028 - loss: 1.5727 - precision: 0.6500 - recall: 0.2442 - val_accuracy: 0.4806 - val_auc: 0.8222 - val_loss: 1.5011 - val_precision: 0.7601 - val_recall: 0.2538\n",
      "Epoch 3/15\n",
      "\u001b[1m277/277\u001b[0m \u001b[32m━━━━━━━━━━━━━━━━━━━━\u001b[0m\u001b[37m\u001b[0m \u001b[1m0s\u001b[0m 783ms/step - accuracy: 0.4826 - auc: 0.8203 - loss: 1.5250 - precision: 0.6331 - recall: 0.2493"
     ]
    },
    {
     "name": "stderr",
     "output_type": "stream",
     "text": [
      "WARNING:absl:You are saving your model as an HDF5 file via `model.save()` or `keras.saving.save_model(model)`. This file format is considered legacy. We recommend using instead the native Keras format, e.g. `model.save('my_model.keras')` or `keras.saving.save_model(model, 'my_model.keras')`. \n"
     ]
    },
    {
     "name": "stdout",
     "output_type": "stream",
     "text": [
      "\u001b[1m277/277\u001b[0m \u001b[32m━━━━━━━━━━━━━━━━━━━━\u001b[0m\u001b[37m\u001b[0m \u001b[1m258s\u001b[0m 932ms/step - accuracy: 0.4966 - auc: 0.8308 - loss: 1.4821 - precision: 0.6489 - recall: 0.2787 - val_accuracy: 0.5531 - val_auc: 0.8815 - val_loss: 1.3167 - val_precision: 0.7467 - val_recall: 0.2884\n",
      "Epoch 4/15\n",
      "\u001b[1m277/277\u001b[0m \u001b[32m━━━━━━━━━━━━━━━━━━━━\u001b[0m\u001b[37m\u001b[0m \u001b[1m0s\u001b[0m 806ms/step - accuracy: 0.5150 - auc: 0.8499 - loss: 1.4067 - precision: 0.6700 - recall: 0.3273"
     ]
    },
    {
     "name": "stderr",
     "output_type": "stream",
     "text": [
      "WARNING:absl:You are saving your model as an HDF5 file via `model.save()` or `keras.saving.save_model(model)`. This file format is considered legacy. We recommend using instead the native Keras format, e.g. `model.save('my_model.keras')` or `keras.saving.save_model(model, 'my_model.keras')`. \n"
     ]
    },
    {
     "name": "stdout",
     "output_type": "stream",
     "text": [
      "\u001b[1m277/277\u001b[0m \u001b[32m━━━━━━━━━━━━━━━━━━━━\u001b[0m\u001b[37m\u001b[0m \u001b[1m261s\u001b[0m 943ms/step - accuracy: 0.5139 - auc: 0.8520 - loss: 1.4005 - precision: 0.6741 - recall: 0.3311 - val_accuracy: 0.5430 - val_auc: 0.8772 - val_loss: 1.2931 - val_precision: 0.7193 - val_recall: 0.3457\n",
      "Epoch 5/15\n",
      "\u001b[1m277/277\u001b[0m \u001b[32m━━━━━━━━━━━━━━━━━━━━\u001b[0m\u001b[37m\u001b[0m \u001b[1m0s\u001b[0m 779ms/step - accuracy: 0.5430 - auc: 0.8671 - loss: 1.3351 - precision: 0.6804 - recall: 0.3533"
     ]
    },
    {
     "name": "stderr",
     "output_type": "stream",
     "text": [
      "WARNING:absl:You are saving your model as an HDF5 file via `model.save()` or `keras.saving.save_model(model)`. This file format is considered legacy. We recommend using instead the native Keras format, e.g. `model.save('my_model.keras')` or `keras.saving.save_model(model, 'my_model.keras')`. \n"
     ]
    },
    {
     "name": "stdout",
     "output_type": "stream",
     "text": [
      "\u001b[1m277/277\u001b[0m \u001b[32m━━━━━━━━━━━━━━━━━━━━\u001b[0m\u001b[37m\u001b[0m \u001b[1m256s\u001b[0m 923ms/step - accuracy: 0.5343 - auc: 0.8680 - loss: 1.3346 - precision: 0.6735 - recall: 0.3562 - val_accuracy: 0.5734 - val_auc: 0.8923 - val_loss: 1.2670 - val_precision: 0.8194 - val_recall: 0.2487\n",
      "Epoch 6/15\n",
      "\u001b[1m277/277\u001b[0m \u001b[32m━━━━━━━━━━━━━━━━━━━━\u001b[0m\u001b[37m\u001b[0m \u001b[1m0s\u001b[0m 767ms/step - accuracy: 0.5596 - auc: 0.8846 - loss: 1.2559 - precision: 0.6851 - recall: 0.3830"
     ]
    },
    {
     "name": "stderr",
     "output_type": "stream",
     "text": [
      "WARNING:absl:You are saving your model as an HDF5 file via `model.save()` or `keras.saving.save_model(model)`. This file format is considered legacy. We recommend using instead the native Keras format, e.g. `model.save('my_model.keras')` or `keras.saving.save_model(model, 'my_model.keras')`. \n"
     ]
    },
    {
     "name": "stdout",
     "output_type": "stream",
     "text": [
      "\u001b[1m277/277\u001b[0m \u001b[32m━━━━━━━━━━━━━━━━━━━━\u001b[0m\u001b[37m\u001b[0m \u001b[1m253s\u001b[0m 912ms/step - accuracy: 0.5602 - auc: 0.8849 - loss: 1.2541 - precision: 0.6837 - recall: 0.3846 - val_accuracy: 0.5902 - val_auc: 0.8975 - val_loss: 1.1907 - val_precision: 0.6966 - val_recall: 0.4317\n",
      "Epoch 7/15\n",
      "\u001b[1m277/277\u001b[0m \u001b[32m━━━━━━━━━━━━━━━━━━━━\u001b[0m\u001b[37m\u001b[0m \u001b[1m261s\u001b[0m 941ms/step - accuracy: 0.5900 - auc: 0.9054 - loss: 1.1435 - precision: 0.7136 - recall: 0.4370 - val_accuracy: 0.5388 - val_auc: 0.8907 - val_loss: 1.2519 - val_precision: 0.6297 - val_recall: 0.4503\n",
      "Epoch 8/15\n",
      "\u001b[1m277/277\u001b[0m \u001b[32m━━━━━━━━━━━━━━━━━━━━\u001b[0m\u001b[37m\u001b[0m \u001b[1m250s\u001b[0m 902ms/step - accuracy: 0.6261 - auc: 0.9203 - loss: 1.0515 - precision: 0.7242 - recall: 0.4995 - val_accuracy: 0.5784 - val_auc: 0.8981 - val_loss: 1.2087 - val_precision: 0.6778 - val_recall: 0.4949\n",
      "Epoch 9/15\n",
      "\u001b[1m277/277\u001b[0m \u001b[32m━━━━━━━━━━━━━━━━━━━━\u001b[0m\u001b[37m\u001b[0m \u001b[1m227s\u001b[0m 820ms/step - accuracy: 0.6674 - auc: 0.9414 - loss: 0.9020 - precision: 0.7486 - recall: 0.5676 - val_accuracy: 0.5379 - val_auc: 0.8903 - val_loss: 1.2927 - val_precision: 0.6191 - val_recall: 0.4536\n"
     ]
    }
   ],
   "source": [
    "history_base = model_base.fit(\n",
    "    train_generator,\n",
    "    steps_per_epoch=len(train_generator),\n",
    "    epochs=15,\n",
    "    validation_data=val_generator,\n",
    "    validation_steps=len(val_generator),\n",
    "    callbacks=callbacks\n",
    ")"
   ]
  },
  {
   "cell_type": "markdown",
   "id": "18a8885e",
   "metadata": {},
   "source": [
    "### Class Weights Models to counter Imbalance ###\n",
    "---"
   ]
  },
  {
   "cell_type": "code",
   "execution_count": 99,
   "id": "9b487c52",
   "metadata": {},
   "outputs": [],
   "source": [
    "from sklearn.utils.class_weight import compute_class_weight"
   ]
  },
  {
   "cell_type": "code",
   "execution_count": 103,
   "id": "38d019c9",
   "metadata": {},
   "outputs": [],
   "source": [
    "classes = list(train_generator.class_indices.keys())\n",
    "num_classes = len(classes)\n",
    "labels = train_generator.classes"
   ]
  },
  {
   "cell_type": "code",
   "execution_count": 101,
   "id": "004aad64",
   "metadata": {},
   "outputs": [
    {
     "data": {
      "text/plain": [
       "['Adenosis',\n",
       " 'Ductal Carcinoma',\n",
       " 'Fibroadenoma',\n",
       " 'Lobular Carcinoma',\n",
       " 'Mucinous Carcinoma',\n",
       " 'Papillary Carcinoma',\n",
       " 'Phyllodes Tumor',\n",
       " 'Tubular Adenoma']"
      ]
     },
     "execution_count": 101,
     "metadata": {},
     "output_type": "execute_result"
    }
   ],
   "source": [
    "classes"
   ]
  },
  {
   "cell_type": "code",
   "execution_count": 102,
   "id": "17dd5a0a",
   "metadata": {},
   "outputs": [
    {
     "data": {
      "text/plain": [
       "8"
      ]
     },
     "execution_count": 102,
     "metadata": {},
     "output_type": "execute_result"
    }
   ],
   "source": [
    "num_classes"
   ]
  },
  {
   "cell_type": "code",
   "execution_count": 104,
   "id": "c08d9b78",
   "metadata": {},
   "outputs": [
    {
     "data": {
      "text/plain": [
       "array([0, 0, 0, ..., 7, 7, 7], shape=(5536,), dtype=int32)"
      ]
     },
     "execution_count": 104,
     "metadata": {},
     "output_type": "execute_result"
    }
   ],
   "source": [
    "labels"
   ]
  },
  {
   "cell_type": "markdown",
   "id": "2ca18a32",
   "metadata": {},
   "source": [
    "Compute Class Weights"
   ]
  },
  {
   "cell_type": "code",
   "execution_count": 115,
   "id": "9bd1565d",
   "metadata": {},
   "outputs": [],
   "source": [
    "class_weights = compute_class_weight('balanced', classes=np.arange(num_classes), y=labels)\n",
    "class_weights = dict(enumerate(class_weights))"
   ]
  },
  {
   "cell_type": "code",
   "execution_count": 116,
   "id": "2af14cf6",
   "metadata": {},
   "outputs": [
    {
     "name": "stdout",
     "output_type": "stream",
     "text": [
      "{0: np.float64(2.22508038585209), 1: np.float64(0.28642384105960267), 2: np.float64(0.9746478873239437), 3: np.float64(1.5799086757990868), 4: np.float64(1.2490974729241877), 5: np.float64(1.7653061224489797), 6: np.float64(2.182965299684543), 7: np.float64(1.7386934673366834)}\n"
     ]
    }
   ],
   "source": [
    "print(class_weights)"
   ]
  },
  {
   "cell_type": "code",
   "execution_count": 117,
   "id": "10f8d9a0",
   "metadata": {},
   "outputs": [
    {
     "name": "stderr",
     "output_type": "stream",
     "text": [
      "c:\\Users\\pedro\\Desktop\\Breast-Cancer-Detection\\venv\\Lib\\site-packages\\keras\\src\\layers\\convolutional\\base_conv.py:113: UserWarning: Do not pass an `input_shape`/`input_dim` argument to a layer. When using Sequential models, prefer using an `Input(shape)` object as the first layer in the model instead.\n",
      "  super().__init__(activity_regularizer=activity_regularizer, **kwargs)\n"
     ]
    }
   ],
   "source": [
    "model_clw = models.Sequential()\n",
    "model_clw.add(layers.Conv2D(32, (3,3), activation='relu', input_shape=(150,150,3)))\n",
    "model_clw.add(layers.MaxPooling2D(2,2))\n",
    "model_clw.add(layers.Conv2D(64, (3,3), activation='relu'))\n",
    "model_clw.add(layers.MaxPooling2D(2,2))\n",
    "model_clw.add(layers.Conv2D(128, (3,3), activation='relu'))\n",
    "model_clw.add(layers.MaxPooling2D(2,2))\n",
    "model_clw.add(layers.Flatten())\n",
    "model_clw.add(layers.Dense(512, activation='relu'))\n",
    "model_clw.add(layers.Dense(8, activation='softmax'))"
   ]
  },
  {
   "cell_type": "code",
   "execution_count": 118,
   "id": "79ec090b",
   "metadata": {},
   "outputs": [],
   "source": [
    "model_clw.compile (loss = 'categorical_crossentropy', \n",
    "                    optimizer = optimizers.RMSprop(learning_rate = 0.001),\n",
    "                    metrics = ['accuracy', 'recall', 'precision', 'auc']) "
   ]
  },
  {
   "cell_type": "code",
   "execution_count": 119,
   "id": "ac5bb69a",
   "metadata": {},
   "outputs": [],
   "source": [
    "callbacks_clw = [\n",
    "    EarlyStopping(monitor='val_accuracy', mode= 'max', patience=5, restore_best_weights=True), \n",
    "    ModelCheckpoint('Multi_Class_Classification/models/model_clw.h5', save_best_only=True)]"
   ]
  },
  {
   "cell_type": "code",
   "execution_count": 120,
   "id": "d3e5a6d7",
   "metadata": {},
   "outputs": [
    {
     "name": "stdout",
     "output_type": "stream",
     "text": [
      "Epoch 1/20\n",
      "\u001b[1m277/277\u001b[0m \u001b[32m━━━━━━━━━━━━━━━━━━━━\u001b[0m\u001b[37m\u001b[0m \u001b[1m0s\u001b[0m 347ms/step - accuracy: 0.1397 - auc: 0.5789 - loss: 2.3957 - precision: 0.1528 - recall: 0.0045"
     ]
    },
    {
     "name": "stderr",
     "output_type": "stream",
     "text": [
      "WARNING:absl:You are saving your model as an HDF5 file via `model.save()` or `keras.saving.save_model(model)`. This file format is considered legacy. We recommend using instead the native Keras format, e.g. `model.save('my_model.keras')` or `keras.saving.save_model(model, 'my_model.keras')`. \n"
     ]
    },
    {
     "name": "stdout",
     "output_type": "stream",
     "text": [
      "\u001b[1m277/277\u001b[0m \u001b[32m━━━━━━━━━━━━━━━━━━━━\u001b[0m\u001b[37m\u001b[0m \u001b[1m115s\u001b[0m 408ms/step - accuracy: 0.1835 - auc: 0.6143 - loss: 2.0957 - precision: 0.3515 - recall: 0.0128 - val_accuracy: 0.2622 - val_auc: 0.6957 - val_loss: 1.8749 - val_precision: 0.4035 - val_recall: 0.0194\n",
      "Epoch 2/20\n",
      "\u001b[1m277/277\u001b[0m \u001b[32m━━━━━━━━━━━━━━━━━━━━\u001b[0m\u001b[37m\u001b[0m \u001b[1m0s\u001b[0m 343ms/step - accuracy: 0.2776 - auc: 0.7162 - loss: 1.8785 - precision: 0.4868 - recall: 0.0502"
     ]
    },
    {
     "name": "stderr",
     "output_type": "stream",
     "text": [
      "WARNING:absl:You are saving your model as an HDF5 file via `model.save()` or `keras.saving.save_model(model)`. This file format is considered legacy. We recommend using instead the native Keras format, e.g. `model.save('my_model.keras')` or `keras.saving.save_model(model, 'my_model.keras')`. \n"
     ]
    },
    {
     "name": "stdout",
     "output_type": "stream",
     "text": [
      "\u001b[1m277/277\u001b[0m \u001b[32m━━━━━━━━━━━━━━━━━━━━\u001b[0m\u001b[37m\u001b[0m \u001b[1m110s\u001b[0m 398ms/step - accuracy: 0.2883 - auc: 0.7288 - loss: 1.8511 - precision: 0.5410 - recall: 0.0643 - val_accuracy: 0.3415 - val_auc: 0.7964 - val_loss: 1.6324 - val_precision: 0.6197 - val_recall: 0.0742\n",
      "Epoch 3/20\n",
      "\u001b[1m277/277\u001b[0m \u001b[32m━━━━━━━━━━━━━━━━━━━━\u001b[0m\u001b[37m\u001b[0m \u001b[1m0s\u001b[0m 750ms/step - accuracy: 0.3169 - auc: 0.7688 - loss: 1.7435 - precision: 0.6326 - recall: 0.1154"
     ]
    },
    {
     "name": "stderr",
     "output_type": "stream",
     "text": [
      "WARNING:absl:You are saving your model as an HDF5 file via `model.save()` or `keras.saving.save_model(model)`. This file format is considered legacy. We recommend using instead the native Keras format, e.g. `model.save('my_model.keras')` or `keras.saving.save_model(model, 'my_model.keras')`. \n"
     ]
    },
    {
     "name": "stdout",
     "output_type": "stream",
     "text": [
      "\u001b[1m277/277\u001b[0m \u001b[32m━━━━━━━━━━━━━━━━━━━━\u001b[0m\u001b[37m\u001b[0m \u001b[1m248s\u001b[0m 897ms/step - accuracy: 0.3143 - auc: 0.7730 - loss: 1.7324 - precision: 0.5950 - recall: 0.1040 - val_accuracy: 0.4477 - val_auc: 0.8433 - val_loss: 1.4605 - val_precision: 0.7358 - val_recall: 0.1855\n",
      "Epoch 4/20\n",
      "\u001b[1m277/277\u001b[0m \u001b[32m━━━━━━━━━━━━━━━━━━━━\u001b[0m\u001b[37m\u001b[0m \u001b[1m0s\u001b[0m 775ms/step - accuracy: 0.3395 - auc: 0.7973 - loss: 1.6548 - precision: 0.5238 - recall: 0.1159"
     ]
    },
    {
     "name": "stderr",
     "output_type": "stream",
     "text": [
      "WARNING:absl:You are saving your model as an HDF5 file via `model.save()` or `keras.saving.save_model(model)`. This file format is considered legacy. We recommend using instead the native Keras format, e.g. `model.save('my_model.keras')` or `keras.saving.save_model(model, 'my_model.keras')`. \n"
     ]
    },
    {
     "name": "stdout",
     "output_type": "stream",
     "text": [
      "\u001b[1m277/277\u001b[0m \u001b[32m━━━━━━━━━━━━━━━━━━━━\u001b[0m\u001b[37m\u001b[0m \u001b[1m257s\u001b[0m 929ms/step - accuracy: 0.3394 - auc: 0.7978 - loss: 1.6404 - precision: 0.5557 - recall: 0.1324 - val_accuracy: 0.4418 - val_auc: 0.8649 - val_loss: 1.3741 - val_precision: 0.6694 - val_recall: 0.2049\n",
      "Epoch 5/20\n",
      "\u001b[1m277/277\u001b[0m \u001b[32m━━━━━━━━━━━━━━━━━━━━\u001b[0m\u001b[37m\u001b[0m \u001b[1m154s\u001b[0m 553ms/step - accuracy: 0.3916 - auc: 0.8230 - loss: 1.5549 - precision: 0.5875 - recall: 0.1832 - val_accuracy: 0.4098 - val_auc: 0.8493 - val_loss: 1.4424 - val_precision: 0.6196 - val_recall: 0.1442\n",
      "Epoch 6/20\n",
      "\u001b[1m277/277\u001b[0m \u001b[32m━━━━━━━━━━━━━━━━━━━━\u001b[0m\u001b[37m\u001b[0m \u001b[1m263s\u001b[0m 948ms/step - accuracy: 0.4451 - auc: 0.8559 - loss: 1.3859 - precision: 0.6040 - recall: 0.2576 - val_accuracy: 0.3702 - val_auc: 0.8403 - val_loss: 1.4978 - val_precision: 0.4577 - val_recall: 0.1914\n",
      "Epoch 7/20\n",
      "\u001b[1m277/277\u001b[0m \u001b[32m━━━━━━━━━━━━━━━━━━━━\u001b[0m\u001b[37m\u001b[0m \u001b[1m270s\u001b[0m 976ms/step - accuracy: 0.5112 - auc: 0.8879 - loss: 1.1862 - precision: 0.6438 - recall: 0.3533 - val_accuracy: 0.4469 - val_auc: 0.8671 - val_loss: 1.4382 - val_precision: 0.5246 - val_recall: 0.3415\n",
      "Epoch 8/20\n",
      "\u001b[1m277/277\u001b[0m \u001b[32m━━━━━━━━━━━━━━━━━━━━\u001b[0m\u001b[37m\u001b[0m \u001b[1m271s\u001b[0m 977ms/step - accuracy: 0.5981 - auc: 0.9187 - loss: 0.9891 - precision: 0.7129 - recall: 0.4742 - val_accuracy: 0.2133 - val_auc: 0.6249 - val_loss: 3.0484 - val_precision: 0.2383 - val_recall: 0.1509\n"
     ]
    }
   ],
   "source": [
    "history_clw = model_clw.fit(\n",
    "    train_generator,\n",
    "    steps_per_epoch=len(train_generator),\n",
    "    epochs=20,\n",
    "    validation_data=val_generator,\n",
    "    validation_steps=len(val_generator),\n",
    "    callbacks=callbacks_clw,\n",
    "    class_weight = class_weights\n",
    ")"
   ]
  },
  {
   "cell_type": "markdown",
   "id": "1e78ba1c",
   "metadata": {},
   "source": [
    "Model is underfitting, not learning the paters. Next step will be to try to change the input size and improve the network topology."
   ]
  },
  {
   "cell_type": "code",
   "execution_count": 131,
   "id": "79105189",
   "metadata": {},
   "outputs": [
    {
     "name": "stdout",
     "output_type": "stream",
     "text": [
      "Found 5536 images belonging to 8 classes.\n"
     ]
    }
   ],
   "source": [
    "train_dir = r'..\\Multi_Class_Classification\\multi_class\\train'\n",
    "train_generator_2 = train_datagen.flow_from_directory( \n",
    "    train_dir,         \n",
    "    target_size=(224,224), \n",
    "    batch_size=32,  \n",
    "    class_mode='categorical')"
   ]
  },
  {
   "cell_type": "code",
   "execution_count": 156,
   "id": "b5ef07f1",
   "metadata": {},
   "outputs": [
    {
     "name": "stdout",
     "output_type": "stream",
     "text": [
      "Found 1186 images belonging to 8 classes.\n"
     ]
    }
   ],
   "source": [
    "val_dir = r'..\\Multi_Class_Classification\\multi_class\\validation'\n",
    "val_generator_2 = val_datagen.flow_from_directory( \n",
    "    val_dir,           \n",
    "    target_size=(224,224), \n",
    "    batch_size=20,  \n",
    "    class_mode='categorical',\n",
    "    shuffle = False \n",
    ")"
   ]
  },
  {
   "cell_type": "code",
   "execution_count": 133,
   "id": "c9aae854",
   "metadata": {},
   "outputs": [
    {
     "name": "stderr",
     "output_type": "stream",
     "text": [
      "c:\\Users\\pedro\\Desktop\\Breast-Cancer-Detection\\venv\\Lib\\site-packages\\keras\\src\\layers\\convolutional\\base_conv.py:113: UserWarning: Do not pass an `input_shape`/`input_dim` argument to a layer. When using Sequential models, prefer using an `Input(shape)` object as the first layer in the model instead.\n",
      "  super().__init__(activity_regularizer=activity_regularizer, **kwargs)\n"
     ]
    }
   ],
   "source": [
    "model_clw_s = models.Sequential()\n",
    "model_clw_s.add(layers.Conv2D(32, (3,3), activation='relu', input_shape=(224,224,3)))\n",
    "model_clw_s.add(layers.MaxPooling2D(2,2))\n",
    "model_clw_s.add(layers.Conv2D(64, (3,3), activation='relu'))\n",
    "model_clw_s.add(layers.MaxPooling2D(2,2))\n",
    "model_clw_s.add(layers.Conv2D(128, (3,3), activation='relu'))\n",
    "model_clw_s.add(layers.MaxPooling2D(2,2))\n",
    "model_clw_s.add(layers.Conv2D(256, (3,3), activation='relu'))\n",
    "model_clw_s.add(layers.MaxPooling2D(2,2))\n",
    "model_clw_s.add(layers.BatchNormalization())\n",
    "model_clw_s.add(layers.Flatten())\n",
    "model_clw_s.add(layers.Dense(512, activation='relu'))\n",
    "model_clw_s.add(layers.Dense(8, activation='softmax'))"
   ]
  },
  {
   "cell_type": "code",
   "execution_count": 134,
   "id": "df715e30",
   "metadata": {},
   "outputs": [],
   "source": [
    "model_clw_s.compile (loss = 'categorical_crossentropy', \n",
    "                    optimizer = optimizers.RMSprop(learning_rate = 0.001),\n",
    "                    metrics = ['accuracy', 'recall', 'precision', 'auc']) "
   ]
  },
  {
   "cell_type": "code",
   "execution_count": 135,
   "id": "7f109a1b",
   "metadata": {},
   "outputs": [],
   "source": [
    "callbacks_clw_s = [\n",
    "    EarlyStopping(monitor='val_accuracy', mode= 'max', patience=5, restore_best_weights=True), \n",
    "    ModelCheckpoint('Multi_Class_Classification/models/model_clw_s.h5', save_best_only=True)]"
   ]
  },
  {
   "cell_type": "code",
   "execution_count": 136,
   "id": "2b08e79b",
   "metadata": {},
   "outputs": [
    {
     "name": "stderr",
     "output_type": "stream",
     "text": [
      "c:\\Users\\pedro\\Desktop\\Breast-Cancer-Detection\\venv\\Lib\\site-packages\\keras\\src\\trainers\\data_adapters\\py_dataset_adapter.py:121: UserWarning: Your `PyDataset` class should call `super().__init__(**kwargs)` in its constructor. `**kwargs` can include `workers`, `use_multiprocessing`, `max_queue_size`. Do not pass these arguments to `fit()`, as they will be ignored.\n",
      "  self._warn_if_super_not_called()\n"
     ]
    },
    {
     "name": "stdout",
     "output_type": "stream",
     "text": [
      "Epoch 1/20\n",
      "\u001b[1m173/173\u001b[0m \u001b[32m━━━━━━━━━━━━━━━━━━━━\u001b[0m\u001b[37m\u001b[0m \u001b[1m0s\u001b[0m 739ms/step - accuracy: 0.2232 - auc: 0.6479 - loss: 4.4245 - precision: 0.2871 - recall: 0.0600"
     ]
    },
    {
     "name": "stderr",
     "output_type": "stream",
     "text": [
      "WARNING:absl:You are saving your model as an HDF5 file via `model.save()` or `keras.saving.save_model(model)`. This file format is considered legacy. We recommend using instead the native Keras format, e.g. `model.save('my_model.keras')` or `keras.saving.save_model(model, 'my_model.keras')`. \n"
     ]
    },
    {
     "name": "stdout",
     "output_type": "stream",
     "text": [
      "\u001b[1m173/173\u001b[0m \u001b[32m━━━━━━━━━━━━━━━━━━━━\u001b[0m\u001b[37m\u001b[0m \u001b[1m146s\u001b[0m 833ms/step - accuracy: 0.2654 - auc: 0.7026 - loss: 2.4783 - precision: 0.3841 - recall: 0.0620 - val_accuracy: 0.4359 - val_auc: 0.7179 - val_loss: 1.8904 - val_precision: 0.0000e+00 - val_recall: 0.0000e+00\n",
      "Epoch 2/20\n",
      "\u001b[1m173/173\u001b[0m \u001b[32m━━━━━━━━━━━━━━━━━━━━\u001b[0m\u001b[37m\u001b[0m \u001b[1m151s\u001b[0m 873ms/step - accuracy: 0.3349 - auc: 0.7853 - loss: 1.6752 - precision: 0.5365 - recall: 0.1302 - val_accuracy: 0.1282 - val_auc: 0.4191 - val_loss: 3.3078 - val_precision: 0.4524 - val_recall: 0.0160\n",
      "Epoch 3/20\n",
      "\u001b[1m173/173\u001b[0m \u001b[32m━━━━━━━━━━━━━━━━━━━━\u001b[0m\u001b[37m\u001b[0m \u001b[1m262s\u001b[0m 2s/step - accuracy: 0.3640 - auc: 0.8171 - loss: 1.5560 - precision: 0.5595 - recall: 0.1700 - val_accuracy: 0.0843 - val_auc: 0.4397 - val_loss: 3.6636 - val_precision: 0.1429 - val_recall: 0.0177\n",
      "Epoch 4/20\n",
      "\u001b[1m173/173\u001b[0m \u001b[32m━━━━━━━━━━━━━━━━━━━━\u001b[0m\u001b[37m\u001b[0m \u001b[1m0s\u001b[0m 769ms/step - accuracy: 0.4116 - auc: 0.8433 - loss: 1.4259 - precision: 0.6003 - recall: 0.2275"
     ]
    },
    {
     "name": "stderr",
     "output_type": "stream",
     "text": [
      "WARNING:absl:You are saving your model as an HDF5 file via `model.save()` or `keras.saving.save_model(model)`. This file format is considered legacy. We recommend using instead the native Keras format, e.g. `model.save('my_model.keras')` or `keras.saving.save_model(model, 'my_model.keras')`. \n"
     ]
    },
    {
     "name": "stdout",
     "output_type": "stream",
     "text": [
      "\u001b[1m173/173\u001b[0m \u001b[32m━━━━━━━━━━━━━━━━━━━━\u001b[0m\u001b[37m\u001b[0m \u001b[1m149s\u001b[0m 859ms/step - accuracy: 0.4129 - auc: 0.8436 - loss: 1.4338 - precision: 0.5970 - recall: 0.2290 - val_accuracy: 0.3820 - val_auc: 0.8069 - val_loss: 1.7695 - val_precision: 0.5113 - val_recall: 0.2470\n",
      "Epoch 5/20\n",
      "\u001b[1m173/173\u001b[0m \u001b[32m━━━━━━━━━━━━━━━━━━━━\u001b[0m\u001b[37m\u001b[0m \u001b[1m174s\u001b[0m 1s/step - accuracy: 0.4839 - auc: 0.8770 - loss: 1.2673 - precision: 0.6260 - recall: 0.3087 - val_accuracy: 0.2504 - val_auc: 0.6844 - val_loss: 8.2628 - val_precision: 0.2515 - val_recall: 0.2470\n",
      "Epoch 6/20\n",
      "\u001b[1m173/173\u001b[0m \u001b[32m━━━━━━━━━━━━━━━━━━━━\u001b[0m\u001b[37m\u001b[0m \u001b[1m282s\u001b[0m 2s/step - accuracy: 0.5477 - auc: 0.9014 - loss: 1.1139 - precision: 0.6686 - recall: 0.3936 - val_accuracy: 0.4351 - val_auc: 0.6918 - val_loss: 8.2736 - val_precision: 0.4351 - val_recall: 0.4351\n"
     ]
    }
   ],
   "source": [
    "history_clw_s = model_clw_s.fit(\n",
    "    train_generator_2,\n",
    "    steps_per_epoch=len(train_generator_2),\n",
    "    epochs=20,\n",
    "    validation_data=val_generator_2,\n",
    "    validation_steps=len(val_generator_2),\n",
    "    callbacks=callbacks_clw_s,\n",
    "    class_weight = class_weights\n",
    ")"
   ]
  },
  {
   "cell_type": "markdown",
   "id": "1db648a3",
   "metadata": {},
   "source": [
    "Training is improving but model is not generalizing well. Next step will be adding a dropout layer plus L2 Regularization."
   ]
  },
  {
   "cell_type": "code",
   "execution_count": 137,
   "id": "19c7fc06",
   "metadata": {},
   "outputs": [],
   "source": [
    "from tensorflow.keras import regularizers"
   ]
  },
  {
   "cell_type": "code",
   "execution_count": 140,
   "id": "bb1559d7",
   "metadata": {},
   "outputs": [],
   "source": [
    "model_clw_dr = models.Sequential()\n",
    "model_clw_dr.add(layers.Conv2D(32, (3,3), activation='relu', input_shape=(224,224,3)))\n",
    "model_clw_dr.add(layers.MaxPooling2D(2,2))\n",
    "model_clw_dr.add(layers.Conv2D(64, (3,3), activation='relu'))\n",
    "model_clw_dr.add(layers.MaxPooling2D(2,2))\n",
    "model_clw_dr.add(layers.Conv2D(128, (3,3), activation='relu'))\n",
    "model_clw_dr.add(layers.MaxPooling2D(2,2))\n",
    "model_clw_dr.add(layers.Conv2D(256, (3,3), activation='relu'))\n",
    "model_clw_dr.add(layers.MaxPooling2D(2,2))\n",
    "model_clw_dr.add(layers.BatchNormalization())\n",
    "model_clw_dr.add(layers.Flatten())\n",
    "model_clw_dr.add(layers.Dense(512, activation='relu', kernel_regularizer = regularizers.l2(0.001)))\n",
    "model_clw_dr.add(layers.Dropout(0.5))\n",
    "model_clw_dr.add(layers.Dense(8, activation='softmax'))"
   ]
  },
  {
   "cell_type": "code",
   "execution_count": 141,
   "id": "b71ae94c",
   "metadata": {},
   "outputs": [],
   "source": [
    "model_clw_dr.compile (loss = 'categorical_crossentropy', \n",
    "                    optimizer = optimizers.RMSprop(learning_rate = 0.001),\n",
    "                    metrics = ['accuracy', 'recall', 'precision', 'auc'])"
   ]
  },
  {
   "cell_type": "code",
   "execution_count": 142,
   "id": "06b52680",
   "metadata": {},
   "outputs": [],
   "source": [
    "callbacks_clw_dr = [\n",
    "    EarlyStopping(monitor='val_accuracy', mode= 'max', patience=7, restore_best_weights=True), \n",
    "    ModelCheckpoint('Multi_Class_Classification/models/model_clw_dr.h5', save_best_only=True)]"
   ]
  },
  {
   "cell_type": "code",
   "execution_count": null,
   "id": "901c0833",
   "metadata": {},
   "outputs": [],
   "source": [
    "history_clw_dr = model_clw_dr.fit(\n",
    "    train_generator_2,\n",
    "    steps_per_epoch=len(train_generator_2),\n",
    "    epochs=20,\n",
    "    validation_data=val_generator_2,\n",
    "    validation_steps=len(val_generator_2),\n",
    "    callbacks=callbacks_clw_dr,\n",
    "    class_weight = class_weights\n",
    ")"
   ]
  },
  {
   "cell_type": "markdown",
   "id": "68355b5b",
   "metadata": {},
   "source": [
    "Still not great results. Data Augmentation is the next step."
   ]
  },
  {
   "cell_type": "markdown",
   "id": "c8526330",
   "metadata": {},
   "source": [
    "### Data Augmentation + Class Weights ###\n",
    "---"
   ]
  },
  {
   "cell_type": "code",
   "execution_count": 144,
   "id": "06723374",
   "metadata": {},
   "outputs": [],
   "source": [
    "from tensorflow.keras.models import load_model"
   ]
  },
  {
   "cell_type": "code",
   "execution_count": 173,
   "id": "421c4be8",
   "metadata": {},
   "outputs": [
    {
     "name": "stderr",
     "output_type": "stream",
     "text": [
      "c:\\Users\\pedro\\Desktop\\Breast-Cancer-Detection\\venv\\Lib\\site-packages\\keras\\src\\layers\\convolutional\\base_conv.py:113: UserWarning: Do not pass an `input_shape`/`input_dim` argument to a layer. When using Sequential models, prefer using an `Input(shape)` object as the first layer in the model instead.\n",
      "  super().__init__(activity_regularizer=activity_regularizer, **kwargs)\n"
     ]
    }
   ],
   "source": [
    "model_t = models.Sequential()\n",
    "model_t.add(layers.Conv2D(32, (3,3), activation='relu', input_shape=(224,224,3)))\n",
    "model_t.add(layers.MaxPooling2D(2,2))\n",
    "model_t.add(layers.Conv2D(64, (3,3), activation='relu'))\n",
    "model_t.add(layers.MaxPooling2D(2,2))\n",
    "model_t.add(layers.Conv2D(128, (3,3), activation='relu'))\n",
    "model_t.add(layers.MaxPooling2D(2,2))\n",
    "model_t.add(layers.Conv2D(256, (3,3), activation='relu'))\n",
    "model_t.add(layers.MaxPooling2D(2,2))\n",
    "model_t.add(layers.BatchNormalization())\n",
    "model_t.add(layers.Flatten())\n",
    "model_t.add(layers.Dense(512, activation='relu', kernel_regularizer = regularizers.l2(0.001)))\n",
    "model_t.add(layers.Dropout(0.5))\n",
    "model_t.add(layers.Dense(8, activation='softmax'))"
   ]
  },
  {
   "cell_type": "code",
   "execution_count": 174,
   "id": "2df404bf",
   "metadata": {},
   "outputs": [],
   "source": [
    "model_t.compile (loss = 'categorical_crossentropy', \n",
    "                    optimizer = optimizers.Adam(learning_rate = 0.001),\n",
    "                    metrics = ['accuracy', 'recall', 'precision', 'auc'])"
   ]
  },
  {
   "cell_type": "code",
   "execution_count": 166,
   "id": "348bc93b",
   "metadata": {},
   "outputs": [],
   "source": [
    "train_datagen = ImageDataGenerator(\n",
    "    rescale=1./255,\n",
    "    rotation_range=30,\n",
    "    width_shift_range=0.1,\n",
    "    height_shift_range=0.1,\n",
    "    shear_range=0.1,\n",
    "    zoom_range=0.1,\n",
    "    horizontal_flip=True,\n",
    "    fill_mode='nearest'\n",
    ")"
   ]
  },
  {
   "cell_type": "code",
   "execution_count": 167,
   "id": "a1b62134",
   "metadata": {},
   "outputs": [
    {
     "name": "stdout",
     "output_type": "stream",
     "text": [
      "Found 5536 images belonging to 8 classes.\n"
     ]
    }
   ],
   "source": [
    "train_generator = train_datagen.flow_from_directory(\n",
    "    train_dir,\n",
    "    target_size=(224, 224),\n",
    "    class_mode='categorical',\n",
    "    batch_size=32,\n",
    "    shuffle=True\n",
    ")"
   ]
  },
  {
   "cell_type": "code",
   "execution_count": 170,
   "id": "d55095bf",
   "metadata": {},
   "outputs": [
    {
     "name": "stdout",
     "output_type": "stream",
     "text": [
      "Found 1186 images belonging to 8 classes.\n"
     ]
    }
   ],
   "source": [
    "val_generator = val_datagen.flow_from_directory( \n",
    "    val_dir,           \n",
    "    target_size=(224,224), \n",
    "    batch_size=32,  \n",
    "    class_mode='categorical',\n",
    "    shuffle = False \n",
    ")"
   ]
  },
  {
   "cell_type": "code",
   "execution_count": 168,
   "id": "81b6fcb1",
   "metadata": {},
   "outputs": [],
   "source": [
    "callbacks_t = [\n",
    "    EarlyStopping(monitor='val_accuracy', mode= 'max', patience=5, restore_best_weights=True), \n",
    "    ModelCheckpoint('Multi_Class_Classification/models/model_t.h5', save_best_only=True)]"
   ]
  },
  {
   "cell_type": "code",
   "execution_count": 175,
   "id": "1035f6d8",
   "metadata": {},
   "outputs": [
    {
     "name": "stdout",
     "output_type": "stream",
     "text": [
      "Epoch 1/20\n",
      "\u001b[1m173/173\u001b[0m \u001b[32m━━━━━━━━━━━━━━━━━━━━\u001b[0m\u001b[37m\u001b[0m \u001b[1m0s\u001b[0m 983ms/step - accuracy: 0.2633 - auc: 0.6838 - loss: 3.1105 - precision: 0.4125 - recall: 0.0745"
     ]
    },
    {
     "name": "stderr",
     "output_type": "stream",
     "text": [
      "c:\\Users\\pedro\\Desktop\\Breast-Cancer-Detection\\venv\\Lib\\site-packages\\keras\\src\\trainers\\data_adapters\\py_dataset_adapter.py:121: UserWarning: Your `PyDataset` class should call `super().__init__(**kwargs)` in its constructor. `**kwargs` can include `workers`, `use_multiprocessing`, `max_queue_size`. Do not pass these arguments to `fit()`, as they will be ignored.\n",
      "  self._warn_if_super_not_called()\n",
      "WARNING:absl:You are saving your model as an HDF5 file via `model.save()` or `keras.saving.save_model(model)`. This file format is considered legacy. We recommend using instead the native Keras format, e.g. `model.save('my_model.keras')` or `keras.saving.save_model(model, 'my_model.keras')`. \n"
     ]
    },
    {
     "name": "stdout",
     "output_type": "stream",
     "text": [
      "\u001b[1m173/173\u001b[0m \u001b[32m━━━━━━━━━━━━━━━━━━━━\u001b[0m\u001b[37m\u001b[0m \u001b[1m189s\u001b[0m 1s/step - accuracy: 0.2905 - auc: 0.7321 - loss: 2.6476 - precision: 0.4952 - recall: 0.0939 - val_accuracy: 0.0953 - val_auc: 0.6499 - val_loss: 2.4167 - val_precision: 0.0000e+00 - val_recall: 0.0000e+00\n",
      "Epoch 2/20\n",
      "\u001b[1m173/173\u001b[0m \u001b[32m━━━━━━━━━━━━━━━━━━━━\u001b[0m\u001b[37m\u001b[0m \u001b[1m184s\u001b[0m 1s/step - accuracy: 0.3304 - auc: 0.7767 - loss: 2.0295 - precision: 0.5595 - recall: 0.1154 - val_accuracy: 0.0750 - val_auc: 0.4618 - val_loss: 2.8097 - val_precision: 0.0667 - val_recall: 0.0025\n",
      "Epoch 3/20\n",
      "\u001b[1m173/173\u001b[0m \u001b[32m━━━━━━━━━━━━━━━━━━━━\u001b[0m\u001b[37m\u001b[0m \u001b[1m240s\u001b[0m 1s/step - accuracy: 0.3526 - auc: 0.7945 - loss: 1.8566 - precision: 0.5779 - recall: 0.1454 - val_accuracy: 0.1138 - val_auc: 0.5749 - val_loss: 2.6475 - val_precision: 0.1486 - val_recall: 0.0590\n",
      "Epoch 4/20\n",
      "\u001b[1m173/173\u001b[0m \u001b[32m━━━━━━━━━━━━━━━━━━━━\u001b[0m\u001b[37m\u001b[0m \u001b[1m184s\u001b[0m 1s/step - accuracy: 0.3463 - auc: 0.8028 - loss: 1.7724 - precision: 0.5578 - recall: 0.1438 - val_accuracy: 0.1518 - val_auc: 0.5478 - val_loss: 4.0396 - val_precision: 0.1740 - val_recall: 0.0531\n",
      "Epoch 5/20\n",
      "\u001b[1m173/173\u001b[0m \u001b[32m━━━━━━━━━━━━━━━━━━━━\u001b[0m\u001b[37m\u001b[0m \u001b[1m182s\u001b[0m 1s/step - accuracy: 0.3643 - auc: 0.8073 - loss: 1.7360 - precision: 0.5711 - recall: 0.1575 - val_accuracy: 0.1256 - val_auc: 0.4362 - val_loss: 8.0673 - val_precision: 0.1302 - val_recall: 0.1197\n",
      "Epoch 6/20\n",
      "\u001b[1m173/173\u001b[0m \u001b[32m━━━━━━━━━━━━━━━━━━━━\u001b[0m\u001b[37m\u001b[0m \u001b[1m0s\u001b[0m 2s/step - accuracy: 0.3637 - auc: 0.8044 - loss: 1.7518 - precision: 0.5831 - recall: 0.1589"
     ]
    },
    {
     "name": "stderr",
     "output_type": "stream",
     "text": [
      "WARNING:absl:You are saving your model as an HDF5 file via `model.save()` or `keras.saving.save_model(model)`. This file format is considered legacy. We recommend using instead the native Keras format, e.g. `model.save('my_model.keras')` or `keras.saving.save_model(model, 'my_model.keras')`. \n"
     ]
    },
    {
     "name": "stdout",
     "output_type": "stream",
     "text": [
      "\u001b[1m173/173\u001b[0m \u001b[32m━━━━━━━━━━━━━━━━━━━━\u001b[0m\u001b[37m\u001b[0m \u001b[1m387s\u001b[0m 2s/step - accuracy: 0.3622 - auc: 0.8054 - loss: 1.7487 - precision: 0.5778 - recall: 0.1535 - val_accuracy: 0.3204 - val_auc: 0.7447 - val_loss: 2.3850 - val_precision: 0.3624 - val_recall: 0.2631\n",
      "Epoch 7/20\n",
      "\u001b[1m173/173\u001b[0m \u001b[32m━━━━━━━━━━━━━━━━━━━━\u001b[0m\u001b[37m\u001b[0m \u001b[1m343s\u001b[0m 2s/step - accuracy: 0.3694 - auc: 0.8176 - loss: 1.6875 - precision: 0.5697 - recall: 0.1720 - val_accuracy: 0.1762 - val_auc: 0.6801 - val_loss: 4.2659 - val_precision: 0.1765 - val_recall: 0.1737\n",
      "Epoch 8/20\n",
      "\u001b[1m173/173\u001b[0m \u001b[32m━━━━━━━━━━━━━━━━━━━━\u001b[0m\u001b[37m\u001b[0m \u001b[1m380s\u001b[0m 2s/step - accuracy: 0.3663 - auc: 0.8146 - loss: 1.7760 - precision: 0.5549 - recall: 0.1651 - val_accuracy: 0.4384 - val_auc: 0.6956 - val_loss: 5.6302 - val_precision: 0.4403 - val_recall: 0.4384\n",
      "Epoch 9/20\n",
      "\u001b[1m 34/173\u001b[0m \u001b[32m━━━\u001b[0m\u001b[37m━━━━━━━━━━━━━━━━━\u001b[0m \u001b[1m2:57\u001b[0m 1s/step - accuracy: 0.4354 - auc: 0.8397 - loss: 1.7597 - precision: 0.6030 - recall: 0.2111"
     ]
    },
    {
     "ename": "KeyboardInterrupt",
     "evalue": "",
     "output_type": "error",
     "traceback": [
      "\u001b[31m---------------------------------------------------------------------------\u001b[39m",
      "\u001b[31mKeyboardInterrupt\u001b[39m                         Traceback (most recent call last)",
      "\u001b[36mCell\u001b[39m\u001b[36m \u001b[39m\u001b[32mIn[175]\u001b[39m\u001b[32m, line 1\u001b[39m\n\u001b[32m----> \u001b[39m\u001b[32m1\u001b[39m history_t = \u001b[43mmodel_t\u001b[49m\u001b[43m.\u001b[49m\u001b[43mfit\u001b[49m\u001b[43m(\u001b[49m\n\u001b[32m      2\u001b[39m \u001b[43m    \u001b[49m\u001b[43mtrain_generator\u001b[49m\u001b[43m,\u001b[49m\n\u001b[32m      3\u001b[39m \u001b[43m    \u001b[49m\u001b[43msteps_per_epoch\u001b[49m\u001b[43m=\u001b[49m\u001b[38;5;28;43mlen\u001b[39;49m\u001b[43m(\u001b[49m\u001b[43mtrain_generator\u001b[49m\u001b[43m)\u001b[49m\u001b[43m,\u001b[49m\n\u001b[32m      4\u001b[39m \u001b[43m    \u001b[49m\u001b[43mepochs\u001b[49m\u001b[43m=\u001b[49m\u001b[32;43m20\u001b[39;49m\u001b[43m,\u001b[49m\n\u001b[32m      5\u001b[39m \u001b[43m    \u001b[49m\u001b[43mvalidation_data\u001b[49m\u001b[43m=\u001b[49m\u001b[43mval_generator\u001b[49m\u001b[43m,\u001b[49m\n\u001b[32m      6\u001b[39m \u001b[43m    \u001b[49m\u001b[43mvalidation_steps\u001b[49m\u001b[43m=\u001b[49m\u001b[38;5;28;43mlen\u001b[39;49m\u001b[43m(\u001b[49m\u001b[43mval_generator\u001b[49m\u001b[43m)\u001b[49m\u001b[43m,\u001b[49m\n\u001b[32m      7\u001b[39m \u001b[43m    \u001b[49m\u001b[43mcallbacks\u001b[49m\u001b[43m=\u001b[49m\u001b[43mcallbacks_t\u001b[49m\u001b[43m,\u001b[49m\n\u001b[32m      8\u001b[39m \u001b[43m    \u001b[49m\u001b[43mclass_weight\u001b[49m\u001b[43m \u001b[49m\u001b[43m=\u001b[49m\u001b[43m \u001b[49m\u001b[43mclass_weights\u001b[49m\n\u001b[32m      9\u001b[39m \u001b[43m)\u001b[49m\n",
      "\u001b[36mFile \u001b[39m\u001b[32mc:\\Users\\pedro\\Desktop\\Breast-Cancer-Detection\\venv\\Lib\\site-packages\\keras\\src\\utils\\traceback_utils.py:117\u001b[39m, in \u001b[36mfilter_traceback.<locals>.error_handler\u001b[39m\u001b[34m(*args, **kwargs)\u001b[39m\n\u001b[32m    115\u001b[39m filtered_tb = \u001b[38;5;28;01mNone\u001b[39;00m\n\u001b[32m    116\u001b[39m \u001b[38;5;28;01mtry\u001b[39;00m:\n\u001b[32m--> \u001b[39m\u001b[32m117\u001b[39m     \u001b[38;5;28;01mreturn\u001b[39;00m \u001b[43mfn\u001b[49m\u001b[43m(\u001b[49m\u001b[43m*\u001b[49m\u001b[43margs\u001b[49m\u001b[43m,\u001b[49m\u001b[43m \u001b[49m\u001b[43m*\u001b[49m\u001b[43m*\u001b[49m\u001b[43mkwargs\u001b[49m\u001b[43m)\u001b[49m\n\u001b[32m    118\u001b[39m \u001b[38;5;28;01mexcept\u001b[39;00m \u001b[38;5;167;01mException\u001b[39;00m \u001b[38;5;28;01mas\u001b[39;00m e:\n\u001b[32m    119\u001b[39m     filtered_tb = _process_traceback_frames(e.__traceback__)\n",
      "\u001b[36mFile \u001b[39m\u001b[32mc:\\Users\\pedro\\Desktop\\Breast-Cancer-Detection\\venv\\Lib\\site-packages\\keras\\src\\backend\\tensorflow\\trainer.py:377\u001b[39m, in \u001b[36mTensorFlowTrainer.fit\u001b[39m\u001b[34m(self, x, y, batch_size, epochs, verbose, callbacks, validation_split, validation_data, shuffle, class_weight, sample_weight, initial_epoch, steps_per_epoch, validation_steps, validation_batch_size, validation_freq)\u001b[39m\n\u001b[32m    375\u001b[39m \u001b[38;5;28;01mfor\u001b[39;00m begin_step, end_step, iterator \u001b[38;5;129;01min\u001b[39;00m epoch_iterator:\n\u001b[32m    376\u001b[39m     callbacks.on_train_batch_begin(begin_step)\n\u001b[32m--> \u001b[39m\u001b[32m377\u001b[39m     logs = \u001b[38;5;28;43mself\u001b[39;49m\u001b[43m.\u001b[49m\u001b[43mtrain_function\u001b[49m\u001b[43m(\u001b[49m\u001b[43miterator\u001b[49m\u001b[43m)\u001b[49m\n\u001b[32m    378\u001b[39m     callbacks.on_train_batch_end(end_step, logs)\n\u001b[32m    379\u001b[39m     \u001b[38;5;28;01mif\u001b[39;00m \u001b[38;5;28mself\u001b[39m.stop_training:\n",
      "\u001b[36mFile \u001b[39m\u001b[32mc:\\Users\\pedro\\Desktop\\Breast-Cancer-Detection\\venv\\Lib\\site-packages\\keras\\src\\backend\\tensorflow\\trainer.py:220\u001b[39m, in \u001b[36mTensorFlowTrainer._make_function.<locals>.function\u001b[39m\u001b[34m(iterator)\u001b[39m\n\u001b[32m    216\u001b[39m \u001b[38;5;28;01mdef\u001b[39;00m\u001b[38;5;250m \u001b[39m\u001b[34mfunction\u001b[39m(iterator):\n\u001b[32m    217\u001b[39m     \u001b[38;5;28;01mif\u001b[39;00m \u001b[38;5;28misinstance\u001b[39m(\n\u001b[32m    218\u001b[39m         iterator, (tf.data.Iterator, tf.distribute.DistributedIterator)\n\u001b[32m    219\u001b[39m     ):\n\u001b[32m--> \u001b[39m\u001b[32m220\u001b[39m         opt_outputs = \u001b[43mmulti_step_on_iterator\u001b[49m\u001b[43m(\u001b[49m\u001b[43miterator\u001b[49m\u001b[43m)\u001b[49m\n\u001b[32m    221\u001b[39m         \u001b[38;5;28;01mif\u001b[39;00m \u001b[38;5;129;01mnot\u001b[39;00m opt_outputs.has_value():\n\u001b[32m    222\u001b[39m             \u001b[38;5;28;01mraise\u001b[39;00m \u001b[38;5;167;01mStopIteration\u001b[39;00m\n",
      "\u001b[36mFile \u001b[39m\u001b[32mc:\\Users\\pedro\\Desktop\\Breast-Cancer-Detection\\venv\\Lib\\site-packages\\tensorflow\\python\\util\\traceback_utils.py:150\u001b[39m, in \u001b[36mfilter_traceback.<locals>.error_handler\u001b[39m\u001b[34m(*args, **kwargs)\u001b[39m\n\u001b[32m    148\u001b[39m filtered_tb = \u001b[38;5;28;01mNone\u001b[39;00m\n\u001b[32m    149\u001b[39m \u001b[38;5;28;01mtry\u001b[39;00m:\n\u001b[32m--> \u001b[39m\u001b[32m150\u001b[39m   \u001b[38;5;28;01mreturn\u001b[39;00m \u001b[43mfn\u001b[49m\u001b[43m(\u001b[49m\u001b[43m*\u001b[49m\u001b[43margs\u001b[49m\u001b[43m,\u001b[49m\u001b[43m \u001b[49m\u001b[43m*\u001b[49m\u001b[43m*\u001b[49m\u001b[43mkwargs\u001b[49m\u001b[43m)\u001b[49m\n\u001b[32m    151\u001b[39m \u001b[38;5;28;01mexcept\u001b[39;00m \u001b[38;5;167;01mException\u001b[39;00m \u001b[38;5;28;01mas\u001b[39;00m e:\n\u001b[32m    152\u001b[39m   filtered_tb = _process_traceback_frames(e.__traceback__)\n",
      "\u001b[36mFile \u001b[39m\u001b[32mc:\\Users\\pedro\\Desktop\\Breast-Cancer-Detection\\venv\\Lib\\site-packages\\tensorflow\\python\\eager\\polymorphic_function\\polymorphic_function.py:833\u001b[39m, in \u001b[36mFunction.__call__\u001b[39m\u001b[34m(self, *args, **kwds)\u001b[39m\n\u001b[32m    830\u001b[39m compiler = \u001b[33m\"\u001b[39m\u001b[33mxla\u001b[39m\u001b[33m\"\u001b[39m \u001b[38;5;28;01mif\u001b[39;00m \u001b[38;5;28mself\u001b[39m._jit_compile \u001b[38;5;28;01melse\u001b[39;00m \u001b[33m\"\u001b[39m\u001b[33mnonXla\u001b[39m\u001b[33m\"\u001b[39m\n\u001b[32m    832\u001b[39m \u001b[38;5;28;01mwith\u001b[39;00m OptionalXlaContext(\u001b[38;5;28mself\u001b[39m._jit_compile):\n\u001b[32m--> \u001b[39m\u001b[32m833\u001b[39m   result = \u001b[38;5;28;43mself\u001b[39;49m\u001b[43m.\u001b[49m\u001b[43m_call\u001b[49m\u001b[43m(\u001b[49m\u001b[43m*\u001b[49m\u001b[43margs\u001b[49m\u001b[43m,\u001b[49m\u001b[43m \u001b[49m\u001b[43m*\u001b[49m\u001b[43m*\u001b[49m\u001b[43mkwds\u001b[49m\u001b[43m)\u001b[49m\n\u001b[32m    835\u001b[39m new_tracing_count = \u001b[38;5;28mself\u001b[39m.experimental_get_tracing_count()\n\u001b[32m    836\u001b[39m without_tracing = (tracing_count == new_tracing_count)\n",
      "\u001b[36mFile \u001b[39m\u001b[32mc:\\Users\\pedro\\Desktop\\Breast-Cancer-Detection\\venv\\Lib\\site-packages\\tensorflow\\python\\eager\\polymorphic_function\\polymorphic_function.py:878\u001b[39m, in \u001b[36mFunction._call\u001b[39m\u001b[34m(self, *args, **kwds)\u001b[39m\n\u001b[32m    875\u001b[39m \u001b[38;5;28mself\u001b[39m._lock.release()\n\u001b[32m    876\u001b[39m \u001b[38;5;66;03m# In this case we have not created variables on the first call. So we can\u001b[39;00m\n\u001b[32m    877\u001b[39m \u001b[38;5;66;03m# run the first trace but we should fail if variables are created.\u001b[39;00m\n\u001b[32m--> \u001b[39m\u001b[32m878\u001b[39m results = \u001b[43mtracing_compilation\u001b[49m\u001b[43m.\u001b[49m\u001b[43mcall_function\u001b[49m\u001b[43m(\u001b[49m\n\u001b[32m    879\u001b[39m \u001b[43m    \u001b[49m\u001b[43margs\u001b[49m\u001b[43m,\u001b[49m\u001b[43m \u001b[49m\u001b[43mkwds\u001b[49m\u001b[43m,\u001b[49m\u001b[43m \u001b[49m\u001b[38;5;28;43mself\u001b[39;49m\u001b[43m.\u001b[49m\u001b[43m_variable_creation_config\u001b[49m\n\u001b[32m    880\u001b[39m \u001b[43m\u001b[49m\u001b[43m)\u001b[49m\n\u001b[32m    881\u001b[39m \u001b[38;5;28;01mif\u001b[39;00m \u001b[38;5;28mself\u001b[39m._created_variables:\n\u001b[32m    882\u001b[39m   \u001b[38;5;28;01mraise\u001b[39;00m \u001b[38;5;167;01mValueError\u001b[39;00m(\u001b[33m\"\u001b[39m\u001b[33mCreating variables on a non-first call to a function\u001b[39m\u001b[33m\"\u001b[39m\n\u001b[32m    883\u001b[39m                    \u001b[33m\"\u001b[39m\u001b[33m decorated with tf.function.\u001b[39m\u001b[33m\"\u001b[39m)\n",
      "\u001b[36mFile \u001b[39m\u001b[32mc:\\Users\\pedro\\Desktop\\Breast-Cancer-Detection\\venv\\Lib\\site-packages\\tensorflow\\python\\eager\\polymorphic_function\\tracing_compilation.py:139\u001b[39m, in \u001b[36mcall_function\u001b[39m\u001b[34m(args, kwargs, tracing_options)\u001b[39m\n\u001b[32m    137\u001b[39m bound_args = function.function_type.bind(*args, **kwargs)\n\u001b[32m    138\u001b[39m flat_inputs = function.function_type.unpack_inputs(bound_args)\n\u001b[32m--> \u001b[39m\u001b[32m139\u001b[39m \u001b[38;5;28;01mreturn\u001b[39;00m \u001b[43mfunction\u001b[49m\u001b[43m.\u001b[49m\u001b[43m_call_flat\u001b[49m\u001b[43m(\u001b[49m\u001b[43m  \u001b[49m\u001b[38;5;66;43;03m# pylint: disable=protected-access\u001b[39;49;00m\n\u001b[32m    140\u001b[39m \u001b[43m    \u001b[49m\u001b[43mflat_inputs\u001b[49m\u001b[43m,\u001b[49m\u001b[43m \u001b[49m\u001b[43mcaptured_inputs\u001b[49m\u001b[43m=\u001b[49m\u001b[43mfunction\u001b[49m\u001b[43m.\u001b[49m\u001b[43mcaptured_inputs\u001b[49m\n\u001b[32m    141\u001b[39m \u001b[43m\u001b[49m\u001b[43m)\u001b[49m\n",
      "\u001b[36mFile \u001b[39m\u001b[32mc:\\Users\\pedro\\Desktop\\Breast-Cancer-Detection\\venv\\Lib\\site-packages\\tensorflow\\python\\eager\\polymorphic_function\\concrete_function.py:1322\u001b[39m, in \u001b[36mConcreteFunction._call_flat\u001b[39m\u001b[34m(self, tensor_inputs, captured_inputs)\u001b[39m\n\u001b[32m   1318\u001b[39m possible_gradient_type = gradients_util.PossibleTapeGradientTypes(args)\n\u001b[32m   1319\u001b[39m \u001b[38;5;28;01mif\u001b[39;00m (possible_gradient_type == gradients_util.POSSIBLE_GRADIENT_TYPES_NONE\n\u001b[32m   1320\u001b[39m     \u001b[38;5;129;01mand\u001b[39;00m executing_eagerly):\n\u001b[32m   1321\u001b[39m   \u001b[38;5;66;03m# No tape is watching; skip to running the function.\u001b[39;00m\n\u001b[32m-> \u001b[39m\u001b[32m1322\u001b[39m   \u001b[38;5;28;01mreturn\u001b[39;00m \u001b[38;5;28;43mself\u001b[39;49m\u001b[43m.\u001b[49m\u001b[43m_inference_function\u001b[49m\u001b[43m.\u001b[49m\u001b[43mcall_preflattened\u001b[49m\u001b[43m(\u001b[49m\u001b[43margs\u001b[49m\u001b[43m)\u001b[49m\n\u001b[32m   1323\u001b[39m forward_backward = \u001b[38;5;28mself\u001b[39m._select_forward_and_backward_functions(\n\u001b[32m   1324\u001b[39m     args,\n\u001b[32m   1325\u001b[39m     possible_gradient_type,\n\u001b[32m   1326\u001b[39m     executing_eagerly)\n\u001b[32m   1327\u001b[39m forward_function, args_with_tangents = forward_backward.forward()\n",
      "\u001b[36mFile \u001b[39m\u001b[32mc:\\Users\\pedro\\Desktop\\Breast-Cancer-Detection\\venv\\Lib\\site-packages\\tensorflow\\python\\eager\\polymorphic_function\\atomic_function.py:216\u001b[39m, in \u001b[36mAtomicFunction.call_preflattened\u001b[39m\u001b[34m(self, args)\u001b[39m\n\u001b[32m    214\u001b[39m \u001b[38;5;28;01mdef\u001b[39;00m\u001b[38;5;250m \u001b[39m\u001b[34mcall_preflattened\u001b[39m(\u001b[38;5;28mself\u001b[39m, args: Sequence[core.Tensor]) -> Any:\n\u001b[32m    215\u001b[39m \u001b[38;5;250m  \u001b[39m\u001b[33;03m\"\"\"Calls with flattened tensor inputs and returns the structured output.\"\"\"\u001b[39;00m\n\u001b[32m--> \u001b[39m\u001b[32m216\u001b[39m   flat_outputs = \u001b[38;5;28;43mself\u001b[39;49m\u001b[43m.\u001b[49m\u001b[43mcall_flat\u001b[49m\u001b[43m(\u001b[49m\u001b[43m*\u001b[49m\u001b[43margs\u001b[49m\u001b[43m)\u001b[49m\n\u001b[32m    217\u001b[39m   \u001b[38;5;28;01mreturn\u001b[39;00m \u001b[38;5;28mself\u001b[39m.function_type.pack_output(flat_outputs)\n",
      "\u001b[36mFile \u001b[39m\u001b[32mc:\\Users\\pedro\\Desktop\\Breast-Cancer-Detection\\venv\\Lib\\site-packages\\tensorflow\\python\\eager\\polymorphic_function\\atomic_function.py:251\u001b[39m, in \u001b[36mAtomicFunction.call_flat\u001b[39m\u001b[34m(self, *args)\u001b[39m\n\u001b[32m    249\u001b[39m \u001b[38;5;28;01mwith\u001b[39;00m record.stop_recording():\n\u001b[32m    250\u001b[39m   \u001b[38;5;28;01mif\u001b[39;00m \u001b[38;5;28mself\u001b[39m._bound_context.executing_eagerly():\n\u001b[32m--> \u001b[39m\u001b[32m251\u001b[39m     outputs = \u001b[38;5;28;43mself\u001b[39;49m\u001b[43m.\u001b[49m\u001b[43m_bound_context\u001b[49m\u001b[43m.\u001b[49m\u001b[43mcall_function\u001b[49m\u001b[43m(\u001b[49m\n\u001b[32m    252\u001b[39m \u001b[43m        \u001b[49m\u001b[38;5;28;43mself\u001b[39;49m\u001b[43m.\u001b[49m\u001b[43mname\u001b[49m\u001b[43m,\u001b[49m\n\u001b[32m    253\u001b[39m \u001b[43m        \u001b[49m\u001b[38;5;28;43mlist\u001b[39;49m\u001b[43m(\u001b[49m\u001b[43margs\u001b[49m\u001b[43m)\u001b[49m\u001b[43m,\u001b[49m\n\u001b[32m    254\u001b[39m \u001b[43m        \u001b[49m\u001b[38;5;28;43mlen\u001b[39;49m\u001b[43m(\u001b[49m\u001b[38;5;28;43mself\u001b[39;49m\u001b[43m.\u001b[49m\u001b[43mfunction_type\u001b[49m\u001b[43m.\u001b[49m\u001b[43mflat_outputs\u001b[49m\u001b[43m)\u001b[49m\u001b[43m,\u001b[49m\n\u001b[32m    255\u001b[39m \u001b[43m    \u001b[49m\u001b[43m)\u001b[49m\n\u001b[32m    256\u001b[39m   \u001b[38;5;28;01melse\u001b[39;00m:\n\u001b[32m    257\u001b[39m     outputs = make_call_op_in_graph(\n\u001b[32m    258\u001b[39m         \u001b[38;5;28mself\u001b[39m,\n\u001b[32m    259\u001b[39m         \u001b[38;5;28mlist\u001b[39m(args),\n\u001b[32m    260\u001b[39m         \u001b[38;5;28mself\u001b[39m._bound_context.function_call_options.as_attrs(),\n\u001b[32m    261\u001b[39m     )\n",
      "\u001b[36mFile \u001b[39m\u001b[32mc:\\Users\\pedro\\Desktop\\Breast-Cancer-Detection\\venv\\Lib\\site-packages\\tensorflow\\python\\eager\\context.py:1688\u001b[39m, in \u001b[36mContext.call_function\u001b[39m\u001b[34m(self, name, tensor_inputs, num_outputs)\u001b[39m\n\u001b[32m   1686\u001b[39m cancellation_context = cancellation.context()\n\u001b[32m   1687\u001b[39m \u001b[38;5;28;01mif\u001b[39;00m cancellation_context \u001b[38;5;129;01mis\u001b[39;00m \u001b[38;5;28;01mNone\u001b[39;00m:\n\u001b[32m-> \u001b[39m\u001b[32m1688\u001b[39m   outputs = \u001b[43mexecute\u001b[49m\u001b[43m.\u001b[49m\u001b[43mexecute\u001b[49m\u001b[43m(\u001b[49m\n\u001b[32m   1689\u001b[39m \u001b[43m      \u001b[49m\u001b[43mname\u001b[49m\u001b[43m.\u001b[49m\u001b[43mdecode\u001b[49m\u001b[43m(\u001b[49m\u001b[33;43m\"\u001b[39;49m\u001b[33;43mutf-8\u001b[39;49m\u001b[33;43m\"\u001b[39;49m\u001b[43m)\u001b[49m\u001b[43m,\u001b[49m\n\u001b[32m   1690\u001b[39m \u001b[43m      \u001b[49m\u001b[43mnum_outputs\u001b[49m\u001b[43m=\u001b[49m\u001b[43mnum_outputs\u001b[49m\u001b[43m,\u001b[49m\n\u001b[32m   1691\u001b[39m \u001b[43m      \u001b[49m\u001b[43minputs\u001b[49m\u001b[43m=\u001b[49m\u001b[43mtensor_inputs\u001b[49m\u001b[43m,\u001b[49m\n\u001b[32m   1692\u001b[39m \u001b[43m      \u001b[49m\u001b[43mattrs\u001b[49m\u001b[43m=\u001b[49m\u001b[43mattrs\u001b[49m\u001b[43m,\u001b[49m\n\u001b[32m   1693\u001b[39m \u001b[43m      \u001b[49m\u001b[43mctx\u001b[49m\u001b[43m=\u001b[49m\u001b[38;5;28;43mself\u001b[39;49m\u001b[43m,\u001b[49m\n\u001b[32m   1694\u001b[39m \u001b[43m  \u001b[49m\u001b[43m)\u001b[49m\n\u001b[32m   1695\u001b[39m \u001b[38;5;28;01melse\u001b[39;00m:\n\u001b[32m   1696\u001b[39m   outputs = execute.execute_with_cancellation(\n\u001b[32m   1697\u001b[39m       name.decode(\u001b[33m\"\u001b[39m\u001b[33mutf-8\u001b[39m\u001b[33m\"\u001b[39m),\n\u001b[32m   1698\u001b[39m       num_outputs=num_outputs,\n\u001b[32m   (...)\u001b[39m\u001b[32m   1702\u001b[39m       cancellation_manager=cancellation_context,\n\u001b[32m   1703\u001b[39m   )\n",
      "\u001b[36mFile \u001b[39m\u001b[32mc:\\Users\\pedro\\Desktop\\Breast-Cancer-Detection\\venv\\Lib\\site-packages\\tensorflow\\python\\eager\\execute.py:53\u001b[39m, in \u001b[36mquick_execute\u001b[39m\u001b[34m(op_name, num_outputs, inputs, attrs, ctx, name)\u001b[39m\n\u001b[32m     51\u001b[39m \u001b[38;5;28;01mtry\u001b[39;00m:\n\u001b[32m     52\u001b[39m   ctx.ensure_initialized()\n\u001b[32m---> \u001b[39m\u001b[32m53\u001b[39m   tensors = \u001b[43mpywrap_tfe\u001b[49m\u001b[43m.\u001b[49m\u001b[43mTFE_Py_Execute\u001b[49m\u001b[43m(\u001b[49m\u001b[43mctx\u001b[49m\u001b[43m.\u001b[49m\u001b[43m_handle\u001b[49m\u001b[43m,\u001b[49m\u001b[43m \u001b[49m\u001b[43mdevice_name\u001b[49m\u001b[43m,\u001b[49m\u001b[43m \u001b[49m\u001b[43mop_name\u001b[49m\u001b[43m,\u001b[49m\n\u001b[32m     54\u001b[39m \u001b[43m                                      \u001b[49m\u001b[43minputs\u001b[49m\u001b[43m,\u001b[49m\u001b[43m \u001b[49m\u001b[43mattrs\u001b[49m\u001b[43m,\u001b[49m\u001b[43m \u001b[49m\u001b[43mnum_outputs\u001b[49m\u001b[43m)\u001b[49m\n\u001b[32m     55\u001b[39m \u001b[38;5;28;01mexcept\u001b[39;00m core._NotOkStatusException \u001b[38;5;28;01mas\u001b[39;00m e:\n\u001b[32m     56\u001b[39m   \u001b[38;5;28;01mif\u001b[39;00m name \u001b[38;5;129;01mis\u001b[39;00m \u001b[38;5;129;01mnot\u001b[39;00m \u001b[38;5;28;01mNone\u001b[39;00m:\n",
      "\u001b[31mKeyboardInterrupt\u001b[39m: "
     ]
    }
   ],
   "source": [
    "history_t = model_t.fit(\n",
    "    train_generator,\n",
    "    steps_per_epoch=len(train_generator),\n",
    "    epochs=20,\n",
    "    validation_data=val_generator,\n",
    "    validation_steps=len(val_generator),\n",
    "    callbacks=callbacks_t,\n",
    "    class_weight = class_weights\n",
    ")"
   ]
  },
  {
   "cell_type": "markdown",
   "id": "2ade24d1",
   "metadata": {},
   "source": [
    "Standart techniques are not improving the model. Next step is to try transfer learning"
   ]
  },
  {
   "cell_type": "markdown",
   "id": "9ae1a5ba",
   "metadata": {},
   "source": [
    "### Transfer Learning Test ###\n",
    "---"
   ]
  },
  {
   "cell_type": "code",
   "execution_count": 192,
   "id": "6e236e3d",
   "metadata": {},
   "outputs": [],
   "source": [
    "from tensorflow.keras.applications import VGG16\n",
    "from tensorflow.keras.layers import Dense, GlobalAveragePooling2D, Dropout\n",
    "from tensorflow.keras.models import Model\n",
    "from tensorflow.keras.optimizers import Adam, RMSprop"
   ]
  },
  {
   "cell_type": "code",
   "execution_count": 206,
   "id": "880a4c99",
   "metadata": {},
   "outputs": [],
   "source": [
    "transfer_model = VGG16(\n",
    "    weights='imagenet',        \n",
    "    include_top=False,          \n",
    "    input_shape=(224,224,3)    \n",
    ")"
   ]
  },
  {
   "cell_type": "code",
   "execution_count": 207,
   "id": "2e955e56",
   "metadata": {},
   "outputs": [],
   "source": [
    "for layer in transfer_model.layers:\n",
    "    layer.trainable = False"
   ]
  },
  {
   "cell_type": "code",
   "execution_count": 199,
   "id": "4de2d4b2",
   "metadata": {},
   "outputs": [
    {
     "data": {
      "text/html": [
       "<pre style=\"white-space:pre;overflow-x:auto;line-height:normal;font-family:Menlo,'DejaVu Sans Mono',consolas,'Courier New',monospace\"><span style=\"font-weight: bold\">Model: \"vgg16\"</span>\n",
       "</pre>\n"
      ],
      "text/plain": [
       "\u001b[1mModel: \"vgg16\"\u001b[0m\n"
      ]
     },
     "metadata": {},
     "output_type": "display_data"
    },
    {
     "data": {
      "text/html": [
       "<pre style=\"white-space:pre;overflow-x:auto;line-height:normal;font-family:Menlo,'DejaVu Sans Mono',consolas,'Courier New',monospace\">┏━━━━━━━━━━━━━━━━━━━━━━━━━━━━━━━━━┳━━━━━━━━━━━━━━━━━━━━━━━━┳━━━━━━━━━━━━━━━┓\n",
       "┃<span style=\"font-weight: bold\"> Layer (type)                    </span>┃<span style=\"font-weight: bold\"> Output Shape           </span>┃<span style=\"font-weight: bold\">       Param # </span>┃\n",
       "┡━━━━━━━━━━━━━━━━━━━━━━━━━━━━━━━━━╇━━━━━━━━━━━━━━━━━━━━━━━━╇━━━━━━━━━━━━━━━┩\n",
       "│ input_layer_14 (<span style=\"color: #0087ff; text-decoration-color: #0087ff\">InputLayer</span>)     │ (<span style=\"color: #00d7ff; text-decoration-color: #00d7ff\">None</span>, <span style=\"color: #00af00; text-decoration-color: #00af00\">224</span>, <span style=\"color: #00af00; text-decoration-color: #00af00\">224</span>, <span style=\"color: #00af00; text-decoration-color: #00af00\">3</span>)    │             <span style=\"color: #00af00; text-decoration-color: #00af00\">0</span> │\n",
       "├─────────────────────────────────┼────────────────────────┼───────────────┤\n",
       "│ block1_conv1 (<span style=\"color: #0087ff; text-decoration-color: #0087ff\">Conv2D</span>)           │ (<span style=\"color: #00d7ff; text-decoration-color: #00d7ff\">None</span>, <span style=\"color: #00af00; text-decoration-color: #00af00\">224</span>, <span style=\"color: #00af00; text-decoration-color: #00af00\">224</span>, <span style=\"color: #00af00; text-decoration-color: #00af00\">64</span>)   │         <span style=\"color: #00af00; text-decoration-color: #00af00\">1,792</span> │\n",
       "├─────────────────────────────────┼────────────────────────┼───────────────┤\n",
       "│ block1_conv2 (<span style=\"color: #0087ff; text-decoration-color: #0087ff\">Conv2D</span>)           │ (<span style=\"color: #00d7ff; text-decoration-color: #00d7ff\">None</span>, <span style=\"color: #00af00; text-decoration-color: #00af00\">224</span>, <span style=\"color: #00af00; text-decoration-color: #00af00\">224</span>, <span style=\"color: #00af00; text-decoration-color: #00af00\">64</span>)   │        <span style=\"color: #00af00; text-decoration-color: #00af00\">36,928</span> │\n",
       "├─────────────────────────────────┼────────────────────────┼───────────────┤\n",
       "│ block1_pool (<span style=\"color: #0087ff; text-decoration-color: #0087ff\">MaxPooling2D</span>)      │ (<span style=\"color: #00d7ff; text-decoration-color: #00d7ff\">None</span>, <span style=\"color: #00af00; text-decoration-color: #00af00\">112</span>, <span style=\"color: #00af00; text-decoration-color: #00af00\">112</span>, <span style=\"color: #00af00; text-decoration-color: #00af00\">64</span>)   │             <span style=\"color: #00af00; text-decoration-color: #00af00\">0</span> │\n",
       "├─────────────────────────────────┼────────────────────────┼───────────────┤\n",
       "│ block2_conv1 (<span style=\"color: #0087ff; text-decoration-color: #0087ff\">Conv2D</span>)           │ (<span style=\"color: #00d7ff; text-decoration-color: #00d7ff\">None</span>, <span style=\"color: #00af00; text-decoration-color: #00af00\">112</span>, <span style=\"color: #00af00; text-decoration-color: #00af00\">112</span>, <span style=\"color: #00af00; text-decoration-color: #00af00\">128</span>)  │        <span style=\"color: #00af00; text-decoration-color: #00af00\">73,856</span> │\n",
       "├─────────────────────────────────┼────────────────────────┼───────────────┤\n",
       "│ block2_conv2 (<span style=\"color: #0087ff; text-decoration-color: #0087ff\">Conv2D</span>)           │ (<span style=\"color: #00d7ff; text-decoration-color: #00d7ff\">None</span>, <span style=\"color: #00af00; text-decoration-color: #00af00\">112</span>, <span style=\"color: #00af00; text-decoration-color: #00af00\">112</span>, <span style=\"color: #00af00; text-decoration-color: #00af00\">128</span>)  │       <span style=\"color: #00af00; text-decoration-color: #00af00\">147,584</span> │\n",
       "├─────────────────────────────────┼────────────────────────┼───────────────┤\n",
       "│ block2_pool (<span style=\"color: #0087ff; text-decoration-color: #0087ff\">MaxPooling2D</span>)      │ (<span style=\"color: #00d7ff; text-decoration-color: #00d7ff\">None</span>, <span style=\"color: #00af00; text-decoration-color: #00af00\">56</span>, <span style=\"color: #00af00; text-decoration-color: #00af00\">56</span>, <span style=\"color: #00af00; text-decoration-color: #00af00\">128</span>)    │             <span style=\"color: #00af00; text-decoration-color: #00af00\">0</span> │\n",
       "├─────────────────────────────────┼────────────────────────┼───────────────┤\n",
       "│ block3_conv1 (<span style=\"color: #0087ff; text-decoration-color: #0087ff\">Conv2D</span>)           │ (<span style=\"color: #00d7ff; text-decoration-color: #00d7ff\">None</span>, <span style=\"color: #00af00; text-decoration-color: #00af00\">56</span>, <span style=\"color: #00af00; text-decoration-color: #00af00\">56</span>, <span style=\"color: #00af00; text-decoration-color: #00af00\">256</span>)    │       <span style=\"color: #00af00; text-decoration-color: #00af00\">295,168</span> │\n",
       "├─────────────────────────────────┼────────────────────────┼───────────────┤\n",
       "│ block3_conv2 (<span style=\"color: #0087ff; text-decoration-color: #0087ff\">Conv2D</span>)           │ (<span style=\"color: #00d7ff; text-decoration-color: #00d7ff\">None</span>, <span style=\"color: #00af00; text-decoration-color: #00af00\">56</span>, <span style=\"color: #00af00; text-decoration-color: #00af00\">56</span>, <span style=\"color: #00af00; text-decoration-color: #00af00\">256</span>)    │       <span style=\"color: #00af00; text-decoration-color: #00af00\">590,080</span> │\n",
       "├─────────────────────────────────┼────────────────────────┼───────────────┤\n",
       "│ block3_conv3 (<span style=\"color: #0087ff; text-decoration-color: #0087ff\">Conv2D</span>)           │ (<span style=\"color: #00d7ff; text-decoration-color: #00d7ff\">None</span>, <span style=\"color: #00af00; text-decoration-color: #00af00\">56</span>, <span style=\"color: #00af00; text-decoration-color: #00af00\">56</span>, <span style=\"color: #00af00; text-decoration-color: #00af00\">256</span>)    │       <span style=\"color: #00af00; text-decoration-color: #00af00\">590,080</span> │\n",
       "├─────────────────────────────────┼────────────────────────┼───────────────┤\n",
       "│ block3_pool (<span style=\"color: #0087ff; text-decoration-color: #0087ff\">MaxPooling2D</span>)      │ (<span style=\"color: #00d7ff; text-decoration-color: #00d7ff\">None</span>, <span style=\"color: #00af00; text-decoration-color: #00af00\">28</span>, <span style=\"color: #00af00; text-decoration-color: #00af00\">28</span>, <span style=\"color: #00af00; text-decoration-color: #00af00\">256</span>)    │             <span style=\"color: #00af00; text-decoration-color: #00af00\">0</span> │\n",
       "├─────────────────────────────────┼────────────────────────┼───────────────┤\n",
       "│ block4_conv1 (<span style=\"color: #0087ff; text-decoration-color: #0087ff\">Conv2D</span>)           │ (<span style=\"color: #00d7ff; text-decoration-color: #00d7ff\">None</span>, <span style=\"color: #00af00; text-decoration-color: #00af00\">28</span>, <span style=\"color: #00af00; text-decoration-color: #00af00\">28</span>, <span style=\"color: #00af00; text-decoration-color: #00af00\">512</span>)    │     <span style=\"color: #00af00; text-decoration-color: #00af00\">1,180,160</span> │\n",
       "├─────────────────────────────────┼────────────────────────┼───────────────┤\n",
       "│ block4_conv2 (<span style=\"color: #0087ff; text-decoration-color: #0087ff\">Conv2D</span>)           │ (<span style=\"color: #00d7ff; text-decoration-color: #00d7ff\">None</span>, <span style=\"color: #00af00; text-decoration-color: #00af00\">28</span>, <span style=\"color: #00af00; text-decoration-color: #00af00\">28</span>, <span style=\"color: #00af00; text-decoration-color: #00af00\">512</span>)    │     <span style=\"color: #00af00; text-decoration-color: #00af00\">2,359,808</span> │\n",
       "├─────────────────────────────────┼────────────────────────┼───────────────┤\n",
       "│ block4_conv3 (<span style=\"color: #0087ff; text-decoration-color: #0087ff\">Conv2D</span>)           │ (<span style=\"color: #00d7ff; text-decoration-color: #00d7ff\">None</span>, <span style=\"color: #00af00; text-decoration-color: #00af00\">28</span>, <span style=\"color: #00af00; text-decoration-color: #00af00\">28</span>, <span style=\"color: #00af00; text-decoration-color: #00af00\">512</span>)    │     <span style=\"color: #00af00; text-decoration-color: #00af00\">2,359,808</span> │\n",
       "├─────────────────────────────────┼────────────────────────┼───────────────┤\n",
       "│ block4_pool (<span style=\"color: #0087ff; text-decoration-color: #0087ff\">MaxPooling2D</span>)      │ (<span style=\"color: #00d7ff; text-decoration-color: #00d7ff\">None</span>, <span style=\"color: #00af00; text-decoration-color: #00af00\">14</span>, <span style=\"color: #00af00; text-decoration-color: #00af00\">14</span>, <span style=\"color: #00af00; text-decoration-color: #00af00\">512</span>)    │             <span style=\"color: #00af00; text-decoration-color: #00af00\">0</span> │\n",
       "├─────────────────────────────────┼────────────────────────┼───────────────┤\n",
       "│ block5_conv1 (<span style=\"color: #0087ff; text-decoration-color: #0087ff\">Conv2D</span>)           │ (<span style=\"color: #00d7ff; text-decoration-color: #00d7ff\">None</span>, <span style=\"color: #00af00; text-decoration-color: #00af00\">14</span>, <span style=\"color: #00af00; text-decoration-color: #00af00\">14</span>, <span style=\"color: #00af00; text-decoration-color: #00af00\">512</span>)    │     <span style=\"color: #00af00; text-decoration-color: #00af00\">2,359,808</span> │\n",
       "├─────────────────────────────────┼────────────────────────┼───────────────┤\n",
       "│ block5_conv2 (<span style=\"color: #0087ff; text-decoration-color: #0087ff\">Conv2D</span>)           │ (<span style=\"color: #00d7ff; text-decoration-color: #00d7ff\">None</span>, <span style=\"color: #00af00; text-decoration-color: #00af00\">14</span>, <span style=\"color: #00af00; text-decoration-color: #00af00\">14</span>, <span style=\"color: #00af00; text-decoration-color: #00af00\">512</span>)    │     <span style=\"color: #00af00; text-decoration-color: #00af00\">2,359,808</span> │\n",
       "├─────────────────────────────────┼────────────────────────┼───────────────┤\n",
       "│ block5_conv3 (<span style=\"color: #0087ff; text-decoration-color: #0087ff\">Conv2D</span>)           │ (<span style=\"color: #00d7ff; text-decoration-color: #00d7ff\">None</span>, <span style=\"color: #00af00; text-decoration-color: #00af00\">14</span>, <span style=\"color: #00af00; text-decoration-color: #00af00\">14</span>, <span style=\"color: #00af00; text-decoration-color: #00af00\">512</span>)    │     <span style=\"color: #00af00; text-decoration-color: #00af00\">2,359,808</span> │\n",
       "├─────────────────────────────────┼────────────────────────┼───────────────┤\n",
       "│ block5_pool (<span style=\"color: #0087ff; text-decoration-color: #0087ff\">MaxPooling2D</span>)      │ (<span style=\"color: #00d7ff; text-decoration-color: #00d7ff\">None</span>, <span style=\"color: #00af00; text-decoration-color: #00af00\">7</span>, <span style=\"color: #00af00; text-decoration-color: #00af00\">7</span>, <span style=\"color: #00af00; text-decoration-color: #00af00\">512</span>)      │             <span style=\"color: #00af00; text-decoration-color: #00af00\">0</span> │\n",
       "└─────────────────────────────────┴────────────────────────┴───────────────┘\n",
       "</pre>\n"
      ],
      "text/plain": [
       "┏━━━━━━━━━━━━━━━━━━━━━━━━━━━━━━━━━┳━━━━━━━━━━━━━━━━━━━━━━━━┳━━━━━━━━━━━━━━━┓\n",
       "┃\u001b[1m \u001b[0m\u001b[1mLayer (type)                   \u001b[0m\u001b[1m \u001b[0m┃\u001b[1m \u001b[0m\u001b[1mOutput Shape          \u001b[0m\u001b[1m \u001b[0m┃\u001b[1m \u001b[0m\u001b[1m      Param #\u001b[0m\u001b[1m \u001b[0m┃\n",
       "┡━━━━━━━━━━━━━━━━━━━━━━━━━━━━━━━━━╇━━━━━━━━━━━━━━━━━━━━━━━━╇━━━━━━━━━━━━━━━┩\n",
       "│ input_layer_14 (\u001b[38;5;33mInputLayer\u001b[0m)     │ (\u001b[38;5;45mNone\u001b[0m, \u001b[38;5;34m224\u001b[0m, \u001b[38;5;34m224\u001b[0m, \u001b[38;5;34m3\u001b[0m)    │             \u001b[38;5;34m0\u001b[0m │\n",
       "├─────────────────────────────────┼────────────────────────┼───────────────┤\n",
       "│ block1_conv1 (\u001b[38;5;33mConv2D\u001b[0m)           │ (\u001b[38;5;45mNone\u001b[0m, \u001b[38;5;34m224\u001b[0m, \u001b[38;5;34m224\u001b[0m, \u001b[38;5;34m64\u001b[0m)   │         \u001b[38;5;34m1,792\u001b[0m │\n",
       "├─────────────────────────────────┼────────────────────────┼───────────────┤\n",
       "│ block1_conv2 (\u001b[38;5;33mConv2D\u001b[0m)           │ (\u001b[38;5;45mNone\u001b[0m, \u001b[38;5;34m224\u001b[0m, \u001b[38;5;34m224\u001b[0m, \u001b[38;5;34m64\u001b[0m)   │        \u001b[38;5;34m36,928\u001b[0m │\n",
       "├─────────────────────────────────┼────────────────────────┼───────────────┤\n",
       "│ block1_pool (\u001b[38;5;33mMaxPooling2D\u001b[0m)      │ (\u001b[38;5;45mNone\u001b[0m, \u001b[38;5;34m112\u001b[0m, \u001b[38;5;34m112\u001b[0m, \u001b[38;5;34m64\u001b[0m)   │             \u001b[38;5;34m0\u001b[0m │\n",
       "├─────────────────────────────────┼────────────────────────┼───────────────┤\n",
       "│ block2_conv1 (\u001b[38;5;33mConv2D\u001b[0m)           │ (\u001b[38;5;45mNone\u001b[0m, \u001b[38;5;34m112\u001b[0m, \u001b[38;5;34m112\u001b[0m, \u001b[38;5;34m128\u001b[0m)  │        \u001b[38;5;34m73,856\u001b[0m │\n",
       "├─────────────────────────────────┼────────────────────────┼───────────────┤\n",
       "│ block2_conv2 (\u001b[38;5;33mConv2D\u001b[0m)           │ (\u001b[38;5;45mNone\u001b[0m, \u001b[38;5;34m112\u001b[0m, \u001b[38;5;34m112\u001b[0m, \u001b[38;5;34m128\u001b[0m)  │       \u001b[38;5;34m147,584\u001b[0m │\n",
       "├─────────────────────────────────┼────────────────────────┼───────────────┤\n",
       "│ block2_pool (\u001b[38;5;33mMaxPooling2D\u001b[0m)      │ (\u001b[38;5;45mNone\u001b[0m, \u001b[38;5;34m56\u001b[0m, \u001b[38;5;34m56\u001b[0m, \u001b[38;5;34m128\u001b[0m)    │             \u001b[38;5;34m0\u001b[0m │\n",
       "├─────────────────────────────────┼────────────────────────┼───────────────┤\n",
       "│ block3_conv1 (\u001b[38;5;33mConv2D\u001b[0m)           │ (\u001b[38;5;45mNone\u001b[0m, \u001b[38;5;34m56\u001b[0m, \u001b[38;5;34m56\u001b[0m, \u001b[38;5;34m256\u001b[0m)    │       \u001b[38;5;34m295,168\u001b[0m │\n",
       "├─────────────────────────────────┼────────────────────────┼───────────────┤\n",
       "│ block3_conv2 (\u001b[38;5;33mConv2D\u001b[0m)           │ (\u001b[38;5;45mNone\u001b[0m, \u001b[38;5;34m56\u001b[0m, \u001b[38;5;34m56\u001b[0m, \u001b[38;5;34m256\u001b[0m)    │       \u001b[38;5;34m590,080\u001b[0m │\n",
       "├─────────────────────────────────┼────────────────────────┼───────────────┤\n",
       "│ block3_conv3 (\u001b[38;5;33mConv2D\u001b[0m)           │ (\u001b[38;5;45mNone\u001b[0m, \u001b[38;5;34m56\u001b[0m, \u001b[38;5;34m56\u001b[0m, \u001b[38;5;34m256\u001b[0m)    │       \u001b[38;5;34m590,080\u001b[0m │\n",
       "├─────────────────────────────────┼────────────────────────┼───────────────┤\n",
       "│ block3_pool (\u001b[38;5;33mMaxPooling2D\u001b[0m)      │ (\u001b[38;5;45mNone\u001b[0m, \u001b[38;5;34m28\u001b[0m, \u001b[38;5;34m28\u001b[0m, \u001b[38;5;34m256\u001b[0m)    │             \u001b[38;5;34m0\u001b[0m │\n",
       "├─────────────────────────────────┼────────────────────────┼───────────────┤\n",
       "│ block4_conv1 (\u001b[38;5;33mConv2D\u001b[0m)           │ (\u001b[38;5;45mNone\u001b[0m, \u001b[38;5;34m28\u001b[0m, \u001b[38;5;34m28\u001b[0m, \u001b[38;5;34m512\u001b[0m)    │     \u001b[38;5;34m1,180,160\u001b[0m │\n",
       "├─────────────────────────────────┼────────────────────────┼───────────────┤\n",
       "│ block4_conv2 (\u001b[38;5;33mConv2D\u001b[0m)           │ (\u001b[38;5;45mNone\u001b[0m, \u001b[38;5;34m28\u001b[0m, \u001b[38;5;34m28\u001b[0m, \u001b[38;5;34m512\u001b[0m)    │     \u001b[38;5;34m2,359,808\u001b[0m │\n",
       "├─────────────────────────────────┼────────────────────────┼───────────────┤\n",
       "│ block4_conv3 (\u001b[38;5;33mConv2D\u001b[0m)           │ (\u001b[38;5;45mNone\u001b[0m, \u001b[38;5;34m28\u001b[0m, \u001b[38;5;34m28\u001b[0m, \u001b[38;5;34m512\u001b[0m)    │     \u001b[38;5;34m2,359,808\u001b[0m │\n",
       "├─────────────────────────────────┼────────────────────────┼───────────────┤\n",
       "│ block4_pool (\u001b[38;5;33mMaxPooling2D\u001b[0m)      │ (\u001b[38;5;45mNone\u001b[0m, \u001b[38;5;34m14\u001b[0m, \u001b[38;5;34m14\u001b[0m, \u001b[38;5;34m512\u001b[0m)    │             \u001b[38;5;34m0\u001b[0m │\n",
       "├─────────────────────────────────┼────────────────────────┼───────────────┤\n",
       "│ block5_conv1 (\u001b[38;5;33mConv2D\u001b[0m)           │ (\u001b[38;5;45mNone\u001b[0m, \u001b[38;5;34m14\u001b[0m, \u001b[38;5;34m14\u001b[0m, \u001b[38;5;34m512\u001b[0m)    │     \u001b[38;5;34m2,359,808\u001b[0m │\n",
       "├─────────────────────────────────┼────────────────────────┼───────────────┤\n",
       "│ block5_conv2 (\u001b[38;5;33mConv2D\u001b[0m)           │ (\u001b[38;5;45mNone\u001b[0m, \u001b[38;5;34m14\u001b[0m, \u001b[38;5;34m14\u001b[0m, \u001b[38;5;34m512\u001b[0m)    │     \u001b[38;5;34m2,359,808\u001b[0m │\n",
       "├─────────────────────────────────┼────────────────────────┼───────────────┤\n",
       "│ block5_conv3 (\u001b[38;5;33mConv2D\u001b[0m)           │ (\u001b[38;5;45mNone\u001b[0m, \u001b[38;5;34m14\u001b[0m, \u001b[38;5;34m14\u001b[0m, \u001b[38;5;34m512\u001b[0m)    │     \u001b[38;5;34m2,359,808\u001b[0m │\n",
       "├─────────────────────────────────┼────────────────────────┼───────────────┤\n",
       "│ block5_pool (\u001b[38;5;33mMaxPooling2D\u001b[0m)      │ (\u001b[38;5;45mNone\u001b[0m, \u001b[38;5;34m7\u001b[0m, \u001b[38;5;34m7\u001b[0m, \u001b[38;5;34m512\u001b[0m)      │             \u001b[38;5;34m0\u001b[0m │\n",
       "└─────────────────────────────────┴────────────────────────┴───────────────┘\n"
      ]
     },
     "metadata": {},
     "output_type": "display_data"
    },
    {
     "data": {
      "text/html": [
       "<pre style=\"white-space:pre;overflow-x:auto;line-height:normal;font-family:Menlo,'DejaVu Sans Mono',consolas,'Courier New',monospace\"><span style=\"font-weight: bold\"> Total params: </span><span style=\"color: #00af00; text-decoration-color: #00af00\">14,714,688</span> (56.13 MB)\n",
       "</pre>\n"
      ],
      "text/plain": [
       "\u001b[1m Total params: \u001b[0m\u001b[38;5;34m14,714,688\u001b[0m (56.13 MB)\n"
      ]
     },
     "metadata": {},
     "output_type": "display_data"
    },
    {
     "data": {
      "text/html": [
       "<pre style=\"white-space:pre;overflow-x:auto;line-height:normal;font-family:Menlo,'DejaVu Sans Mono',consolas,'Courier New',monospace\"><span style=\"font-weight: bold\"> Trainable params: </span><span style=\"color: #00af00; text-decoration-color: #00af00\">0</span> (0.00 B)\n",
       "</pre>\n"
      ],
      "text/plain": [
       "\u001b[1m Trainable params: \u001b[0m\u001b[38;5;34m0\u001b[0m (0.00 B)\n"
      ]
     },
     "metadata": {},
     "output_type": "display_data"
    },
    {
     "data": {
      "text/html": [
       "<pre style=\"white-space:pre;overflow-x:auto;line-height:normal;font-family:Menlo,'DejaVu Sans Mono',consolas,'Courier New',monospace\"><span style=\"font-weight: bold\"> Non-trainable params: </span><span style=\"color: #00af00; text-decoration-color: #00af00\">14,714,688</span> (56.13 MB)\n",
       "</pre>\n"
      ],
      "text/plain": [
       "\u001b[1m Non-trainable params: \u001b[0m\u001b[38;5;34m14,714,688\u001b[0m (56.13 MB)\n"
      ]
     },
     "metadata": {},
     "output_type": "display_data"
    }
   ],
   "source": [
    "transfer_model.summary()"
   ]
  },
  {
   "cell_type": "code",
   "execution_count": 208,
   "id": "437d3d9d",
   "metadata": {},
   "outputs": [
    {
     "data": {
      "text/plain": [
       "<KerasTensor shape=(None, 7, 7, 512), dtype=float32, sparse=False, ragged=False, name=keras_tensor_1554>"
      ]
     },
     "execution_count": 208,
     "metadata": {},
     "output_type": "execute_result"
    }
   ],
   "source": [
    "transfer_model.output"
   ]
  },
  {
   "cell_type": "code",
   "execution_count": 209,
   "id": "62b40ae1",
   "metadata": {},
   "outputs": [],
   "source": [
    "x = transfer_model.output           \n",
    "x = GlobalAveragePooling2D()(x) \n",
    "x = Dropout(0.3)(x)             \n",
    "output = Dense(8, activation='softmax')(x) "
   ]
  },
  {
   "cell_type": "code",
   "execution_count": 210,
   "id": "3aa4554b",
   "metadata": {},
   "outputs": [],
   "source": [
    "model_transfer = Model(inputs=transfer_model.input, outputs=output)"
   ]
  },
  {
   "cell_type": "code",
   "execution_count": 211,
   "id": "2164774f",
   "metadata": {},
   "outputs": [],
   "source": [
    "model_transfer.compile(\n",
    "    optimizer=optimizers.RMSprop(learning_rate=0.001),\n",
    "    loss='categorical_crossentropy',\n",
    "    metrics=['accuracy', 'precision', 'recall', 'auc']\n",
    ")"
   ]
  },
  {
   "cell_type": "code",
   "execution_count": 212,
   "id": "7c7c84ed",
   "metadata": {},
   "outputs": [],
   "source": [
    "callbacks_tr = [\n",
    "    EarlyStopping(monitor='val_accuracy', mode= 'max', patience=5, restore_best_weights=True), \n",
    "    ModelCheckpoint('Multi_Class_Classification/models/model_tr.h5', save_best_only=True)]"
   ]
  },
  {
   "cell_type": "code",
   "execution_count": 213,
   "id": "859a2860",
   "metadata": {},
   "outputs": [
    {
     "name": "stdout",
     "output_type": "stream",
     "text": [
      "Epoch 1/10\n",
      "\u001b[1m173/173\u001b[0m \u001b[32m━━━━━━━━━━━━━━━━━━━━\u001b[0m\u001b[37m\u001b[0m \u001b[1m0s\u001b[0m 6s/step - accuracy: 0.1221 - auc: 0.4990 - loss: 2.1597 - precision: 0.0000e+00 - recall: 0.0000e+00"
     ]
    },
    {
     "name": "stderr",
     "output_type": "stream",
     "text": [
      "WARNING:absl:You are saving your model as an HDF5 file via `model.save()` or `keras.saving.save_model(model)`. This file format is considered legacy. We recommend using instead the native Keras format, e.g. `model.save('my_model.keras')` or `keras.saving.save_model(model, 'my_model.keras')`. \n"
     ]
    },
    {
     "name": "stdout",
     "output_type": "stream",
     "text": [
      "\u001b[1m173/173\u001b[0m \u001b[32m━━━━━━━━━━━━━━━━━━━━\u001b[0m\u001b[37m\u001b[0m \u001b[1m1132s\u001b[0m 7s/step - accuracy: 0.1543 - auc: 0.5563 - loss: 2.0740 - precision: 0.0000e+00 - recall: 0.0000e+00 - val_accuracy: 0.2664 - val_auc: 0.6757 - val_loss: 1.9642 - val_precision: 0.0000e+00 - val_recall: 0.0000e+00\n",
      "Epoch 2/10\n",
      "\u001b[1m173/173\u001b[0m \u001b[32m━━━━━━━━━━━━━━━━━━━━\u001b[0m\u001b[37m\u001b[0m \u001b[1m0s\u001b[0m 7s/step - accuracy: 0.2111 - auc: 0.6359 - loss: 1.9719 - precision: 0.0000e+00 - recall: 0.0000e+00"
     ]
    },
    {
     "name": "stderr",
     "output_type": "stream",
     "text": [
      "WARNING:absl:You are saving your model as an HDF5 file via `model.save()` or `keras.saving.save_model(model)`. This file format is considered legacy. We recommend using instead the native Keras format, e.g. `model.save('my_model.keras')` or `keras.saving.save_model(model, 'my_model.keras')`. \n"
     ]
    },
    {
     "name": "stdout",
     "output_type": "stream",
     "text": [
      "\u001b[1m173/173\u001b[0m \u001b[32m━━━━━━━━━━━━━━━━━━━━\u001b[0m\u001b[37m\u001b[0m \u001b[1m1523s\u001b[0m 9s/step - accuracy: 0.2251 - auc: 0.6553 - loss: 1.9389 - precision: 0.0000e+00 - recall: 0.0000e+00 - val_accuracy: 0.3145 - val_auc: 0.7334 - val_loss: 1.8813 - val_precision: 0.0000e+00 - val_recall: 0.0000e+00\n",
      "Epoch 3/10\n",
      "\u001b[1m173/173\u001b[0m \u001b[32m━━━━━━━━━━━━━━━━━━━━\u001b[0m\u001b[37m\u001b[0m \u001b[1m0s\u001b[0m 7s/step - accuracy: 0.2448 - auc: 0.6774 - loss: 1.9213 - precision: 0.6609 - recall: 6.4265e-04"
     ]
    },
    {
     "name": "stderr",
     "output_type": "stream",
     "text": [
      "WARNING:absl:You are saving your model as an HDF5 file via `model.save()` or `keras.saving.save_model(model)`. This file format is considered legacy. We recommend using instead the native Keras format, e.g. `model.save('my_model.keras')` or `keras.saving.save_model(model, 'my_model.keras')`. \n"
     ]
    },
    {
     "name": "stdout",
     "output_type": "stream",
     "text": [
      "\u001b[1m173/173\u001b[0m \u001b[32m━━━━━━━━━━━━━━━━━━━━\u001b[0m\u001b[37m\u001b[0m \u001b[1m1528s\u001b[0m 9s/step - accuracy: 0.2677 - auc: 0.7003 - loss: 1.8672 - precision: 0.5455 - recall: 0.0011 - val_accuracy: 0.3364 - val_auc: 0.7459 - val_loss: 1.8360 - val_precision: 1.0000 - val_recall: 8.4317e-04\n",
      "Epoch 4/10\n",
      "\u001b[1m173/173\u001b[0m \u001b[32m━━━━━━━━━━━━━━━━━━━━\u001b[0m\u001b[37m\u001b[0m \u001b[1m0s\u001b[0m 7s/step - accuracy: 0.2894 - auc: 0.7169 - loss: 1.8204 - precision: 0.6365 - recall: 0.0022"
     ]
    },
    {
     "name": "stderr",
     "output_type": "stream",
     "text": [
      "WARNING:absl:You are saving your model as an HDF5 file via `model.save()` or `keras.saving.save_model(model)`. This file format is considered legacy. We recommend using instead the native Keras format, e.g. `model.save('my_model.keras')` or `keras.saving.save_model(model, 'my_model.keras')`. \n"
     ]
    },
    {
     "name": "stdout",
     "output_type": "stream",
     "text": [
      "\u001b[1m173/173\u001b[0m \u001b[32m━━━━━━━━━━━━━━━━━━━━\u001b[0m\u001b[37m\u001b[0m \u001b[1m1473s\u001b[0m 9s/step - accuracy: 0.2896 - auc: 0.7212 - loss: 1.8138 - precision: 0.5926 - recall: 0.0029 - val_accuracy: 0.3651 - val_auc: 0.7845 - val_loss: 1.7560 - val_precision: 1.0000 - val_recall: 0.0025\n",
      "Epoch 5/10\n",
      "\u001b[1m173/173\u001b[0m \u001b[32m━━━━━━━━━━━━━━━━━━━━\u001b[0m\u001b[37m\u001b[0m \u001b[1m0s\u001b[0m 7s/step - accuracy: 0.3059 - auc: 0.7303 - loss: 1.8000 - precision: 0.5048 - recall: 0.0049"
     ]
    },
    {
     "name": "stderr",
     "output_type": "stream",
     "text": [
      "WARNING:absl:You are saving your model as an HDF5 file via `model.save()` or `keras.saving.save_model(model)`. This file format is considered legacy. We recommend using instead the native Keras format, e.g. `model.save('my_model.keras')` or `keras.saving.save_model(model, 'my_model.keras')`. \n"
     ]
    },
    {
     "name": "stdout",
     "output_type": "stream",
     "text": [
      "\u001b[1m173/173\u001b[0m \u001b[32m━━━━━━━━━━━━━━━━━━━━\u001b[0m\u001b[37m\u001b[0m \u001b[1m1526s\u001b[0m 9s/step - accuracy: 0.3046 - auc: 0.7332 - loss: 1.7809 - precision: 0.5909 - recall: 0.0070 - val_accuracy: 0.3803 - val_auc: 0.7988 - val_loss: 1.7119 - val_precision: 0.7143 - val_recall: 0.0042\n",
      "Epoch 6/10\n",
      "\u001b[1m173/173\u001b[0m \u001b[32m━━━━━━━━━━━━━━━━━━━━\u001b[0m\u001b[37m\u001b[0m \u001b[1m0s\u001b[0m 7s/step - accuracy: 0.3168 - auc: 0.7447 - loss: 1.7611 - precision: 0.6845 - recall: 0.0137"
     ]
    },
    {
     "name": "stderr",
     "output_type": "stream",
     "text": [
      "WARNING:absl:You are saving your model as an HDF5 file via `model.save()` or `keras.saving.save_model(model)`. This file format is considered legacy. We recommend using instead the native Keras format, e.g. `model.save('my_model.keras')` or `keras.saving.save_model(model, 'my_model.keras')`. \n"
     ]
    },
    {
     "name": "stdout",
     "output_type": "stream",
     "text": [
      "\u001b[1m173/173\u001b[0m \u001b[32m━━━━━━━━━━━━━━━━━━━━\u001b[0m\u001b[37m\u001b[0m \u001b[1m1390s\u001b[0m 8s/step - accuracy: 0.3161 - auc: 0.7449 - loss: 1.7547 - precision: 0.6148 - recall: 0.0135 - val_accuracy: 0.3685 - val_auc: 0.7934 - val_loss: 1.7059 - val_precision: 0.7222 - val_recall: 0.0110\n",
      "Epoch 7/10\n",
      "\u001b[1m173/173\u001b[0m \u001b[32m━━━━━━━━━━━━━━━━━━━━\u001b[0m\u001b[37m\u001b[0m \u001b[1m0s\u001b[0m 7s/step - accuracy: 0.3370 - auc: 0.7534 - loss: 1.7251 - precision: 0.6585 - recall: 0.0168"
     ]
    },
    {
     "name": "stderr",
     "output_type": "stream",
     "text": [
      "WARNING:absl:You are saving your model as an HDF5 file via `model.save()` or `keras.saving.save_model(model)`. This file format is considered legacy. We recommend using instead the native Keras format, e.g. `model.save('my_model.keras')` or `keras.saving.save_model(model, 'my_model.keras')`. \n"
     ]
    },
    {
     "name": "stdout",
     "output_type": "stream",
     "text": [
      "\u001b[1m173/173\u001b[0m \u001b[32m━━━━━━━━━━━━━━━━━━━━\u001b[0m\u001b[37m\u001b[0m \u001b[1m1476s\u001b[0m 9s/step - accuracy: 0.3324 - auc: 0.7523 - loss: 1.7325 - precision: 0.6730 - recall: 0.0193 - val_accuracy: 0.3693 - val_auc: 0.7945 - val_loss: 1.6935 - val_precision: 0.7826 - val_recall: 0.0152\n",
      "Epoch 8/10\n",
      "\u001b[1m 27/173\u001b[0m \u001b[32m━━━\u001b[0m\u001b[37m━━━━━━━━━━━━━━━━━\u001b[0m \u001b[1m15:44\u001b[0m 6s/step - accuracy: 0.3569 - auc: 0.7642 - loss: 1.6224 - precision: 0.6560 - recall: 0.0231"
     ]
    },
    {
     "ename": "KeyboardInterrupt",
     "evalue": "",
     "output_type": "error",
     "traceback": [
      "\u001b[31m---------------------------------------------------------------------------\u001b[39m",
      "\u001b[31mKeyboardInterrupt\u001b[39m                         Traceback (most recent call last)",
      "\u001b[36mCell\u001b[39m\u001b[36m \u001b[39m\u001b[32mIn[213]\u001b[39m\u001b[32m, line 1\u001b[39m\n\u001b[32m----> \u001b[39m\u001b[32m1\u001b[39m transfer_history = \u001b[43mmodel_transfer\u001b[49m\u001b[43m.\u001b[49m\u001b[43mfit\u001b[49m\u001b[43m(\u001b[49m\n\u001b[32m      2\u001b[39m \u001b[43m    \u001b[49m\u001b[43mtrain_generator\u001b[49m\u001b[43m,\u001b[49m\u001b[43m          \u001b[49m\n\u001b[32m      3\u001b[39m \u001b[43m    \u001b[49m\u001b[43mvalidation_data\u001b[49m\u001b[43m=\u001b[49m\u001b[43mval_generator\u001b[49m\u001b[43m,\u001b[49m\n\u001b[32m      4\u001b[39m \u001b[43m    \u001b[49m\u001b[43mepochs\u001b[49m\u001b[43m=\u001b[49m\u001b[32;43m10\u001b[39;49m\u001b[43m,\u001b[49m\u001b[43m                \u001b[49m\n\u001b[32m      5\u001b[39m \u001b[43m    \u001b[49m\u001b[43msteps_per_epoch\u001b[49m\u001b[43m=\u001b[49m\u001b[38;5;28;43mlen\u001b[39;49m\u001b[43m(\u001b[49m\u001b[43mtrain_generator\u001b[49m\u001b[43m)\u001b[49m\u001b[43m,\u001b[49m\n\u001b[32m      6\u001b[39m \u001b[43m    \u001b[49m\u001b[43mvalidation_steps\u001b[49m\u001b[43m=\u001b[49m\u001b[38;5;28;43mlen\u001b[39;49m\u001b[43m(\u001b[49m\u001b[43mval_generator\u001b[49m\u001b[43m)\u001b[49m\u001b[43m,\u001b[49m\n\u001b[32m      7\u001b[39m \u001b[43m    \u001b[49m\u001b[43mclass_weight\u001b[49m\u001b[43m=\u001b[49m\u001b[43mclass_weights\u001b[49m\u001b[43m,\u001b[49m\u001b[43m  \u001b[49m\n\u001b[32m      8\u001b[39m \u001b[43m    \u001b[49m\u001b[43mcallbacks\u001b[49m\u001b[43m=\u001b[49m\u001b[43mcallbacks_tr\u001b[49m\u001b[43m)\u001b[49m\n",
      "\u001b[36mFile \u001b[39m\u001b[32mc:\\Users\\pedro\\Desktop\\Breast-Cancer-Detection\\venv\\Lib\\site-packages\\keras\\src\\utils\\traceback_utils.py:117\u001b[39m, in \u001b[36mfilter_traceback.<locals>.error_handler\u001b[39m\u001b[34m(*args, **kwargs)\u001b[39m\n\u001b[32m    115\u001b[39m filtered_tb = \u001b[38;5;28;01mNone\u001b[39;00m\n\u001b[32m    116\u001b[39m \u001b[38;5;28;01mtry\u001b[39;00m:\n\u001b[32m--> \u001b[39m\u001b[32m117\u001b[39m     \u001b[38;5;28;01mreturn\u001b[39;00m \u001b[43mfn\u001b[49m\u001b[43m(\u001b[49m\u001b[43m*\u001b[49m\u001b[43margs\u001b[49m\u001b[43m,\u001b[49m\u001b[43m \u001b[49m\u001b[43m*\u001b[49m\u001b[43m*\u001b[49m\u001b[43mkwargs\u001b[49m\u001b[43m)\u001b[49m\n\u001b[32m    118\u001b[39m \u001b[38;5;28;01mexcept\u001b[39;00m \u001b[38;5;167;01mException\u001b[39;00m \u001b[38;5;28;01mas\u001b[39;00m e:\n\u001b[32m    119\u001b[39m     filtered_tb = _process_traceback_frames(e.__traceback__)\n",
      "\u001b[36mFile \u001b[39m\u001b[32mc:\\Users\\pedro\\Desktop\\Breast-Cancer-Detection\\venv\\Lib\\site-packages\\keras\\src\\backend\\tensorflow\\trainer.py:377\u001b[39m, in \u001b[36mTensorFlowTrainer.fit\u001b[39m\u001b[34m(self, x, y, batch_size, epochs, verbose, callbacks, validation_split, validation_data, shuffle, class_weight, sample_weight, initial_epoch, steps_per_epoch, validation_steps, validation_batch_size, validation_freq)\u001b[39m\n\u001b[32m    375\u001b[39m \u001b[38;5;28;01mfor\u001b[39;00m begin_step, end_step, iterator \u001b[38;5;129;01min\u001b[39;00m epoch_iterator:\n\u001b[32m    376\u001b[39m     callbacks.on_train_batch_begin(begin_step)\n\u001b[32m--> \u001b[39m\u001b[32m377\u001b[39m     logs = \u001b[38;5;28;43mself\u001b[39;49m\u001b[43m.\u001b[49m\u001b[43mtrain_function\u001b[49m\u001b[43m(\u001b[49m\u001b[43miterator\u001b[49m\u001b[43m)\u001b[49m\n\u001b[32m    378\u001b[39m     callbacks.on_train_batch_end(end_step, logs)\n\u001b[32m    379\u001b[39m     \u001b[38;5;28;01mif\u001b[39;00m \u001b[38;5;28mself\u001b[39m.stop_training:\n",
      "\u001b[36mFile \u001b[39m\u001b[32mc:\\Users\\pedro\\Desktop\\Breast-Cancer-Detection\\venv\\Lib\\site-packages\\keras\\src\\backend\\tensorflow\\trainer.py:220\u001b[39m, in \u001b[36mTensorFlowTrainer._make_function.<locals>.function\u001b[39m\u001b[34m(iterator)\u001b[39m\n\u001b[32m    216\u001b[39m \u001b[38;5;28;01mdef\u001b[39;00m\u001b[38;5;250m \u001b[39m\u001b[34mfunction\u001b[39m(iterator):\n\u001b[32m    217\u001b[39m     \u001b[38;5;28;01mif\u001b[39;00m \u001b[38;5;28misinstance\u001b[39m(\n\u001b[32m    218\u001b[39m         iterator, (tf.data.Iterator, tf.distribute.DistributedIterator)\n\u001b[32m    219\u001b[39m     ):\n\u001b[32m--> \u001b[39m\u001b[32m220\u001b[39m         opt_outputs = \u001b[43mmulti_step_on_iterator\u001b[49m\u001b[43m(\u001b[49m\u001b[43miterator\u001b[49m\u001b[43m)\u001b[49m\n\u001b[32m    221\u001b[39m         \u001b[38;5;28;01mif\u001b[39;00m \u001b[38;5;129;01mnot\u001b[39;00m opt_outputs.has_value():\n\u001b[32m    222\u001b[39m             \u001b[38;5;28;01mraise\u001b[39;00m \u001b[38;5;167;01mStopIteration\u001b[39;00m\n",
      "\u001b[36mFile \u001b[39m\u001b[32mc:\\Users\\pedro\\Desktop\\Breast-Cancer-Detection\\venv\\Lib\\site-packages\\tensorflow\\python\\util\\traceback_utils.py:150\u001b[39m, in \u001b[36mfilter_traceback.<locals>.error_handler\u001b[39m\u001b[34m(*args, **kwargs)\u001b[39m\n\u001b[32m    148\u001b[39m filtered_tb = \u001b[38;5;28;01mNone\u001b[39;00m\n\u001b[32m    149\u001b[39m \u001b[38;5;28;01mtry\u001b[39;00m:\n\u001b[32m--> \u001b[39m\u001b[32m150\u001b[39m   \u001b[38;5;28;01mreturn\u001b[39;00m \u001b[43mfn\u001b[49m\u001b[43m(\u001b[49m\u001b[43m*\u001b[49m\u001b[43margs\u001b[49m\u001b[43m,\u001b[49m\u001b[43m \u001b[49m\u001b[43m*\u001b[49m\u001b[43m*\u001b[49m\u001b[43mkwargs\u001b[49m\u001b[43m)\u001b[49m\n\u001b[32m    151\u001b[39m \u001b[38;5;28;01mexcept\u001b[39;00m \u001b[38;5;167;01mException\u001b[39;00m \u001b[38;5;28;01mas\u001b[39;00m e:\n\u001b[32m    152\u001b[39m   filtered_tb = _process_traceback_frames(e.__traceback__)\n",
      "\u001b[36mFile \u001b[39m\u001b[32mc:\\Users\\pedro\\Desktop\\Breast-Cancer-Detection\\venv\\Lib\\site-packages\\tensorflow\\python\\eager\\polymorphic_function\\polymorphic_function.py:833\u001b[39m, in \u001b[36mFunction.__call__\u001b[39m\u001b[34m(self, *args, **kwds)\u001b[39m\n\u001b[32m    830\u001b[39m compiler = \u001b[33m\"\u001b[39m\u001b[33mxla\u001b[39m\u001b[33m\"\u001b[39m \u001b[38;5;28;01mif\u001b[39;00m \u001b[38;5;28mself\u001b[39m._jit_compile \u001b[38;5;28;01melse\u001b[39;00m \u001b[33m\"\u001b[39m\u001b[33mnonXla\u001b[39m\u001b[33m\"\u001b[39m\n\u001b[32m    832\u001b[39m \u001b[38;5;28;01mwith\u001b[39;00m OptionalXlaContext(\u001b[38;5;28mself\u001b[39m._jit_compile):\n\u001b[32m--> \u001b[39m\u001b[32m833\u001b[39m   result = \u001b[38;5;28;43mself\u001b[39;49m\u001b[43m.\u001b[49m\u001b[43m_call\u001b[49m\u001b[43m(\u001b[49m\u001b[43m*\u001b[49m\u001b[43margs\u001b[49m\u001b[43m,\u001b[49m\u001b[43m \u001b[49m\u001b[43m*\u001b[49m\u001b[43m*\u001b[49m\u001b[43mkwds\u001b[49m\u001b[43m)\u001b[49m\n\u001b[32m    835\u001b[39m new_tracing_count = \u001b[38;5;28mself\u001b[39m.experimental_get_tracing_count()\n\u001b[32m    836\u001b[39m without_tracing = (tracing_count == new_tracing_count)\n",
      "\u001b[36mFile \u001b[39m\u001b[32mc:\\Users\\pedro\\Desktop\\Breast-Cancer-Detection\\venv\\Lib\\site-packages\\tensorflow\\python\\eager\\polymorphic_function\\polymorphic_function.py:878\u001b[39m, in \u001b[36mFunction._call\u001b[39m\u001b[34m(self, *args, **kwds)\u001b[39m\n\u001b[32m    875\u001b[39m \u001b[38;5;28mself\u001b[39m._lock.release()\n\u001b[32m    876\u001b[39m \u001b[38;5;66;03m# In this case we have not created variables on the first call. So we can\u001b[39;00m\n\u001b[32m    877\u001b[39m \u001b[38;5;66;03m# run the first trace but we should fail if variables are created.\u001b[39;00m\n\u001b[32m--> \u001b[39m\u001b[32m878\u001b[39m results = \u001b[43mtracing_compilation\u001b[49m\u001b[43m.\u001b[49m\u001b[43mcall_function\u001b[49m\u001b[43m(\u001b[49m\n\u001b[32m    879\u001b[39m \u001b[43m    \u001b[49m\u001b[43margs\u001b[49m\u001b[43m,\u001b[49m\u001b[43m \u001b[49m\u001b[43mkwds\u001b[49m\u001b[43m,\u001b[49m\u001b[43m \u001b[49m\u001b[38;5;28;43mself\u001b[39;49m\u001b[43m.\u001b[49m\u001b[43m_variable_creation_config\u001b[49m\n\u001b[32m    880\u001b[39m \u001b[43m\u001b[49m\u001b[43m)\u001b[49m\n\u001b[32m    881\u001b[39m \u001b[38;5;28;01mif\u001b[39;00m \u001b[38;5;28mself\u001b[39m._created_variables:\n\u001b[32m    882\u001b[39m   \u001b[38;5;28;01mraise\u001b[39;00m \u001b[38;5;167;01mValueError\u001b[39;00m(\u001b[33m\"\u001b[39m\u001b[33mCreating variables on a non-first call to a function\u001b[39m\u001b[33m\"\u001b[39m\n\u001b[32m    883\u001b[39m                    \u001b[33m\"\u001b[39m\u001b[33m decorated with tf.function.\u001b[39m\u001b[33m\"\u001b[39m)\n",
      "\u001b[36mFile \u001b[39m\u001b[32mc:\\Users\\pedro\\Desktop\\Breast-Cancer-Detection\\venv\\Lib\\site-packages\\tensorflow\\python\\eager\\polymorphic_function\\tracing_compilation.py:139\u001b[39m, in \u001b[36mcall_function\u001b[39m\u001b[34m(args, kwargs, tracing_options)\u001b[39m\n\u001b[32m    137\u001b[39m bound_args = function.function_type.bind(*args, **kwargs)\n\u001b[32m    138\u001b[39m flat_inputs = function.function_type.unpack_inputs(bound_args)\n\u001b[32m--> \u001b[39m\u001b[32m139\u001b[39m \u001b[38;5;28;01mreturn\u001b[39;00m \u001b[43mfunction\u001b[49m\u001b[43m.\u001b[49m\u001b[43m_call_flat\u001b[49m\u001b[43m(\u001b[49m\u001b[43m  \u001b[49m\u001b[38;5;66;43;03m# pylint: disable=protected-access\u001b[39;49;00m\n\u001b[32m    140\u001b[39m \u001b[43m    \u001b[49m\u001b[43mflat_inputs\u001b[49m\u001b[43m,\u001b[49m\u001b[43m \u001b[49m\u001b[43mcaptured_inputs\u001b[49m\u001b[43m=\u001b[49m\u001b[43mfunction\u001b[49m\u001b[43m.\u001b[49m\u001b[43mcaptured_inputs\u001b[49m\n\u001b[32m    141\u001b[39m \u001b[43m\u001b[49m\u001b[43m)\u001b[49m\n",
      "\u001b[36mFile \u001b[39m\u001b[32mc:\\Users\\pedro\\Desktop\\Breast-Cancer-Detection\\venv\\Lib\\site-packages\\tensorflow\\python\\eager\\polymorphic_function\\concrete_function.py:1322\u001b[39m, in \u001b[36mConcreteFunction._call_flat\u001b[39m\u001b[34m(self, tensor_inputs, captured_inputs)\u001b[39m\n\u001b[32m   1318\u001b[39m possible_gradient_type = gradients_util.PossibleTapeGradientTypes(args)\n\u001b[32m   1319\u001b[39m \u001b[38;5;28;01mif\u001b[39;00m (possible_gradient_type == gradients_util.POSSIBLE_GRADIENT_TYPES_NONE\n\u001b[32m   1320\u001b[39m     \u001b[38;5;129;01mand\u001b[39;00m executing_eagerly):\n\u001b[32m   1321\u001b[39m   \u001b[38;5;66;03m# No tape is watching; skip to running the function.\u001b[39;00m\n\u001b[32m-> \u001b[39m\u001b[32m1322\u001b[39m   \u001b[38;5;28;01mreturn\u001b[39;00m \u001b[38;5;28;43mself\u001b[39;49m\u001b[43m.\u001b[49m\u001b[43m_inference_function\u001b[49m\u001b[43m.\u001b[49m\u001b[43mcall_preflattened\u001b[49m\u001b[43m(\u001b[49m\u001b[43margs\u001b[49m\u001b[43m)\u001b[49m\n\u001b[32m   1323\u001b[39m forward_backward = \u001b[38;5;28mself\u001b[39m._select_forward_and_backward_functions(\n\u001b[32m   1324\u001b[39m     args,\n\u001b[32m   1325\u001b[39m     possible_gradient_type,\n\u001b[32m   1326\u001b[39m     executing_eagerly)\n\u001b[32m   1327\u001b[39m forward_function, args_with_tangents = forward_backward.forward()\n",
      "\u001b[36mFile \u001b[39m\u001b[32mc:\\Users\\pedro\\Desktop\\Breast-Cancer-Detection\\venv\\Lib\\site-packages\\tensorflow\\python\\eager\\polymorphic_function\\atomic_function.py:216\u001b[39m, in \u001b[36mAtomicFunction.call_preflattened\u001b[39m\u001b[34m(self, args)\u001b[39m\n\u001b[32m    214\u001b[39m \u001b[38;5;28;01mdef\u001b[39;00m\u001b[38;5;250m \u001b[39m\u001b[34mcall_preflattened\u001b[39m(\u001b[38;5;28mself\u001b[39m, args: Sequence[core.Tensor]) -> Any:\n\u001b[32m    215\u001b[39m \u001b[38;5;250m  \u001b[39m\u001b[33;03m\"\"\"Calls with flattened tensor inputs and returns the structured output.\"\"\"\u001b[39;00m\n\u001b[32m--> \u001b[39m\u001b[32m216\u001b[39m   flat_outputs = \u001b[38;5;28;43mself\u001b[39;49m\u001b[43m.\u001b[49m\u001b[43mcall_flat\u001b[49m\u001b[43m(\u001b[49m\u001b[43m*\u001b[49m\u001b[43margs\u001b[49m\u001b[43m)\u001b[49m\n\u001b[32m    217\u001b[39m   \u001b[38;5;28;01mreturn\u001b[39;00m \u001b[38;5;28mself\u001b[39m.function_type.pack_output(flat_outputs)\n",
      "\u001b[36mFile \u001b[39m\u001b[32mc:\\Users\\pedro\\Desktop\\Breast-Cancer-Detection\\venv\\Lib\\site-packages\\tensorflow\\python\\eager\\polymorphic_function\\atomic_function.py:251\u001b[39m, in \u001b[36mAtomicFunction.call_flat\u001b[39m\u001b[34m(self, *args)\u001b[39m\n\u001b[32m    249\u001b[39m \u001b[38;5;28;01mwith\u001b[39;00m record.stop_recording():\n\u001b[32m    250\u001b[39m   \u001b[38;5;28;01mif\u001b[39;00m \u001b[38;5;28mself\u001b[39m._bound_context.executing_eagerly():\n\u001b[32m--> \u001b[39m\u001b[32m251\u001b[39m     outputs = \u001b[38;5;28;43mself\u001b[39;49m\u001b[43m.\u001b[49m\u001b[43m_bound_context\u001b[49m\u001b[43m.\u001b[49m\u001b[43mcall_function\u001b[49m\u001b[43m(\u001b[49m\n\u001b[32m    252\u001b[39m \u001b[43m        \u001b[49m\u001b[38;5;28;43mself\u001b[39;49m\u001b[43m.\u001b[49m\u001b[43mname\u001b[49m\u001b[43m,\u001b[49m\n\u001b[32m    253\u001b[39m \u001b[43m        \u001b[49m\u001b[38;5;28;43mlist\u001b[39;49m\u001b[43m(\u001b[49m\u001b[43margs\u001b[49m\u001b[43m)\u001b[49m\u001b[43m,\u001b[49m\n\u001b[32m    254\u001b[39m \u001b[43m        \u001b[49m\u001b[38;5;28;43mlen\u001b[39;49m\u001b[43m(\u001b[49m\u001b[38;5;28;43mself\u001b[39;49m\u001b[43m.\u001b[49m\u001b[43mfunction_type\u001b[49m\u001b[43m.\u001b[49m\u001b[43mflat_outputs\u001b[49m\u001b[43m)\u001b[49m\u001b[43m,\u001b[49m\n\u001b[32m    255\u001b[39m \u001b[43m    \u001b[49m\u001b[43m)\u001b[49m\n\u001b[32m    256\u001b[39m   \u001b[38;5;28;01melse\u001b[39;00m:\n\u001b[32m    257\u001b[39m     outputs = make_call_op_in_graph(\n\u001b[32m    258\u001b[39m         \u001b[38;5;28mself\u001b[39m,\n\u001b[32m    259\u001b[39m         \u001b[38;5;28mlist\u001b[39m(args),\n\u001b[32m    260\u001b[39m         \u001b[38;5;28mself\u001b[39m._bound_context.function_call_options.as_attrs(),\n\u001b[32m    261\u001b[39m     )\n",
      "\u001b[36mFile \u001b[39m\u001b[32mc:\\Users\\pedro\\Desktop\\Breast-Cancer-Detection\\venv\\Lib\\site-packages\\tensorflow\\python\\eager\\context.py:1688\u001b[39m, in \u001b[36mContext.call_function\u001b[39m\u001b[34m(self, name, tensor_inputs, num_outputs)\u001b[39m\n\u001b[32m   1686\u001b[39m cancellation_context = cancellation.context()\n\u001b[32m   1687\u001b[39m \u001b[38;5;28;01mif\u001b[39;00m cancellation_context \u001b[38;5;129;01mis\u001b[39;00m \u001b[38;5;28;01mNone\u001b[39;00m:\n\u001b[32m-> \u001b[39m\u001b[32m1688\u001b[39m   outputs = \u001b[43mexecute\u001b[49m\u001b[43m.\u001b[49m\u001b[43mexecute\u001b[49m\u001b[43m(\u001b[49m\n\u001b[32m   1689\u001b[39m \u001b[43m      \u001b[49m\u001b[43mname\u001b[49m\u001b[43m.\u001b[49m\u001b[43mdecode\u001b[49m\u001b[43m(\u001b[49m\u001b[33;43m\"\u001b[39;49m\u001b[33;43mutf-8\u001b[39;49m\u001b[33;43m\"\u001b[39;49m\u001b[43m)\u001b[49m\u001b[43m,\u001b[49m\n\u001b[32m   1690\u001b[39m \u001b[43m      \u001b[49m\u001b[43mnum_outputs\u001b[49m\u001b[43m=\u001b[49m\u001b[43mnum_outputs\u001b[49m\u001b[43m,\u001b[49m\n\u001b[32m   1691\u001b[39m \u001b[43m      \u001b[49m\u001b[43minputs\u001b[49m\u001b[43m=\u001b[49m\u001b[43mtensor_inputs\u001b[49m\u001b[43m,\u001b[49m\n\u001b[32m   1692\u001b[39m \u001b[43m      \u001b[49m\u001b[43mattrs\u001b[49m\u001b[43m=\u001b[49m\u001b[43mattrs\u001b[49m\u001b[43m,\u001b[49m\n\u001b[32m   1693\u001b[39m \u001b[43m      \u001b[49m\u001b[43mctx\u001b[49m\u001b[43m=\u001b[49m\u001b[38;5;28;43mself\u001b[39;49m\u001b[43m,\u001b[49m\n\u001b[32m   1694\u001b[39m \u001b[43m  \u001b[49m\u001b[43m)\u001b[49m\n\u001b[32m   1695\u001b[39m \u001b[38;5;28;01melse\u001b[39;00m:\n\u001b[32m   1696\u001b[39m   outputs = execute.execute_with_cancellation(\n\u001b[32m   1697\u001b[39m       name.decode(\u001b[33m\"\u001b[39m\u001b[33mutf-8\u001b[39m\u001b[33m\"\u001b[39m),\n\u001b[32m   1698\u001b[39m       num_outputs=num_outputs,\n\u001b[32m   (...)\u001b[39m\u001b[32m   1702\u001b[39m       cancellation_manager=cancellation_context,\n\u001b[32m   1703\u001b[39m   )\n",
      "\u001b[36mFile \u001b[39m\u001b[32mc:\\Users\\pedro\\Desktop\\Breast-Cancer-Detection\\venv\\Lib\\site-packages\\tensorflow\\python\\eager\\execute.py:53\u001b[39m, in \u001b[36mquick_execute\u001b[39m\u001b[34m(op_name, num_outputs, inputs, attrs, ctx, name)\u001b[39m\n\u001b[32m     51\u001b[39m \u001b[38;5;28;01mtry\u001b[39;00m:\n\u001b[32m     52\u001b[39m   ctx.ensure_initialized()\n\u001b[32m---> \u001b[39m\u001b[32m53\u001b[39m   tensors = \u001b[43mpywrap_tfe\u001b[49m\u001b[43m.\u001b[49m\u001b[43mTFE_Py_Execute\u001b[49m\u001b[43m(\u001b[49m\u001b[43mctx\u001b[49m\u001b[43m.\u001b[49m\u001b[43m_handle\u001b[49m\u001b[43m,\u001b[49m\u001b[43m \u001b[49m\u001b[43mdevice_name\u001b[49m\u001b[43m,\u001b[49m\u001b[43m \u001b[49m\u001b[43mop_name\u001b[49m\u001b[43m,\u001b[49m\n\u001b[32m     54\u001b[39m \u001b[43m                                      \u001b[49m\u001b[43minputs\u001b[49m\u001b[43m,\u001b[49m\u001b[43m \u001b[49m\u001b[43mattrs\u001b[49m\u001b[43m,\u001b[49m\u001b[43m \u001b[49m\u001b[43mnum_outputs\u001b[49m\u001b[43m)\u001b[49m\n\u001b[32m     55\u001b[39m \u001b[38;5;28;01mexcept\u001b[39;00m core._NotOkStatusException \u001b[38;5;28;01mas\u001b[39;00m e:\n\u001b[32m     56\u001b[39m   \u001b[38;5;28;01mif\u001b[39;00m name \u001b[38;5;129;01mis\u001b[39;00m \u001b[38;5;129;01mnot\u001b[39;00m \u001b[38;5;28;01mNone\u001b[39;00m:\n",
      "\u001b[31mKeyboardInterrupt\u001b[39m: "
     ]
    }
   ],
   "source": [
    "transfer_history = model_transfer.fit(\n",
    "    train_generator,          \n",
    "    validation_data=val_generator,\n",
    "    epochs=10,                \n",
    "    steps_per_epoch=len(train_generator),\n",
    "    validation_steps=len(val_generator),\n",
    "    class_weight=class_weights,  \n",
    "    callbacks=callbacks_tr)"
   ]
  },
  {
   "cell_type": "code",
   "execution_count": 256,
   "id": "42c4048f",
   "metadata": {},
   "outputs": [],
   "source": [
    "accuracy_base = history_base.history['accuracy']\n",
    "val_acc_base = history_base.history ['val_accuracy']\n",
    "epochs_base = range(1, len(accuracy_base)+1)\n",
    "\n",
    "accuracy_clw = history_clw.history['accuracy']\n",
    "val_acc_clw = history_clw.history ['val_accuracy']\n",
    "epochs_clw = range(1, len(accuracy_clw)+1)\n",
    "\n",
    "accuracy_clw_s = history_clw_s.history['accuracy']\n",
    "val_acc_clw_s = history_clw_s.history ['val_accuracy']\n",
    "epochs_clw_s = range(1, len(accuracy_clw_s)+1)\n",
    "\n",
    "accuracy_under = transfer_under.history['accuracy']\n",
    "val_acc_under = transfer_under.history ['val_accuracy']\n",
    "epochs_under = range(1, len(accuracy_under)+1)\n"
   ]
  },
  {
   "cell_type": "code",
   "execution_count": 258,
   "id": "1c607b23",
   "metadata": {},
   "outputs": [
    {
     "data": {
      "image/png": "[encoded data removed]",
      "text/plain": [
       "<Figure size 1500x1000 with 4 Axes>"
      ]
     },
     "metadata": {},
     "output_type": "display_data"
    }
   ],
   "source": [
    "fig, axes = plt.subplots (nrows = 2, ncols = 2, figsize = (15,10))\n",
    "\n",
    "axes[0,0].plot (epochs_base, accuracy_base, 'bo', label = 'Training Accuracy')\n",
    "axes[0,0].plot (epochs_base, val_acc_base, 'b', label = 'Validation Accuracy')\n",
    "axes[0,0].set_title ('Base Model Accuracy')\n",
    "axes[0,0].set_xlabel ('Epochs')\n",
    "axes[0,0].set_xticks (range(0, len(accuracy_base)+1, 2))\n",
    "axes[0,0].set_ylim(0,1)\n",
    "axes[0,0].legend()\n",
    "\n",
    "axes[0,1].plot (epochs_clw, accuracy_clw, 'bo', label = 'Training Accuracy')\n",
    "axes[0,1].plot (epochs_clw, val_acc_clw, 'b', label = 'Validation Accuracy')\n",
    "axes[0,1].set_title ('Model Class Weights Accuracy')\n",
    "axes[0,1].set_xlabel('Epochs')\n",
    "axes[0,1].set_xticks (range(0, len(accuracy_clw)+1, 2))\n",
    "axes[0,1].set_ylim(0,1)\n",
    "axes[0,1].legend()\n",
    "\n",
    "axes[1,0].plot (epochs_clw_s, accuracy_clw_s, 'bo', label = 'Training Accuracy')\n",
    "axes[1,0].plot (epochs_clw_s, val_acc_clw_s, 'b', label = 'Validation Accuracy')\n",
    "axes[1,0].set_title ('Model Class Weights, Increased Input Size & More Layers')\n",
    "axes[1,0].set_xlabel('Epochs')\n",
    "axes[1,0].set_xticks (range(0, len(accuracy_clw_s)+1, 2))\n",
    "axes[1,0].set_ylim(0,1)\n",
    "axes[1,0].legend()\n",
    "\n",
    "axes[1,1].plot (epochs_under, accuracy_under, 'bo',  label = 'Training Accuracy')\n",
    "axes[1,1].plot (epochs_under, val_acc_under, 'b',  label = 'Validation Accuracy')\n",
    "axes[1,1].set_title ('Model Undersampling_Base')\n",
    "axes[1,1].set_xlabel('Epochs')\n",
    "axes[1,1].set_xticks (range(0, len(accuracy_under)+1, 2))\n",
    "axes[1,1].set_ylim(0,1)\n",
    "axes[1,1].legend()\n",
    "\n",
    "\n",
    "fig.suptitle('Accuracy Across Several Different Models', fontsize=16)\n",
    "plt.tight_layout()\n",
    "plt.show()"
   ]
  },
  {
   "cell_type": "code",
   "execution_count": 259,
   "id": "ae0c048d",
   "metadata": {},
   "outputs": [],
   "source": [
    "fig.savefig(\"First Models Accuracy.png\", dpi=300, bbox_inches='tight')"
   ]
  },
  {
   "cell_type": "markdown",
   "id": "44d7060a",
   "metadata": {},
   "source": [
    "Model seems to be slightly improving after each epoch, but the increase is very small. Next step would be undersampling."
   ]
  },
  {
   "cell_type": "code",
   "execution_count": 219,
   "id": "c9776b46",
   "metadata": {},
   "outputs": [],
   "source": [
    "train_datagen_u = ImageDataGenerator(rescale = 1./255)"
   ]
  },
  {
   "cell_type": "code",
   "execution_count": 220,
   "id": "9b225ae3",
   "metadata": {},
   "outputs": [
    {
     "name": "stdout",
     "output_type": "stream",
     "text": [
      "Found 3830 images belonging to 8 classes.\n"
     ]
    }
   ],
   "source": [
    "train_dir_u = r'..\\Multi_Class_Classification\\multi_class_undersampling\\train'\n",
    "train_generator_u = train_datagen_u.flow_from_directory( \n",
    "    train_dir_u,         \n",
    "    target_size=(224,224), \n",
    "    batch_size=20,  \n",
    "    class_mode='categorical')"
   ]
  },
  {
   "cell_type": "code",
   "execution_count": 221,
   "id": "2285bfe2",
   "metadata": {},
   "outputs": [],
   "source": [
    "val_datagen_u = ImageDataGenerator(rescale = 1./255)"
   ]
  },
  {
   "cell_type": "code",
   "execution_count": 222,
   "id": "2ba36995",
   "metadata": {},
   "outputs": [
    {
     "name": "stdout",
     "output_type": "stream",
     "text": [
      "Found 1186 images belonging to 8 classes.\n"
     ]
    }
   ],
   "source": [
    "val_dir_u = r'..\\Multi_Class_Classification\\multi_class_undersampling\\validation'\n",
    "val_generator_u = val_datagen_u.flow_from_directory( \n",
    "    val_dir_u,         \n",
    "    target_size=(224,224), \n",
    "    batch_size=20,  \n",
    "    class_mode='categorical')"
   ]
  },
  {
   "cell_type": "code",
   "execution_count": null,
   "id": "d1473223",
   "metadata": {},
   "outputs": [],
   "source": [
    "model_u = models.Sequential()\n",
    "model_u.add(layers.Conv2D(32, (3,3), activation='relu', input_shape=(224,224,3)))\n",
    "model_u.add(layers.MaxPooling2D(2,2))\n",
    "model_u.add(layers.Conv2D(64, (3,3), activation='relu'))\n",
    "model_u.add(layers.MaxPooling2D(2,2))\n",
    "model_u.add(layers.Conv2D(128, (3,3), activation='relu'))\n",
    "model_u.add(layers.MaxPooling2D(2,2))\n",
    "model_u.add(layers.Conv2D(256, (3,3), activation='relu'))\n",
    "model_u.add(layers.MaxPooling2D(2,2))\n",
    "model_u.add(layers.Flatten())\n",
    "model_u.add(layers.Dense(512, activation='relu'))\n",
    "model_u.add(layers.Dense(8, activation='softmax'))"
   ]
  },
  {
   "cell_type": "code",
   "execution_count": 224,
   "id": "410d1957",
   "metadata": {},
   "outputs": [],
   "source": [
    "model_u.compile(\n",
    "    optimizer=optimizers.RMSprop(learning_rate=0.001),\n",
    "    loss='categorical_crossentropy',\n",
    "    metrics=['accuracy', 'precision', 'recall', 'auc'])"
   ]
  },
  {
   "cell_type": "code",
   "execution_count": 226,
   "id": "c7d22f3c",
   "metadata": {},
   "outputs": [],
   "source": [
    "callbacks_u = [\n",
    "    EarlyStopping(monitor='val_accuracy', mode= 'max', patience=5, restore_best_weights=True), \n",
    "    ModelCheckpoint('Multi_Class_Classification/models/model_u.h5', save_best_only=True)]"
   ]
  },
  {
   "cell_type": "code",
   "execution_count": 227,
   "id": "5736e5ce",
   "metadata": {},
   "outputs": [
    {
     "name": "stderr",
     "output_type": "stream",
     "text": [
      "c:\\Users\\pedro\\Desktop\\Breast-Cancer-Detection\\venv\\Lib\\site-packages\\keras\\src\\trainers\\data_adapters\\py_dataset_adapter.py:121: UserWarning: Your `PyDataset` class should call `super().__init__(**kwargs)` in its constructor. `**kwargs` can include `workers`, `use_multiprocessing`, `max_queue_size`. Do not pass these arguments to `fit()`, as they will be ignored.\n",
      "  self._warn_if_super_not_called()\n"
     ]
    },
    {
     "name": "stdout",
     "output_type": "stream",
     "text": [
      "Epoch 1/15\n",
      "\u001b[1m192/192\u001b[0m \u001b[32m━━━━━━━━━━━━━━━━━━━━\u001b[0m\u001b[37m\u001b[0m \u001b[1m0s\u001b[0m 848ms/step - accuracy: 0.1870 - auc: 0.5932 - loss: 2.1832 - precision: 0.1961 - recall: 0.0077"
     ]
    },
    {
     "name": "stderr",
     "output_type": "stream",
     "text": [
      "WARNING:absl:You are saving your model as an HDF5 file via `model.save()` or `keras.saving.save_model(model)`. This file format is considered legacy. We recommend using instead the native Keras format, e.g. `model.save('my_model.keras')` or `keras.saving.save_model(model, 'my_model.keras')`. \n"
     ]
    },
    {
     "name": "stdout",
     "output_type": "stream",
     "text": [
      "\u001b[1m192/192\u001b[0m \u001b[32m━━━━━━━━━━━━━━━━━━━━\u001b[0m\u001b[37m\u001b[0m \u001b[1m219s\u001b[0m 1s/step - accuracy: 0.2282 - auc: 0.6222 - loss: 2.0436 - precision: 0.2889 - recall: 0.0102 - val_accuracy: 0.3137 - val_auc: 0.6381 - val_loss: 1.9550 - val_precision: 0.5000 - val_recall: 0.0051\n",
      "Epoch 2/15\n",
      "\u001b[1m192/192\u001b[0m \u001b[32m━━━━━━━━━━━━━━━━━━━━\u001b[0m\u001b[37m\u001b[0m \u001b[1m0s\u001b[0m 1s/step - accuracy: 0.2751 - auc: 0.6777 - loss: 1.9155 - precision: 0.4037 - recall: 0.0213"
     ]
    },
    {
     "name": "stderr",
     "output_type": "stream",
     "text": [
      "WARNING:absl:You are saving your model as an HDF5 file via `model.save()` or `keras.saving.save_model(model)`. This file format is considered legacy. We recommend using instead the native Keras format, e.g. `model.save('my_model.keras')` or `keras.saving.save_model(model, 'my_model.keras')`. \n"
     ]
    },
    {
     "name": "stdout",
     "output_type": "stream",
     "text": [
      "\u001b[1m192/192\u001b[0m \u001b[32m━━━━━━━━━━━━━━━━━━━━\u001b[0m\u001b[37m\u001b[0m \u001b[1m252s\u001b[0m 1s/step - accuracy: 0.2820 - auc: 0.6918 - loss: 1.8952 - precision: 0.4489 - recall: 0.0264 - val_accuracy: 0.3803 - val_auc: 0.7919 - val_loss: 1.6301 - val_precision: 0.8647 - val_recall: 0.0970\n",
      "Epoch 3/15\n",
      "\u001b[1m192/192\u001b[0m \u001b[32m━━━━━━━━━━━━━━━━━━━━\u001b[0m\u001b[37m\u001b[0m \u001b[1m0s\u001b[0m 986ms/step - accuracy: 0.3075 - auc: 0.7187 - loss: 1.8358 - precision: 0.4994 - recall: 0.0444"
     ]
    },
    {
     "name": "stderr",
     "output_type": "stream",
     "text": [
      "WARNING:absl:You are saving your model as an HDF5 file via `model.save()` or `keras.saving.save_model(model)`. This file format is considered legacy. We recommend using instead the native Keras format, e.g. `model.save('my_model.keras')` or `keras.saving.save_model(model, 'my_model.keras')`. \n"
     ]
    },
    {
     "name": "stdout",
     "output_type": "stream",
     "text": [
      "\u001b[1m192/192\u001b[0m \u001b[32m━━━━━━━━━━━━━━━━━━━━\u001b[0m\u001b[37m\u001b[0m \u001b[1m233s\u001b[0m 1s/step - accuracy: 0.3138 - auc: 0.7279 - loss: 1.8152 - precision: 0.5173 - recall: 0.0507 - val_accuracy: 0.4334 - val_auc: 0.7932 - val_loss: 1.6274 - val_precision: 0.6736 - val_recall: 0.2715\n",
      "Epoch 4/15\n",
      "\u001b[1m192/192\u001b[0m \u001b[32m━━━━━━━━━━━━━━━━━━━━\u001b[0m\u001b[37m\u001b[0m \u001b[1m229s\u001b[0m 1s/step - accuracy: 0.3329 - auc: 0.7606 - loss: 1.7363 - precision: 0.5233 - recall: 0.0705 - val_accuracy: 0.3609 - val_auc: 0.6523 - val_loss: 2.1681 - val_precision: 0.5205 - val_recall: 0.1391\n",
      "Epoch 5/15\n",
      "\u001b[1m192/192\u001b[0m \u001b[32m━━━━━━━━━━━━━━━━━━━━\u001b[0m\u001b[37m\u001b[0m \u001b[1m240s\u001b[0m 1s/step - accuracy: 0.3444 - auc: 0.7752 - loss: 1.6990 - precision: 0.5363 - recall: 0.0791 - val_accuracy: 0.3642 - val_auc: 0.7437 - val_loss: 1.7823 - val_precision: 0.6528 - val_recall: 0.1189\n",
      "Epoch 6/15\n",
      "\u001b[1m192/192\u001b[0m \u001b[32m━━━━━━━━━━━━━━━━━━━━\u001b[0m\u001b[37m\u001b[0m \u001b[1m241s\u001b[0m 1s/step - accuracy: 0.4034 - auc: 0.8087 - loss: 1.5976 - precision: 0.5730 - recall: 0.1373 - val_accuracy: 0.2395 - val_auc: 0.6927 - val_loss: 2.0034 - val_precision: 0.3891 - val_recall: 0.0902\n",
      "Epoch 7/15\n",
      "\u001b[1m192/192\u001b[0m \u001b[32m━━━━━━━━━━━━━━━━━━━━\u001b[0m\u001b[37m\u001b[0m \u001b[1m0s\u001b[0m 966ms/step - accuracy: 0.4393 - auc: 0.8351 - loss: 1.4912 - precision: 0.6122 - recall: 0.1850"
     ]
    },
    {
     "name": "stderr",
     "output_type": "stream",
     "text": [
      "WARNING:absl:You are saving your model as an HDF5 file via `model.save()` or `keras.saving.save_model(model)`. This file format is considered legacy. We recommend using instead the native Keras format, e.g. `model.save('my_model.keras')` or `keras.saving.save_model(model, 'my_model.keras')`. \n"
     ]
    },
    {
     "name": "stdout",
     "output_type": "stream",
     "text": [
      "\u001b[1m192/192\u001b[0m \u001b[32m━━━━━━━━━━━━━━━━━━━━\u001b[0m\u001b[37m\u001b[0m \u001b[1m234s\u001b[0m 1s/step - accuracy: 0.4514 - auc: 0.8400 - loss: 1.4794 - precision: 0.6161 - recall: 0.2037 - val_accuracy: 0.4570 - val_auc: 0.8561 - val_loss: 1.4031 - val_precision: 0.6535 - val_recall: 0.1813\n",
      "Epoch 8/15\n",
      "\u001b[1m192/192\u001b[0m \u001b[32m━━━━━━━━━━━━━━━━━━━━\u001b[0m\u001b[37m\u001b[0m \u001b[1m241s\u001b[0m 1s/step - accuracy: 0.5282 - auc: 0.8792 - loss: 1.2919 - precision: 0.6853 - recall: 0.3269 - val_accuracy: 0.4469 - val_auc: 0.8283 - val_loss: 1.6305 - val_precision: 0.5498 - val_recall: 0.2934\n",
      "Epoch 9/15\n",
      "\u001b[1m192/192\u001b[0m \u001b[32m━━━━━━━━━━━━━━━━━━━━\u001b[0m\u001b[37m\u001b[0m \u001b[1m233s\u001b[0m 1s/step - accuracy: 0.6120 - auc: 0.9155 - loss: 1.0890 - precision: 0.7324 - recall: 0.4546 - val_accuracy: 0.4418 - val_auc: 0.8175 - val_loss: 1.8902 - val_precision: 0.5112 - val_recall: 0.3457\n",
      "Epoch 10/15\n",
      "\u001b[1m192/192\u001b[0m \u001b[32m━━━━━━━━━━━━━━━━━━━━\u001b[0m\u001b[37m\u001b[0m \u001b[1m238s\u001b[0m 1s/step - accuracy: 0.7044 - auc: 0.9494 - loss: 0.8385 - precision: 0.7927 - recall: 0.6050 - val_accuracy: 0.3980 - val_auc: 0.7861 - val_loss: 2.2164 - val_precision: 0.4419 - val_recall: 0.3272\n",
      "Epoch 11/15\n",
      "\u001b[1m192/192\u001b[0m \u001b[32m━━━━━━━━━━━━━━━━━━━━\u001b[0m\u001b[37m\u001b[0m \u001b[1m230s\u001b[0m 1s/step - accuracy: 0.7864 - auc: 0.9701 - loss: 0.6316 - precision: 0.8444 - recall: 0.7243 - val_accuracy: 0.4553 - val_auc: 0.8243 - val_loss: 2.0868 - val_precision: 0.4921 - val_recall: 0.3963\n",
      "Epoch 12/15\n",
      "\u001b[1m192/192\u001b[0m \u001b[32m━━━━━━━━━━━━━━━━━━━━\u001b[0m\u001b[37m\u001b[0m \u001b[1m229s\u001b[0m 1s/step - accuracy: 0.8475 - auc: 0.9810 - loss: 0.4895 - precision: 0.8866 - recall: 0.8084 - val_accuracy: 0.4216 - val_auc: 0.7968 - val_loss: 2.5786 - val_precision: 0.4506 - val_recall: 0.3769\n"
     ]
    }
   ],
   "source": [
    "transfer_under = model_u.fit(\n",
    "    train_generator_u,          \n",
    "    validation_data=val_generator_u,\n",
    "    epochs=15,                \n",
    "    steps_per_epoch=len(train_generator_u),\n",
    "    validation_steps=len(val_generator_u), \n",
    "    callbacks=callbacks_u)"
   ]
  },
  {
   "cell_type": "markdown",
   "id": "21c7a16f",
   "metadata": {},
   "source": [
    "With Undersampling, the model is performing well on training data but its not generalizing well, suggesting overfitiing. NExt steps will be to add regularization and dropou."
   ]
  },
  {
   "cell_type": "code",
   "execution_count": 230,
   "id": "b01d9e8b",
   "metadata": {},
   "outputs": [
    {
     "name": "stderr",
     "output_type": "stream",
     "text": [
      "c:\\Users\\pedro\\Desktop\\Breast-Cancer-Detection\\venv\\Lib\\site-packages\\keras\\src\\layers\\convolutional\\base_conv.py:113: UserWarning: Do not pass an `input_shape`/`input_dim` argument to a layer. When using Sequential models, prefer using an `Input(shape)` object as the first layer in the model instead.\n",
      "  super().__init__(activity_regularizer=activity_regularizer, **kwargs)\n"
     ]
    }
   ],
   "source": [
    "model_u_dr = models.Sequential()\n",
    "model_u_dr.add(layers.Conv2D(32, (3,3), activation='relu', input_shape=(224,224,3)))\n",
    "model_u_dr.add(layers.BatchNormalization())\n",
    "model_u_dr.add(layers.MaxPooling2D(2,2))\n",
    "model_u_dr.add(layers.Conv2D(64, (3,3), activation='relu', kernel_regularizer = regularizers.l2(0.001)))\n",
    "model_u_dr.add(layers.BatchNormalization())\n",
    "model_u_dr.add(layers.MaxPooling2D(2,2))\n",
    "model_u_dr.add(layers.Conv2D(128, (3,3), activation='relu', kernel_regularizer = regularizers.l2(0.001)))\n",
    "model_u_dr.add(layers.BatchNormalization())\n",
    "model_u_dr.add(layers.MaxPooling2D(2,2))\n",
    "model_u_dr.add(layers.Conv2D(256, (3,3), activation='relu', kernel_regularizer = regularizers.l2(0.001)))\n",
    "model_u_dr.add(layers.BatchNormalization())\n",
    "model_u_dr.add(layers.MaxPooling2D(2,2))\n",
    "model_u_dr.add(layers.Dropout(0.25))\n",
    "model_u_dr.add(layers.Flatten())\n",
    "model_u_dr.add(layers.Dense(512, activation='relu', kernel_regularizer=regularizers.l2(0.001)))\n",
    "model_u_dr.add(layers.Dropout(0.5))\n",
    "model_u_dr.add(layers.Dense(8, activation='softmax'))"
   ]
  },
  {
   "cell_type": "code",
   "execution_count": 231,
   "id": "2e682df9",
   "metadata": {},
   "outputs": [],
   "source": [
    "model_u_dr.compile(\n",
    "    optimizer=optimizers.Adam(learning_rate=1e-4),\n",
    "    loss='categorical_crossentropy',\n",
    "    metrics=['accuracy', 'precision', 'recall', 'auc'])"
   ]
  },
  {
   "cell_type": "code",
   "execution_count": 232,
   "id": "7b193387",
   "metadata": {},
   "outputs": [],
   "source": [
    "callbacks_u_dr = [\n",
    "    EarlyStopping(monitor='val_accuracy', mode= 'max', patience=5, restore_best_weights=True), \n",
    "    ModelCheckpoint('Multi_Class_Classification/models/model_u_dr.h5', save_best_only=True)]"
   ]
  },
  {
   "cell_type": "code",
   "execution_count": 234,
   "id": "aa95fb35",
   "metadata": {},
   "outputs": [
    {
     "name": "stdout",
     "output_type": "stream",
     "text": [
      "Epoch 1/20\n",
      "\u001b[1m192/192\u001b[0m \u001b[32m━━━━━━━━━━━━━━━━━━━━\u001b[0m\u001b[37m\u001b[0m \u001b[1m0s\u001b[0m 1s/step - accuracy: 0.2898 - auc: 0.6712 - loss: 4.9251 - precision: 0.3116 - recall: 0.2214"
     ]
    },
    {
     "name": "stderr",
     "output_type": "stream",
     "text": [
      "WARNING:absl:You are saving your model as an HDF5 file via `model.save()` or `keras.saving.save_model(model)`. This file format is considered legacy. We recommend using instead the native Keras format, e.g. `model.save('my_model.keras')` or `keras.saving.save_model(model, 'my_model.keras')`. \n"
     ]
    },
    {
     "name": "stdout",
     "output_type": "stream",
     "text": [
      "\u001b[1m192/192\u001b[0m \u001b[32m━━━━━━━━━━━━━━━━━━━━\u001b[0m\u001b[37m\u001b[0m \u001b[1m239s\u001b[0m 1s/step - accuracy: 0.3350 - auc: 0.7196 - loss: 3.8740 - precision: 0.3729 - recall: 0.2068 - val_accuracy: 0.0793 - val_auc: 0.4844 - val_loss: 12.3427 - val_precision: 0.0793 - val_recall: 0.0793\n",
      "Epoch 2/20\n",
      "\u001b[1m192/192\u001b[0m \u001b[32m━━━━━━━━━━━━━━━━━━━━\u001b[0m\u001b[37m\u001b[0m \u001b[1m0s\u001b[0m 1s/step - accuracy: 0.4210 - auc: 0.8261 - loss: 2.8541 - precision: 0.5668 - recall: 0.2236"
     ]
    },
    {
     "name": "stderr",
     "output_type": "stream",
     "text": [
      "WARNING:absl:You are saving your model as an HDF5 file via `model.save()` or `keras.saving.save_model(model)`. This file format is considered legacy. We recommend using instead the native Keras format, e.g. `model.save('my_model.keras')` or `keras.saving.save_model(model, 'my_model.keras')`. \n"
     ]
    },
    {
     "name": "stdout",
     "output_type": "stream",
     "text": [
      "\u001b[1m192/192\u001b[0m \u001b[32m━━━━━━━━━━━━━━━━━━━━\u001b[0m\u001b[37m\u001b[0m \u001b[1m271s\u001b[0m 1s/step - accuracy: 0.4227 - auc: 0.8271 - loss: 2.8487 - precision: 0.5611 - recall: 0.2339 - val_accuracy: 0.4283 - val_auc: 0.7054 - val_loss: 5.9673 - val_precision: 0.4439 - val_recall: 0.4233\n",
      "Epoch 3/20\n",
      "\u001b[1m192/192\u001b[0m \u001b[32m━━━━━━━━━━━━━━━━━━━━\u001b[0m\u001b[37m\u001b[0m \u001b[1m0s\u001b[0m 1s/step - accuracy: 0.4711 - auc: 0.8537 - loss: 2.7281 - precision: 0.6157 - recall: 0.2998"
     ]
    },
    {
     "name": "stderr",
     "output_type": "stream",
     "text": [
      "WARNING:absl:You are saving your model as an HDF5 file via `model.save()` or `keras.saving.save_model(model)`. This file format is considered legacy. We recommend using instead the native Keras format, e.g. `model.save('my_model.keras')` or `keras.saving.save_model(model, 'my_model.keras')`. \n"
     ]
    },
    {
     "name": "stdout",
     "output_type": "stream",
     "text": [
      "\u001b[1m192/192\u001b[0m \u001b[32m━━━━━━━━━━━━━━━━━━━━\u001b[0m\u001b[37m\u001b[0m \u001b[1m260s\u001b[0m 1s/step - accuracy: 0.4726 - auc: 0.8542 - loss: 2.7268 - precision: 0.6009 - recall: 0.2977 - val_accuracy: 0.5000 - val_auc: 0.8625 - val_loss: 2.6906 - val_precision: 0.5774 - val_recall: 0.3272\n",
      "Epoch 4/20\n",
      "\u001b[1m192/192\u001b[0m \u001b[32m━━━━━━━━━━━━━━━━━━━━\u001b[0m\u001b[37m\u001b[0m \u001b[1m0s\u001b[0m 1s/step - accuracy: 0.5279 - auc: 0.8834 - loss: 2.5598 - precision: 0.6563 - recall: 0.3629"
     ]
    },
    {
     "name": "stderr",
     "output_type": "stream",
     "text": [
      "WARNING:absl:You are saving your model as an HDF5 file via `model.save()` or `keras.saving.save_model(model)`. This file format is considered legacy. We recommend using instead the native Keras format, e.g. `model.save('my_model.keras')` or `keras.saving.save_model(model, 'my_model.keras')`. \n"
     ]
    },
    {
     "name": "stdout",
     "output_type": "stream",
     "text": [
      "\u001b[1m192/192\u001b[0m \u001b[32m━━━━━━━━━━━━━━━━━━━━\u001b[0m\u001b[37m\u001b[0m \u001b[1m307s\u001b[0m 2s/step - accuracy: 0.5399 - auc: 0.8863 - loss: 2.5417 - precision: 0.6710 - recall: 0.3775 - val_accuracy: 0.5118 - val_auc: 0.8908 - val_loss: 2.5277 - val_precision: 0.6217 - val_recall: 0.4005\n",
      "Epoch 5/20\n",
      "\u001b[1m192/192\u001b[0m \u001b[32m━━━━━━━━━━━━━━━━━━━━\u001b[0m\u001b[37m\u001b[0m \u001b[1m0s\u001b[0m 2s/step - accuracy: 0.5910 - auc: 0.9175 - loss: 2.3421 - precision: 0.7295 - recall: 0.4677"
     ]
    },
    {
     "name": "stderr",
     "output_type": "stream",
     "text": [
      "WARNING:absl:You are saving your model as an HDF5 file via `model.save()` or `keras.saving.save_model(model)`. This file format is considered legacy. We recommend using instead the native Keras format, e.g. `model.save('my_model.keras')` or `keras.saving.save_model(model, 'my_model.keras')`. \n"
     ]
    },
    {
     "name": "stdout",
     "output_type": "stream",
     "text": [
      "\u001b[1m192/192\u001b[0m \u001b[32m━━━━━━━━━━━━━━━━━━━━\u001b[0m\u001b[37m\u001b[0m \u001b[1m355s\u001b[0m 2s/step - accuracy: 0.5950 - auc: 0.9182 - loss: 2.3348 - precision: 0.7214 - recall: 0.4726 - val_accuracy: 0.6231 - val_auc: 0.9173 - val_loss: 2.3889 - val_precision: 0.6804 - val_recall: 0.5691\n",
      "Epoch 6/20\n",
      "\u001b[1m192/192\u001b[0m \u001b[32m━━━━━━━━━━━━━━━━━━━━\u001b[0m\u001b[37m\u001b[0m \u001b[1m0s\u001b[0m 2s/step - accuracy: 0.6615 - auc: 0.9348 - loss: 2.2019 - precision: 0.7579 - recall: 0.5568"
     ]
    },
    {
     "name": "stderr",
     "output_type": "stream",
     "text": [
      "WARNING:absl:You are saving your model as an HDF5 file via `model.save()` or `keras.saving.save_model(model)`. This file format is considered legacy. We recommend using instead the native Keras format, e.g. `model.save('my_model.keras')` or `keras.saving.save_model(model, 'my_model.keras')`. \n"
     ]
    },
    {
     "name": "stdout",
     "output_type": "stream",
     "text": [
      "\u001b[1m192/192\u001b[0m \u001b[32m━━━━━━━━━━━━━━━━━━━━\u001b[0m\u001b[37m\u001b[0m \u001b[1m338s\u001b[0m 2s/step - accuracy: 0.6598 - auc: 0.9351 - loss: 2.1964 - precision: 0.7527 - recall: 0.5554 - val_accuracy: 0.6358 - val_auc: 0.9302 - val_loss: 2.2397 - val_precision: 0.7188 - val_recall: 0.5430\n",
      "Epoch 7/20\n",
      "\u001b[1m192/192\u001b[0m \u001b[32m━━━━━━━━━━━━━━━━━━━━\u001b[0m\u001b[37m\u001b[0m \u001b[1m332s\u001b[0m 2s/step - accuracy: 0.7042 - auc: 0.9530 - loss: 2.0375 - precision: 0.7841 - recall: 0.6078 - val_accuracy: 0.6054 - val_auc: 0.9221 - val_loss: 2.2849 - val_precision: 0.6988 - val_recall: 0.5438\n",
      "Epoch 8/20\n",
      "\u001b[1m192/192\u001b[0m \u001b[32m━━━━━━━━━━━━━━━━━━━━\u001b[0m\u001b[37m\u001b[0m \u001b[1m0s\u001b[0m 1s/step - accuracy: 0.7584 - auc: 0.9674 - loss: 1.8889 - precision: 0.8331 - recall: 0.6841"
     ]
    },
    {
     "name": "stderr",
     "output_type": "stream",
     "text": [
      "WARNING:absl:You are saving your model as an HDF5 file via `model.save()` or `keras.saving.save_model(model)`. This file format is considered legacy. We recommend using instead the native Keras format, e.g. `model.save('my_model.keras')` or `keras.saving.save_model(model, 'my_model.keras')`. \n"
     ]
    },
    {
     "name": "stdout",
     "output_type": "stream",
     "text": [
      "\u001b[1m192/192\u001b[0m \u001b[32m━━━━━━━━━━━━━━━━━━━━\u001b[0m\u001b[37m\u001b[0m \u001b[1m330s\u001b[0m 2s/step - accuracy: 0.7572 - auc: 0.9661 - loss: 1.8962 - precision: 0.8239 - recall: 0.6817 - val_accuracy: 0.6585 - val_auc: 0.9357 - val_loss: 2.1761 - val_precision: 0.7212 - val_recall: 0.6062\n",
      "Epoch 9/20\n",
      "\u001b[1m192/192\u001b[0m \u001b[32m━━━━━━━━━━━━━━━━━━━━\u001b[0m\u001b[37m\u001b[0m \u001b[1m340s\u001b[0m 2s/step - accuracy: 0.8034 - auc: 0.9771 - loss: 1.7515 - precision: 0.8560 - recall: 0.7449 - val_accuracy: 0.6610 - val_auc: 0.9359 - val_loss: 2.1845 - val_precision: 0.7068 - val_recall: 0.6180\n",
      "Epoch 10/20\n",
      "\u001b[1m192/192\u001b[0m \u001b[32m━━━━━━━━━━━━━━━━━━━━\u001b[0m\u001b[37m\u001b[0m \u001b[1m0s\u001b[0m 1s/step - accuracy: 0.8430 - auc: 0.9840 - loss: 1.6435 - precision: 0.8778 - recall: 0.7945"
     ]
    },
    {
     "name": "stderr",
     "output_type": "stream",
     "text": [
      "WARNING:absl:You are saving your model as an HDF5 file via `model.save()` or `keras.saving.save_model(model)`. This file format is considered legacy. We recommend using instead the native Keras format, e.g. `model.save('my_model.keras')` or `keras.saving.save_model(model, 'my_model.keras')`. \n"
     ]
    },
    {
     "name": "stdout",
     "output_type": "stream",
     "text": [
      "\u001b[1m192/192\u001b[0m \u001b[32m━━━━━━━━━━━━━━━━━━━━\u001b[0m\u001b[37m\u001b[0m \u001b[1m323s\u001b[0m 2s/step - accuracy: 0.8308 - auc: 0.9822 - loss: 1.6653 - precision: 0.8695 - recall: 0.7830 - val_accuracy: 0.6821 - val_auc: 0.9431 - val_loss: 2.1037 - val_precision: 0.7279 - val_recall: 0.6383\n",
      "Epoch 11/20\n",
      "\u001b[1m192/192\u001b[0m \u001b[32m━━━━━━━━━━━━━━━━━━━━\u001b[0m\u001b[37m\u001b[0m \u001b[1m303s\u001b[0m 2s/step - accuracy: 0.8608 - auc: 0.9873 - loss: 1.5554 - precision: 0.8896 - recall: 0.8329 - val_accuracy: 0.6121 - val_auc: 0.9211 - val_loss: 2.2906 - val_precision: 0.6546 - val_recall: 0.5658\n",
      "Epoch 12/20\n",
      "\u001b[1m192/192\u001b[0m \u001b[32m━━━━━━━━━━━━━━━━━━━━\u001b[0m\u001b[37m\u001b[0m \u001b[1m0s\u001b[0m 1s/step - accuracy: 0.8960 - auc: 0.9923 - loss: 1.4623 - precision: 0.9216 - recall: 0.8698"
     ]
    },
    {
     "name": "stderr",
     "output_type": "stream",
     "text": [
      "WARNING:absl:You are saving your model as an HDF5 file via `model.save()` or `keras.saving.save_model(model)`. This file format is considered legacy. We recommend using instead the native Keras format, e.g. `model.save('my_model.keras')` or `keras.saving.save_model(model, 'my_model.keras')`. \n"
     ]
    },
    {
     "name": "stdout",
     "output_type": "stream",
     "text": [
      "\u001b[1m192/192\u001b[0m \u001b[32m━━━━━━━━━━━━━━━━━━━━\u001b[0m\u001b[37m\u001b[0m \u001b[1m316s\u001b[0m 2s/step - accuracy: 0.8875 - auc: 0.9915 - loss: 1.4688 - precision: 0.9138 - recall: 0.8634 - val_accuracy: 0.6804 - val_auc: 0.9388 - val_loss: 2.0979 - val_precision: 0.7198 - val_recall: 0.6476\n",
      "Epoch 13/20\n",
      "\u001b[1m192/192\u001b[0m \u001b[32m━━━━━━━━━━━━━━━━━━━━\u001b[0m\u001b[37m\u001b[0m \u001b[1m0s\u001b[0m 1s/step - accuracy: 0.9038 - auc: 0.9929 - loss: 1.4190 - precision: 0.9252 - recall: 0.8820"
     ]
    },
    {
     "name": "stderr",
     "output_type": "stream",
     "text": [
      "WARNING:absl:You are saving your model as an HDF5 file via `model.save()` or `keras.saving.save_model(model)`. This file format is considered legacy. We recommend using instead the native Keras format, e.g. `model.save('my_model.keras')` or `keras.saving.save_model(model, 'my_model.keras')`. \n"
     ]
    },
    {
     "name": "stdout",
     "output_type": "stream",
     "text": [
      "\u001b[1m192/192\u001b[0m \u001b[32m━━━━━━━━━━━━━━━━━━━━\u001b[0m\u001b[37m\u001b[0m \u001b[1m335s\u001b[0m 2s/step - accuracy: 0.9000 - auc: 0.9928 - loss: 1.4141 - precision: 0.9198 - recall: 0.8809 - val_accuracy: 0.6889 - val_auc: 0.9417 - val_loss: 2.0514 - val_precision: 0.7308 - val_recall: 0.6408\n",
      "Epoch 14/20\n",
      "\u001b[1m192/192\u001b[0m \u001b[32m━━━━━━━━━━━━━━━━━━━━\u001b[0m\u001b[37m\u001b[0m \u001b[1m335s\u001b[0m 2s/step - accuracy: 0.9164 - auc: 0.9944 - loss: 1.3484 - precision: 0.9262 - recall: 0.8974 - val_accuracy: 0.6467 - val_auc: 0.9268 - val_loss: 2.2026 - val_precision: 0.6866 - val_recall: 0.6113\n",
      "Epoch 15/20\n",
      "\u001b[1m192/192\u001b[0m \u001b[32m━━━━━━━━━━━━━━━━━━━━\u001b[0m\u001b[37m\u001b[0m \u001b[1m233s\u001b[0m 1s/step - accuracy: 0.9269 - auc: 0.9952 - loss: 1.3101 - precision: 0.9397 - recall: 0.9154 - val_accuracy: 0.6248 - val_auc: 0.9168 - val_loss: 2.2875 - val_precision: 0.6601 - val_recall: 0.5911\n",
      "Epoch 16/20\n",
      "\u001b[1m192/192\u001b[0m \u001b[32m━━━━━━━━━━━━━━━━━━━━\u001b[0m\u001b[37m\u001b[0m \u001b[1m324s\u001b[0m 2s/step - accuracy: 0.9347 - auc: 0.9968 - loss: 1.2600 - precision: 0.9442 - recall: 0.9240 - val_accuracy: 0.6939 - val_auc: 0.9379 - val_loss: 2.0712 - val_precision: 0.7194 - val_recall: 0.6594\n",
      "Epoch 17/20\n",
      "\u001b[1m192/192\u001b[0m \u001b[32m━━━━━━━━━━━━━━━━━━━━\u001b[0m\u001b[37m\u001b[0m \u001b[1m243s\u001b[0m 1s/step - accuracy: 0.9483 - auc: 0.9980 - loss: 1.2023 - precision: 0.9574 - recall: 0.9384 - val_accuracy: 0.6366 - val_auc: 0.9206 - val_loss: 2.2776 - val_precision: 0.6624 - val_recall: 0.6138\n",
      "Epoch 18/20\n",
      "\u001b[1m192/192\u001b[0m \u001b[32m━━━━━━━━━━━━━━━━━━━━\u001b[0m\u001b[37m\u001b[0m \u001b[1m268s\u001b[0m 1s/step - accuracy: 0.9413 - auc: 0.9960 - loss: 1.2172 - precision: 0.9467 - recall: 0.9324 - val_accuracy: 0.6054 - val_auc: 0.9103 - val_loss: 2.3101 - val_precision: 0.6265 - val_recall: 0.5784\n",
      "Epoch 19/20\n",
      "\u001b[1m192/192\u001b[0m \u001b[32m━━━━━━━━━━━━━━━━━━━━\u001b[0m\u001b[37m\u001b[0m \u001b[1m277s\u001b[0m 1s/step - accuracy: 0.9465 - auc: 0.9968 - loss: 1.1764 - precision: 0.9546 - recall: 0.9392 - val_accuracy: 0.5961 - val_auc: 0.9055 - val_loss: 2.3004 - val_precision: 0.6357 - val_recall: 0.5590\n",
      "Epoch 20/20\n",
      "\u001b[1m192/192\u001b[0m \u001b[32m━━━━━━━━━━━━━━━━━━━━\u001b[0m\u001b[37m\u001b[0m \u001b[1m224s\u001b[0m 1s/step - accuracy: 0.9527 - auc: 0.9972 - loss: 1.1445 - precision: 0.9585 - recall: 0.9467 - val_accuracy: 0.6071 - val_auc: 0.9168 - val_loss: 2.1936 - val_precision: 0.6378 - val_recall: 0.5776\n"
     ]
    }
   ],
   "source": [
    "history_under_dr = model_u_dr.fit(\n",
    "    train_generator_u,          \n",
    "    validation_data=val_generator_u,\n",
    "    epochs=20,                \n",
    "    steps_per_epoch=len(train_generator_u),\n",
    "    validation_steps=len(val_generator_u), \n",
    "    callbacks=callbacks_u_dr)"
   ]
  },
  {
   "cell_type": "code",
   "execution_count": 241,
   "id": "353e0872",
   "metadata": {},
   "outputs": [],
   "source": [
    "accuracy_under_dr = history_under_dr.history['accuracy']\n",
    "val_acc_under_dr = history_under_dr.history ['val_accuracy']\n",
    "\n",
    "loss_under_dr = history_under_dr.history['loss']\n",
    "val_loss_under_dr = history_under_dr.history['val_loss']\n",
    "\n",
    "precision_under_dr = history_under_dr.history['precision']\n",
    "val_precision_under_dr = history_under_dr.history['val_precision']\n",
    "\n",
    "recall_under_dr = history_under_dr.history['recall']\n",
    "val_recall_under_dr = history_under_dr.history['val_recall']\n",
    "\n",
    "epochs_under_dr = range(1, len(accuracy_under_dr)+1)"
   ]
  },
  {
   "cell_type": "code",
   "execution_count": 246,
   "id": "5c38baba",
   "metadata": {},
   "outputs": [
    {
     "data": {
      "image/png": "[encoded data removed]",
      "text/plain": [
       "<Figure size 1500x1000 with 4 Axes>"
      ]
     },
     "metadata": {},
     "output_type": "display_data"
    }
   ],
   "source": [
    "fig, axes = plt.subplots (nrows = 2, ncols = 2, figsize = (15,10))\n",
    "\n",
    "axes[0,0].plot (epochs_under_dr, accuracy_under_dr, 'bo', label = 'Training Accuracy')\n",
    "axes[0,0].plot (epochs_under_dr, val_acc_under_dr, 'b', label = 'Validation Accuracy')\n",
    "axes[0,0].set_title ('Accuracy')\n",
    "axes[0,0].set_xlabel ('Epochs')\n",
    "axes[0,0].set_xticks (range(0, len(accuracy_under_dr)+1, 2))\n",
    "axes[0,0].set_ylim(0,1)\n",
    "axes[0,0].legend()\n",
    "\n",
    "axes[0,1].plot (epochs_under_dr, loss_under_dr, 'ro', label = 'Training Loss')\n",
    "axes[0,1].plot (epochs_under_dr, val_loss_under_dr, 'r', label = 'Validation Loss')\n",
    "axes[0,1].set_title ('Loss')\n",
    "axes[0,1].set_xlabel('Epochs')\n",
    "axes[0,1].set_xticks (range(0, len(accuracy_under_dr)+1, 2))\n",
    "axes[0,1].set_ylim(0,3)\n",
    "axes[0,1].legend()\n",
    "\n",
    "axes[1,0].plot (epochs_under_dr, precision_under_dr, 'go', label = 'Training precision')\n",
    "axes[1,0].plot (epochs_under_dr, val_precision_under_dr, 'g', label = 'Validation precision')\n",
    "axes[1,0].set_title ('Precision')\n",
    "axes[1,0].set_xlabel('Epochs')\n",
    "axes[1,0].set_xticks (range(0, len(accuracy_under_dr)+1, 2))\n",
    "axes[1,0].set_ylim(0,1)\n",
    "axes[1,0].legend()\n",
    "\n",
    "axes[1,1].plot (epochs_under_dr, recall_under_dr, 'yo',  label = 'Training recall')\n",
    "axes[1,1].plot (epochs_under_dr, val_recall_under_dr, 'y',  label = 'Validation recall')\n",
    "axes[1,1].set_title ('Recall')\n",
    "axes[1,1].set_xlabel('Epochs')\n",
    "axes[1,1].set_xticks (range(0, len(accuracy_under_dr)+1, 2))\n",
    "axes[1,1].set_ylim(0,1)\n",
    "axes[1,1].legend()\n",
    "\n",
    "\n",
    "fig.suptitle('Undersampling with Dropout, Batch Normalization and Regularization', fontsize=16)\n",
    "plt.tight_layout()\n",
    "plt.show()"
   ]
  },
  {
   "cell_type": "code",
   "execution_count": 247,
   "id": "ec7b7e90",
   "metadata": {},
   "outputs": [],
   "source": [
    "fig.savefig(\"Under with Drop, BN and L2 Reg.png\", dpi=300, bbox_inches='tight')"
   ]
  },
  {
   "cell_type": "markdown",
   "id": "01449d3c",
   "metadata": {},
   "source": [
    "Best Performing Model so far. Model is capable of detecting patterns, shapes and general info, showed by the improving on training data. Generalization could be improved despite the fact that the netwrok contains dropout, batch normalization and L2 Regularization."
   ]
  },
  {
   "cell_type": "markdown",
   "id": "a745fee6",
   "metadata": {},
   "source": [
    "Next step will be to try the same topology, but with Data Augmentation."
   ]
  },
  {
   "cell_type": "code",
   "execution_count": 235,
   "id": "fc3ea6af",
   "metadata": {},
   "outputs": [
    {
     "name": "stderr",
     "output_type": "stream",
     "text": [
      "c:\\Users\\pedro\\Desktop\\Breast-Cancer-Detection\\venv\\Lib\\site-packages\\keras\\src\\layers\\convolutional\\base_conv.py:113: UserWarning: Do not pass an `input_shape`/`input_dim` argument to a layer. When using Sequential models, prefer using an `Input(shape)` object as the first layer in the model instead.\n",
      "  super().__init__(activity_regularizer=activity_regularizer, **kwargs)\n"
     ]
    }
   ],
   "source": [
    "model_u_dr_au= models.Sequential()\n",
    "model_u_dr_au.add(layers.Conv2D(32, (3,3), activation='relu', input_shape=(224,224,3)))\n",
    "model_u_dr_au.add(layers.BatchNormalization())\n",
    "model_u_dr_au.add(layers.MaxPooling2D(2,2))\n",
    "model_u_dr_au.add(layers.Conv2D(64, (3,3), activation='relu', kernel_regularizer = regularizers.l2(0.001)))\n",
    "model_u_dr_au.add(layers.BatchNormalization())\n",
    "model_u_dr_au.add(layers.MaxPooling2D(2,2))\n",
    "model_u_dr_au.add(layers.Conv2D(128, (3,3), activation='relu', kernel_regularizer = regularizers.l2(0.001)))\n",
    "model_u_dr_au.add(layers.BatchNormalization())\n",
    "model_u_dr_au.add(layers.MaxPooling2D(2,2))\n",
    "model_u_dr_au.add(layers.Conv2D(256, (3,3), activation='relu', kernel_regularizer = regularizers.l2(0.001)))\n",
    "model_u_dr_au.add(layers.BatchNormalization())\n",
    "model_u_dr_au.add(layers.MaxPooling2D(2,2))\n",
    "model_u_dr_au.add(layers.Dropout(0.25))\n",
    "model_u_dr_au.add(layers.Flatten())\n",
    "model_u_dr_au.add(layers.Dense(512, activation='relu', kernel_regularizer=regularizers.l2(0.001)))\n",
    "model_u_dr_au.add(layers.Dropout(0.5))\n",
    "model_u_dr_au.add(layers.Dense(8, activation='softmax'))"
   ]
  },
  {
   "cell_type": "code",
   "execution_count": 236,
   "id": "0ae3889e",
   "metadata": {},
   "outputs": [],
   "source": [
    "model_u_dr_au.compile(\n",
    "    optimizer=optimizers.Adam(learning_rate=1e-4),\n",
    "    loss='categorical_crossentropy',\n",
    "    metrics=['accuracy', 'precision', 'recall', 'auc'])"
   ]
  },
  {
   "cell_type": "code",
   "execution_count": 237,
   "id": "4f751aa5",
   "metadata": {},
   "outputs": [],
   "source": [
    "train_datagen_u_au = ImageDataGenerator(\n",
    "    rescale=1./255,\n",
    "    rotation_range=30,\n",
    "    width_shift_range=0.2,\n",
    "    height_shift_range=0.2,\n",
    "    shear_range=0.2,\n",
    "    zoom_range=0.2,\n",
    "    horizontal_flip=True,\n",
    "    fill_mode='nearest'\n",
    ")"
   ]
  },
  {
   "cell_type": "code",
   "execution_count": 238,
   "id": "da181dc6",
   "metadata": {},
   "outputs": [
    {
     "name": "stdout",
     "output_type": "stream",
     "text": [
      "Found 3830 images belonging to 8 classes.\n"
     ]
    }
   ],
   "source": [
    "train_dir_u = r'..\\Multi_Class_Classification\\multi_class_undersampling\\train'\n",
    "train_generator_u_au = train_datagen_u_au.flow_from_directory( \n",
    "    train_dir_u,         \n",
    "    target_size=(224,224), \n",
    "    batch_size=20,  \n",
    "    class_mode='categorical')"
   ]
  },
  {
   "cell_type": "code",
   "execution_count": 239,
   "id": "3369b05b",
   "metadata": {},
   "outputs": [],
   "source": [
    "callbacks_u_dr_au = [\n",
    "    EarlyStopping(monitor='val_accuracy', mode= 'max', patience=5, restore_best_weights=True), \n",
    "    ModelCheckpoint('Multi_Class_Classification/models/model_u_dr_au.h5', save_best_only=True)]"
   ]
  },
  {
   "cell_type": "code",
   "execution_count": 240,
   "id": "584a4e55",
   "metadata": {},
   "outputs": [
    {
     "name": "stderr",
     "output_type": "stream",
     "text": [
      "c:\\Users\\pedro\\Desktop\\Breast-Cancer-Detection\\venv\\Lib\\site-packages\\keras\\src\\trainers\\data_adapters\\py_dataset_adapter.py:121: UserWarning: Your `PyDataset` class should call `super().__init__(**kwargs)` in its constructor. `**kwargs` can include `workers`, `use_multiprocessing`, `max_queue_size`. Do not pass these arguments to `fit()`, as they will be ignored.\n",
      "  self._warn_if_super_not_called()\n"
     ]
    },
    {
     "name": "stdout",
     "output_type": "stream",
     "text": [
      "Epoch 1/20\n",
      "\u001b[1m192/192\u001b[0m \u001b[32m━━━━━━━━━━━━━━━━━━━━\u001b[0m\u001b[37m\u001b[0m \u001b[1m0s\u001b[0m 1s/step - accuracy: 0.2700 - auc: 0.6602 - loss: 4.9941 - precision: 0.2932 - recall: 0.1978"
     ]
    },
    {
     "name": "stderr",
     "output_type": "stream",
     "text": [
      "WARNING:absl:You are saving your model as an HDF5 file via `model.save()` or `keras.saving.save_model(model)`. This file format is considered legacy. We recommend using instead the native Keras format, e.g. `model.save('my_model.keras')` or `keras.saving.save_model(model, 'my_model.keras')`. \n"
     ]
    },
    {
     "name": "stdout",
     "output_type": "stream",
     "text": [
      "\u001b[1m192/192\u001b[0m \u001b[32m━━━━━━━━━━━━━━━━━━━━\u001b[0m\u001b[37m\u001b[0m \u001b[1m312s\u001b[0m 2s/step - accuracy: 0.3162 - auc: 0.7079 - loss: 3.8439 - precision: 0.3632 - recall: 0.1809 - val_accuracy: 0.0793 - val_auc: 0.4739 - val_loss: 18.9343 - val_precision: 0.0793 - val_recall: 0.0793\n",
      "Epoch 2/20\n",
      "\u001b[1m192/192\u001b[0m \u001b[32m━━━━━━━━━━━━━━━━━━━━\u001b[0m\u001b[37m\u001b[0m \u001b[1m0s\u001b[0m 1s/step - accuracy: 0.3657 - auc: 0.7898 - loss: 2.9764 - precision: 0.5505 - recall: 0.1798"
     ]
    },
    {
     "name": "stderr",
     "output_type": "stream",
     "text": [
      "WARNING:absl:You are saving your model as an HDF5 file via `model.save()` or `keras.saving.save_model(model)`. This file format is considered legacy. We recommend using instead the native Keras format, e.g. `model.save('my_model.keras')` or `keras.saving.save_model(model, 'my_model.keras')`. \n"
     ]
    },
    {
     "name": "stdout",
     "output_type": "stream",
     "text": [
      "\u001b[1m192/192\u001b[0m \u001b[32m━━━━━━━━━━━━━━━━━━━━\u001b[0m\u001b[37m\u001b[0m \u001b[1m300s\u001b[0m 2s/step - accuracy: 0.3470 - auc: 0.7864 - loss: 2.9874 - precision: 0.5156 - recall: 0.1637 - val_accuracy: 0.1315 - val_auc: 0.5727 - val_loss: 10.4274 - val_precision: 0.1271 - val_recall: 0.1239\n",
      "Epoch 3/20\n",
      "\u001b[1m192/192\u001b[0m \u001b[32m━━━━━━━━━━━━━━━━━━━━\u001b[0m\u001b[37m\u001b[0m \u001b[1m0s\u001b[0m 1s/step - accuracy: 0.3903 - auc: 0.8139 - loss: 2.8939 - precision: 0.5408 - recall: 0.1854"
     ]
    },
    {
     "name": "stderr",
     "output_type": "stream",
     "text": [
      "WARNING:absl:You are saving your model as an HDF5 file via `model.save()` or `keras.saving.save_model(model)`. This file format is considered legacy. We recommend using instead the native Keras format, e.g. `model.save('my_model.keras')` or `keras.saving.save_model(model, 'my_model.keras')`. \n"
     ]
    },
    {
     "name": "stdout",
     "output_type": "stream",
     "text": [
      "\u001b[1m192/192\u001b[0m \u001b[32m━━━━━━━━━━━━━━━━━━━━\u001b[0m\u001b[37m\u001b[0m \u001b[1m330s\u001b[0m 2s/step - accuracy: 0.3867 - auc: 0.8104 - loss: 2.8982 - precision: 0.5426 - recall: 0.1864 - val_accuracy: 0.4233 - val_auc: 0.8300 - val_loss: 2.8852 - val_precision: 0.4929 - val_recall: 0.2352\n",
      "Epoch 4/20\n",
      "\u001b[1m192/192\u001b[0m \u001b[32m━━━━━━━━━━━━━━━━━━━━\u001b[0m\u001b[37m\u001b[0m \u001b[1m0s\u001b[0m 2s/step - accuracy: 0.3888 - auc: 0.8185 - loss: 2.8515 - precision: 0.5603 - recall: 0.1973"
     ]
    },
    {
     "name": "stderr",
     "output_type": "stream",
     "text": [
      "WARNING:absl:You are saving your model as an HDF5 file via `model.save()` or `keras.saving.save_model(model)`. This file format is considered legacy. We recommend using instead the native Keras format, e.g. `model.save('my_model.keras')` or `keras.saving.save_model(model, 'my_model.keras')`. \n"
     ]
    },
    {
     "name": "stdout",
     "output_type": "stream",
     "text": [
      "\u001b[1m192/192\u001b[0m \u001b[32m━━━━━━━━━━━━━━━━━━━━\u001b[0m\u001b[37m\u001b[0m \u001b[1m424s\u001b[0m 2s/step - accuracy: 0.3966 - auc: 0.8212 - loss: 2.8255 - precision: 0.5563 - recall: 0.1948 - val_accuracy: 0.4536 - val_auc: 0.8514 - val_loss: 2.6720 - val_precision: 0.5929 - val_recall: 0.2690\n",
      "Epoch 5/20\n",
      "\u001b[1m192/192\u001b[0m \u001b[32m━━━━━━━━━━━━━━━━━━━━\u001b[0m\u001b[37m\u001b[0m \u001b[1m0s\u001b[0m 1s/step - accuracy: 0.4199 - auc: 0.8312 - loss: 2.7801 - precision: 0.5767 - recall: 0.2277"
     ]
    },
    {
     "name": "stderr",
     "output_type": "stream",
     "text": [
      "WARNING:absl:You are saving your model as an HDF5 file via `model.save()` or `keras.saving.save_model(model)`. This file format is considered legacy. We recommend using instead the native Keras format, e.g. `model.save('my_model.keras')` or `keras.saving.save_model(model, 'my_model.keras')`. \n"
     ]
    },
    {
     "name": "stdout",
     "output_type": "stream",
     "text": [
      "\u001b[1m192/192\u001b[0m \u001b[32m━━━━━━━━━━━━━━━━━━━━\u001b[0m\u001b[37m\u001b[0m \u001b[1m290s\u001b[0m 2s/step - accuracy: 0.4232 - auc: 0.8314 - loss: 2.7745 - precision: 0.5726 - recall: 0.2214 - val_accuracy: 0.5894 - val_auc: 0.8999 - val_loss: 2.4173 - val_precision: 0.6863 - val_recall: 0.4427\n",
      "Epoch 6/20\n",
      "\u001b[1m192/192\u001b[0m \u001b[32m━━━━━━━━━━━━━━━━━━━━\u001b[0m\u001b[37m\u001b[0m \u001b[1m0s\u001b[0m 2s/step - accuracy: 0.4310 - auc: 0.8363 - loss: 2.7436 - precision: 0.5944 - recall: 0.2365"
     ]
    },
    {
     "name": "stderr",
     "output_type": "stream",
     "text": [
      "WARNING:absl:You are saving your model as an HDF5 file via `model.save()` or `keras.saving.save_model(model)`. This file format is considered legacy. We recommend using instead the native Keras format, e.g. `model.save('my_model.keras')` or `keras.saving.save_model(model, 'my_model.keras')`. \n"
     ]
    },
    {
     "name": "stdout",
     "output_type": "stream",
     "text": [
      "\u001b[1m192/192\u001b[0m \u001b[32m━━━━━━━━━━━━━━━━━━━━\u001b[0m\u001b[37m\u001b[0m \u001b[1m418s\u001b[0m 2s/step - accuracy: 0.4292 - auc: 0.8361 - loss: 2.7342 - precision: 0.5955 - recall: 0.2264 - val_accuracy: 0.5624 - val_auc: 0.9076 - val_loss: 2.3463 - val_precision: 0.7197 - val_recall: 0.4157\n",
      "Epoch 7/20\n",
      "\u001b[1m192/192\u001b[0m \u001b[32m━━━━━━━━━━━━━━━━━━━━\u001b[0m\u001b[37m\u001b[0m \u001b[1m284s\u001b[0m 1s/step - accuracy: 0.4491 - auc: 0.8526 - loss: 2.6359 - precision: 0.6065 - recall: 0.2520 - val_accuracy: 0.5034 - val_auc: 0.8767 - val_loss: 2.5126 - val_precision: 0.6302 - val_recall: 0.3550\n",
      "Epoch 8/20\n",
      "\u001b[1m192/192\u001b[0m \u001b[32m━━━━━━━━━━━━━━━━━━━━\u001b[0m\u001b[37m\u001b[0m \u001b[1m390s\u001b[0m 2s/step - accuracy: 0.4648 - auc: 0.8588 - loss: 2.5779 - precision: 0.6163 - recall: 0.2671 - val_accuracy: 0.5034 - val_auc: 0.8853 - val_loss: 2.4185 - val_precision: 0.6908 - val_recall: 0.3373\n",
      "Epoch 9/20\n",
      "\u001b[1m192/192\u001b[0m \u001b[32m━━━━━━━━━━━━━━━━━━━━\u001b[0m\u001b[37m\u001b[0m \u001b[1m0s\u001b[0m 1s/step - accuracy: 0.4825 - auc: 0.8652 - loss: 2.5301 - precision: 0.6440 - recall: 0.2994"
     ]
    },
    {
     "name": "stderr",
     "output_type": "stream",
     "text": [
      "WARNING:absl:You are saving your model as an HDF5 file via `model.save()` or `keras.saving.save_model(model)`. This file format is considered legacy. We recommend using instead the native Keras format, e.g. `model.save('my_model.keras')` or `keras.saving.save_model(model, 'my_model.keras')`. \n"
     ]
    },
    {
     "name": "stdout",
     "output_type": "stream",
     "text": [
      "\u001b[1m192/192\u001b[0m \u001b[32m━━━━━━━━━━━━━━━━━━━━\u001b[0m\u001b[37m\u001b[0m \u001b[1m279s\u001b[0m 1s/step - accuracy: 0.4747 - auc: 0.8653 - loss: 2.5352 - precision: 0.6250 - recall: 0.2859 - val_accuracy: 0.5616 - val_auc: 0.9107 - val_loss: 2.2615 - val_precision: 0.7537 - val_recall: 0.3457\n",
      "Epoch 10/20\n",
      "\u001b[1m192/192\u001b[0m \u001b[32m━━━━━━━━━━━━━━━━━━━━\u001b[0m\u001b[37m\u001b[0m \u001b[1m342s\u001b[0m 2s/step - accuracy: 0.4888 - auc: 0.8704 - loss: 2.4783 - precision: 0.6236 - recall: 0.3010 - val_accuracy: 0.5944 - val_auc: 0.9070 - val_loss: 2.2923 - val_precision: 0.6857 - val_recall: 0.4949\n",
      "Epoch 11/20\n",
      "\u001b[1m192/192\u001b[0m \u001b[32m━━━━━━━━━━━━━━━━━━━━\u001b[0m\u001b[37m\u001b[0m \u001b[1m422s\u001b[0m 2s/step - accuracy: 0.5029 - auc: 0.8749 - loss: 2.4330 - precision: 0.6317 - recall: 0.3131 - val_accuracy: 0.5101 - val_auc: 0.8701 - val_loss: 2.4849 - val_precision: 0.6104 - val_recall: 0.3845\n",
      "Epoch 12/20\n",
      "\u001b[1m192/192\u001b[0m \u001b[32m━━━━━━━━━━━━━━━━━━━━\u001b[0m\u001b[37m\u001b[0m \u001b[1m0s\u001b[0m 2s/step - accuracy: 0.4915 - auc: 0.8756 - loss: 2.4050 - precision: 0.6281 - recall: 0.3178"
     ]
    },
    {
     "name": "stderr",
     "output_type": "stream",
     "text": [
      "WARNING:absl:You are saving your model as an HDF5 file via `model.save()` or `keras.saving.save_model(model)`. This file format is considered legacy. We recommend using instead the native Keras format, e.g. `model.save('my_model.keras')` or `keras.saving.save_model(model, 'my_model.keras')`. \n"
     ]
    },
    {
     "name": "stdout",
     "output_type": "stream",
     "text": [
      "\u001b[1m192/192\u001b[0m \u001b[32m━━━━━━━━━━━━━━━━━━━━\u001b[0m\u001b[37m\u001b[0m \u001b[1m449s\u001b[0m 2s/step - accuracy: 0.5031 - auc: 0.8809 - loss: 2.3710 - precision: 0.6423 - recall: 0.3305 - val_accuracy: 0.6029 - val_auc: 0.9266 - val_loss: 2.0737 - val_precision: 0.7354 - val_recall: 0.4570\n",
      "Epoch 13/20\n",
      "\u001b[1m192/192\u001b[0m \u001b[32m━━━━━━━━━━━━━━━━━━━━\u001b[0m\u001b[37m\u001b[0m \u001b[1m0s\u001b[0m 2s/step - accuracy: 0.5232 - auc: 0.8870 - loss: 2.3190 - precision: 0.6579 - recall: 0.3431"
     ]
    },
    {
     "name": "stderr",
     "output_type": "stream",
     "text": [
      "WARNING:absl:You are saving your model as an HDF5 file via `model.save()` or `keras.saving.save_model(model)`. This file format is considered legacy. We recommend using instead the native Keras format, e.g. `model.save('my_model.keras')` or `keras.saving.save_model(model, 'my_model.keras')`. \n"
     ]
    },
    {
     "name": "stdout",
     "output_type": "stream",
     "text": [
      "\u001b[1m192/192\u001b[0m \u001b[32m━━━━━━━━━━━━━━━━━━━━\u001b[0m\u001b[37m\u001b[0m \u001b[1m434s\u001b[0m 2s/step - accuracy: 0.5162 - auc: 0.8869 - loss: 2.3119 - precision: 0.6490 - recall: 0.3462 - val_accuracy: 0.6012 - val_auc: 0.9268 - val_loss: 2.0480 - val_precision: 0.6881 - val_recall: 0.4519\n",
      "Epoch 14/20\n",
      "\u001b[1m192/192\u001b[0m \u001b[32m━━━━━━━━━━━━━━━━━━━━\u001b[0m\u001b[37m\u001b[0m \u001b[1m377s\u001b[0m 2s/step - accuracy: 0.5305 - auc: 0.8916 - loss: 2.2597 - precision: 0.6509 - recall: 0.3554 - val_accuracy: 0.6037 - val_auc: 0.9215 - val_loss: 2.0831 - val_precision: 0.6698 - val_recall: 0.5337\n",
      "Epoch 15/20\n",
      "\u001b[1m192/192\u001b[0m \u001b[32m━━━━━━━━━━━━━━━━━━━━\u001b[0m\u001b[37m\u001b[0m \u001b[1m396s\u001b[0m 2s/step - accuracy: 0.5397 - auc: 0.8937 - loss: 2.2191 - precision: 0.6581 - recall: 0.3533 - val_accuracy: 0.4511 - val_auc: 0.8749 - val_loss: 2.3113 - val_precision: 0.5591 - val_recall: 0.3069\n",
      "Epoch 16/20\n",
      "\u001b[1m192/192\u001b[0m \u001b[32m━━━━━━━━━━━━━━━━━━━━\u001b[0m\u001b[37m\u001b[0m \u001b[1m0s\u001b[0m 2s/step - accuracy: 0.5405 - auc: 0.8937 - loss: 2.1958 - precision: 0.6696 - recall: 0.3585"
     ]
    },
    {
     "name": "stderr",
     "output_type": "stream",
     "text": [
      "WARNING:absl:You are saving your model as an HDF5 file via `model.save()` or `keras.saving.save_model(model)`. This file format is considered legacy. We recommend using instead the native Keras format, e.g. `model.save('my_model.keras')` or `keras.saving.save_model(model, 'my_model.keras')`. \n"
     ]
    },
    {
     "name": "stdout",
     "output_type": "stream",
     "text": [
      "\u001b[1m192/192\u001b[0m \u001b[32m━━━━━━━━━━━━━━━━━━━━\u001b[0m\u001b[37m\u001b[0m \u001b[1m403s\u001b[0m 2s/step - accuracy: 0.5496 - auc: 0.8994 - loss: 2.1554 - precision: 0.6687 - recall: 0.3783 - val_accuracy: 0.6450 - val_auc: 0.9349 - val_loss: 1.9284 - val_precision: 0.6997 - val_recall: 0.5776\n",
      "Epoch 17/20\n",
      "\u001b[1m192/192\u001b[0m \u001b[32m━━━━━━━━━━━━━━━━━━━━\u001b[0m\u001b[37m\u001b[0m \u001b[1m273s\u001b[0m 1s/step - accuracy: 0.5687 - auc: 0.9085 - loss: 2.0783 - precision: 0.6838 - recall: 0.4172 - val_accuracy: 0.6180 - val_auc: 0.9184 - val_loss: 2.0638 - val_precision: 0.6698 - val_recall: 0.5388\n",
      "Epoch 18/20\n",
      "\u001b[1m192/192\u001b[0m \u001b[32m━━━━━━━━━━━━━━━━━━━━\u001b[0m\u001b[37m\u001b[0m \u001b[1m328s\u001b[0m 2s/step - accuracy: 0.5700 - auc: 0.9090 - loss: 2.0439 - precision: 0.6785 - recall: 0.4154 - val_accuracy: 0.4148 - val_auc: 0.8068 - val_loss: 2.9695 - val_precision: 0.4492 - val_recall: 0.3575\n",
      "Epoch 19/20\n",
      "\u001b[1m192/192\u001b[0m \u001b[32m━━━━━━━━━━━━━━━━━━━━\u001b[0m\u001b[37m\u001b[0m \u001b[1m0s\u001b[0m 2s/step - accuracy: 0.5663 - auc: 0.9077 - loss: 2.0472 - precision: 0.6816 - recall: 0.4224"
     ]
    },
    {
     "name": "stderr",
     "output_type": "stream",
     "text": [
      "WARNING:absl:You are saving your model as an HDF5 file via `model.save()` or `keras.saving.save_model(model)`. This file format is considered legacy. We recommend using instead the native Keras format, e.g. `model.save('my_model.keras')` or `keras.saving.save_model(model, 'my_model.keras')`. \n"
     ]
    },
    {
     "name": "stdout",
     "output_type": "stream",
     "text": [
      "\u001b[1m192/192\u001b[0m \u001b[32m━━━━━━━━━━━━━━━━━━━━\u001b[0m\u001b[37m\u001b[0m \u001b[1m407s\u001b[0m 2s/step - accuracy: 0.5728 - auc: 0.9103 - loss: 2.0172 - precision: 0.6895 - recall: 0.4204 - val_accuracy: 0.6484 - val_auc: 0.9370 - val_loss: 1.8270 - val_precision: 0.6999 - val_recall: 0.5919\n",
      "Epoch 20/20\n",
      "\u001b[1m192/192\u001b[0m \u001b[32m━━━━━━━━━━━━━━━━━━━━\u001b[0m\u001b[37m\u001b[0m \u001b[1m410s\u001b[0m 2s/step - accuracy: 0.5849 - auc: 0.9149 - loss: 1.9573 - precision: 0.6917 - recall: 0.4258 - val_accuracy: 0.5708 - val_auc: 0.9021 - val_loss: 2.0841 - val_precision: 0.6275 - val_recall: 0.4815\n"
     ]
    }
   ],
   "source": [
    "history_under_dr_au = model_u_dr_au.fit(\n",
    "    train_generator_u_au,          \n",
    "    validation_data=val_generator_u,\n",
    "    epochs=20,                \n",
    "    steps_per_epoch=len(train_generator_u_au),\n",
    "    validation_steps=len(val_generator_u), \n",
    "    callbacks=callbacks_u_dr_au)"
   ]
  },
  {
   "cell_type": "code",
   "execution_count": 248,
   "id": "659591bc",
   "metadata": {},
   "outputs": [],
   "source": [
    "accuracy_under_dr_au = history_under_dr_au.history['accuracy']\n",
    "val_acc_under_dr_au = history_under_dr_au.history ['val_accuracy']\n",
    "\n",
    "loss_under_dr_au = history_under_dr_au.history['loss']\n",
    "val_loss_under_dr_au = history_under_dr_au.history['val_loss']\n",
    "\n",
    "precision_under_dr_au = history_under_dr_au.history['precision']\n",
    "val_precision_under_dr_au = history_under_dr_au.history['val_precision']\n",
    "\n",
    "recall_under_dr_au = history_under_dr_au.history['recall']\n",
    "val_recall_under_dr_au = history_under_dr_au.history['val_recall']\n",
    "\n",
    "epochs_under_dr_au = range(1, len(accuracy_under_dr_au)+1)"
   ]
  },
  {
   "cell_type": "code",
   "execution_count": 249,
   "id": "639ee874",
   "metadata": {},
   "outputs": [
    {
     "data": {
      "image/png": "[encoded data removed]",
      "text/plain": [
       "<Figure size 1500x1000 with 4 Axes>"
      ]
     },
     "metadata": {},
     "output_type": "display_data"
    }
   ],
   "source": [
    "fig, axes = plt.subplots (nrows = 2, ncols = 2, figsize = (15,10))\n",
    "\n",
    "axes[0,0].plot (epochs_under_dr_au, accuracy_under_dr_au, 'bo', label = 'Training Accuracy')\n",
    "axes[0,0].plot (epochs_under_dr_au, val_acc_under_dr_au, 'b', label = 'Validation Accuracy')\n",
    "axes[0,0].set_title ('Accuracy')\n",
    "axes[0,0].set_xlabel ('Epochs')\n",
    "axes[0,0].set_xticks (range(0, len(accuracy_under_dr_au)+1, 2))\n",
    "axes[0,0].set_ylim(0,1)\n",
    "axes[0,0].legend()\n",
    "\n",
    "axes[0,1].plot (epochs_under_dr_au, loss_under_dr_au, 'ro', label = 'Training Loss')\n",
    "axes[0,1].plot (epochs_under_dr_au, val_loss_under_dr_au, 'r', label = 'Validation Loss')\n",
    "axes[0,1].set_title ('Loss')\n",
    "axes[0,1].set_xlabel('Epochs')\n",
    "axes[0,1].set_xticks (range(0, len(accuracy_under_dr_au)+1, 2))\n",
    "axes[0,1].set_ylim(0,3)\n",
    "axes[0,1].legend()\n",
    "\n",
    "axes[1,0].plot (epochs_under_dr_au, precision_under_dr_au, 'go', label = 'Training precision')\n",
    "axes[1,0].plot (epochs_under_dr_au, val_precision_under_dr_au, 'g', label = 'Validation precision')\n",
    "axes[1,0].set_title ('Precision')\n",
    "axes[1,0].set_xlabel('Epochs')\n",
    "axes[1,0].set_xticks (range(0, len(accuracy_under_dr_au)+1, 2))\n",
    "axes[1,0].set_ylim(0,1)\n",
    "axes[1,0].legend()\n",
    "\n",
    "axes[1,1].plot (epochs_under_dr_au, recall_under_dr_au, 'yo',  label = 'Training recall')\n",
    "axes[1,1].plot (epochs_under_dr_au, val_recall_under_dr_au, 'y',  label = 'Validation recall')\n",
    "axes[1,1].set_title ('Recall')\n",
    "axes[1,1].set_xlabel('Epochs')\n",
    "axes[1,1].set_xticks (range(0, len(accuracy_under_dr_au)+1, 2))\n",
    "axes[1,1].set_ylim(0,1)\n",
    "axes[1,1].legend()\n",
    "\n",
    "\n",
    "fig.suptitle('Undersampling with Data Augmentation, Dropout, Batch Normalization and Regularization', fontsize=16)\n",
    "plt.tight_layout()\n",
    "plt.show()"
   ]
  },
  {
   "cell_type": "code",
   "execution_count": 250,
   "id": "6beda3ad",
   "metadata": {},
   "outputs": [],
   "source": [
    "fig.savefig(\"Under with Data Augm, Drop, BN and L2 Reg.png\", dpi=300, bbox_inches='tight')"
   ]
  }
 ],
 "metadata": {
  "kernelspec": {
   "display_name": "venv",
   "language": "python",
   "name": "python3"
  },
  "language_info": {
   "codemirror_mode": {
    "name": "ipython",
    "version": 3
   },
   "file_extension": ".py",
   "mimetype": "text/x-python",
   "name": "python",
   "nbconvert_exporter": "python",
   "pygments_lexer": "ipython3",
   "version": "3.12.0"
  }
 },
 "nbformat": 4,
 "nbformat_minor": 5
}
