{
 "cells": [
  {
   "cell_type": "code",
   "execution_count": 1,
   "id": "619239c4",
   "metadata": {},
   "outputs": [],
   "source": [
    "import os\n",
    "import shutil\n",
    "import pandas as pd\n",
    "import numpy as np\n",
    "import matplotlib.pyplot as plt\n",
    "import seaborn as sns\n",
    "import random\n",
    "from sklearn.model_selection import train_test_split"
   ]
  },
  {
   "cell_type": "code",
   "execution_count": 2,
   "id": "e24ca71f",
   "metadata": {},
   "outputs": [],
   "source": [
    "original_train_dir = 'multi_class/train'\n",
    "undersampled_train_dir = 'multi_class_undersampling/train'"
   ]
  },
  {
   "cell_type": "code",
   "execution_count": 3,
   "id": "2b131313",
   "metadata": {},
   "outputs": [],
   "source": [
    "os.makedirs(undersampled_train_dir, exist_ok=True)"
   ]
  },
  {
   "cell_type": "code",
   "execution_count": 4,
   "id": "89f9dd32",
   "metadata": {},
   "outputs": [],
   "source": [
    "target_class = 'Ductal Carcinoma'\n",
    "target_count = 710 #Same as the 2nd highest"
   ]
  },
  {
   "cell_type": "code",
   "execution_count": 5,
   "id": "0f9c9a9d",
   "metadata": {},
   "outputs": [
    {
     "name": "stdout",
     "output_type": "stream",
     "text": [
      "Adenosis: kept 311 images\n",
      "Ductal Carcinoma: kept 710 images\n",
      "Fibroadenoma: kept 710 images\n",
      "Lobular Carcinoma: kept 438 images\n",
      "Mucinous Carcinoma: kept 554 images\n",
      "Papillary Carcinoma: kept 392 images\n",
      "Phyllodes Tumor: kept 317 images\n",
      "Tubular Adenoma: kept 398 images\n",
      "✅ Undersampled training set created at: multi_class_undersampling/train\n"
     ]
    }
   ],
   "source": [
    "for cls in os.listdir(original_train_dir):\n",
    "    src_folder = os.path.join(original_train_dir, cls)\n",
    "    dst_folder = os.path.join(undersampled_train_dir, cls)\n",
    "    os.makedirs(dst_folder, exist_ok=True)\n",
    "\n",
    "    images = os.listdir(src_folder)\n",
    "    random.shuffle(images)\n",
    "\n",
    "    if cls == target_class:\n",
    "        # Keep only 710 images\n",
    "        selected = images[:target_count]\n",
    "    else:\n",
    "        # Copy all images for other classes\n",
    "        selected = images\n",
    "\n",
    "    for img in selected:\n",
    "        shutil.copy(os.path.join(src_folder, img),\n",
    "                    os.path.join(dst_folder, img))\n",
    "\n",
    "    print(f\"{cls}: kept {len(selected)} images\")\n",
    "\n",
    "print(\"✅ Undersampled training set created at:\", undersampled_train_dir)"
   ]
  },
  {
   "cell_type": "code",
   "execution_count": 15,
   "id": "d139824e",
   "metadata": {},
   "outputs": [
    {
     "name": "stdout",
     "output_type": "stream",
     "text": [
      "✅ Copied validation folder to ..\\Multi_Class_Classification\\multi_class_undersampling\\validation\n",
      "✅ Copied test folder to ..\\Multi_Class_Classification\\multi_class_undersampling\\test\n"
     ]
    }
   ],
   "source": [
    "original_root = r\"..\\Multi_Class_Classification\\multi_class\"\n",
    "new_root = r\"..\\Multi_Class_Classification\\multi_class_undersampling\"\n",
    "\n",
    "for subset in [\"validation\", \"test\"]:\n",
    "    src = os.path.join(original_root, subset)\n",
    "    dst = os.path.join(new_root, subset)\n",
    "    \n",
    "    if not os.path.exists(src):\n",
    "        print(f\"❌ Source folder not found: {src}\")\n",
    "        continue\n",
    "    \n",
    "    if os.path.exists(dst):\n",
    "        print(f\"⚠️ Destination folder already exists, skipping: {dst}\")\n",
    "    else:\n",
    "        shutil.copytree(src, dst)\n",
    "        print(f\"✅ Copied {subset} folder to {dst}\")"
   ]
  },
  {
   "cell_type": "code",
   "execution_count": 16,
   "id": "44b3580f",
   "metadata": {},
   "outputs": [
    {
     "name": "stdout",
     "output_type": "stream",
     "text": [
      "\n",
      "TRAIN:\n",
      "  Adenosis: 311 images\n",
      "  Ductal Carcinoma: 710 images\n",
      "  Fibroadenoma: 710 images\n",
      "  Lobular Carcinoma: 438 images\n",
      "  Mucinous Carcinoma: 554 images\n",
      "  Papillary Carcinoma: 392 images\n",
      "  Phyllodes Tumor: 317 images\n",
      "  Tubular Adenoma: 398 images\n",
      "\n",
      "VALIDATION:\n",
      "  Adenosis: 67 images\n",
      "  Ductal Carcinoma: 517 images\n",
      "  Fibroadenoma: 152 images\n",
      "  Lobular Carcinoma: 94 images\n",
      "  Mucinous Carcinoma: 119 images\n",
      "  Papillary Carcinoma: 84 images\n",
      "  Phyllodes Tumor: 68 images\n",
      "  Tubular Adenoma: 85 images\n",
      "\n",
      "TEST:\n",
      "  Adenosis: 66 images\n",
      "  Ductal Carcinoma: 518 images\n",
      "  Fibroadenoma: 152 images\n",
      "  Lobular Carcinoma: 94 images\n",
      "  Mucinous Carcinoma: 119 images\n",
      "  Papillary Carcinoma: 84 images\n",
      "  Phyllodes Tumor: 68 images\n",
      "  Tubular Adenoma: 86 images\n"
     ]
    }
   ],
   "source": [
    "root = r\"..\\Multi_Class_Classification\\multi_class_undersampling\"\n",
    "\n",
    "for subset in [\"train\", \"validation\", \"test\"]:\n",
    "    subset_path = os.path.join(root, subset)\n",
    "    print(f\"\\n{subset.upper()}:\")\n",
    "\n",
    "    for cls in os.listdir(subset_path):\n",
    "        cls_path = os.path.join(subset_path, cls)\n",
    "        if os.path.isdir(cls_path):\n",
    "            num_images = len(os.listdir(cls_path))\n",
    "            print(f\"  {cls}: {num_images} images\")"
   ]
  }
 ],
 "metadata": {
  "kernelspec": {
   "display_name": "venv",
   "language": "python",
   "name": "python3"
  },
  "language_info": {
   "codemirror_mode": {
    "name": "ipython",
    "version": 3
   },
   "file_extension": ".py",
   "mimetype": "text/x-python",
   "name": "python",
   "nbconvert_exporter": "python",
   "pygments_lexer": "ipython3",
   "version": "3.12.0"
  }
 },
 "nbformat": 4,
 "nbformat_minor": 5
}
