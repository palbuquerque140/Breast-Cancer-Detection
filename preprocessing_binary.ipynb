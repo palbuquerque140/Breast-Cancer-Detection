{
 "cells": [
  {
   "cell_type": "code",
   "execution_count": 116,
   "id": "183c6488",
   "metadata": {},
   "outputs": [],
   "source": [
    "import os\n",
    "import shutil\n",
    "import pandas as pd\n",
    "import numpy as np\n",
    "import matplotlib.pyplot as plt\n",
    "import seaborn as sns\n",
    "from sklearn.model_selection import train_test_split"
   ]
  },
  {
   "cell_type": "code",
   "execution_count": 4,
   "id": "e972204e",
   "metadata": {},
   "outputs": [],
   "source": [
    "original_dir = r'C:\\Users\\pedro\\Desktop\\Breast-Cancer-Detection\\Data\\breast'"
   ]
  },
  {
   "cell_type": "code",
   "execution_count": 7,
   "id": "6555b5f6",
   "metadata": {},
   "outputs": [],
   "source": [
    "classes = ['benign', 'malignant']\n",
    "sub_classes = ['train', 'validation', 'test']"
   ]
  },
  {
   "cell_type": "code",
   "execution_count": 8,
   "id": "c817e5bc",
   "metadata": {},
   "outputs": [],
   "source": [
    "base_dir = r'C:\\Users\\pedro\\Desktop\\Breast-Cancer-Detection\\binary_class'\n",
    "os.mkdir(base_dir)"
   ]
  },
  {
   "cell_type": "code",
   "execution_count": 12,
   "id": "ac09899c",
   "metadata": {},
   "outputs": [],
   "source": [
    "unnested = r'C:\\Users\\pedro\\Desktop\\Breast-Cancer-Detection\\unnested'\n",
    "os.mkdir(unnested)"
   ]
  },
  {
   "cell_type": "markdown",
   "id": "2f8f77f0",
   "metadata": {},
   "source": [
    "Create Folders"
   ]
  },
  {
   "cell_type": "code",
   "execution_count": 10,
   "id": "2fd389c2",
   "metadata": {},
   "outputs": [],
   "source": [
    "for i in sub_classes:\n",
    "    for j in classes:\n",
    "        os.makedirs(os.path.join(base_dir, i, j))"
   ]
  },
  {
   "cell_type": "markdown",
   "id": "1f1950eb",
   "metadata": {},
   "source": [
    "Unnest the files"
   ]
  },
  {
   "cell_type": "code",
   "execution_count": 13,
   "id": "3d8c2b97",
   "metadata": {},
   "outputs": [],
   "source": [
    "for i in classes:    \n",
    "    for root, _, files in os.walk(os.path.join(original_dir, i)):\n",
    "        for f in files:\n",
    "            if f.lower().endswith(\".png\"):\n",
    "                src = os.path.join(root, f)\n",
    "                dst = os.path.join(unnested, f)\n",
    "                shutil.copyfile(src, dst)"
   ]
  },
  {
   "cell_type": "code",
   "execution_count": 18,
   "id": "5c68c275",
   "metadata": {},
   "outputs": [
    {
     "data": {
      "text/plain": [
       "7909"
      ]
     },
     "execution_count": 18,
     "metadata": {},
     "output_type": "execute_result"
    }
   ],
   "source": [
    "len(os.listdir(unnested))"
   ]
  },
  {
   "cell_type": "code",
   "execution_count": 20,
   "id": "0dc69d60",
   "metadata": {},
   "outputs": [],
   "source": [
    "df = pd.read_csv(r'C:\\Users\\pedro\\Desktop\\Breast-Cancer-Detection\\Data\\breast\\image_data.csv')"
   ]
  },
  {
   "cell_type": "code",
   "execution_count": 27,
   "id": "5cb773d0",
   "metadata": {},
   "outputs": [
    {
     "data": {
      "text/html": [
       "<div>\n",
       "<style scoped>\n",
       "    .dataframe tbody tr th:only-of-type {\n",
       "        vertical-align: middle;\n",
       "    }\n",
       "\n",
       "    .dataframe tbody tr th {\n",
       "        vertical-align: top;\n",
       "    }\n",
       "\n",
       "    .dataframe thead th {\n",
       "        text-align: right;\n",
       "    }\n",
       "</style>\n",
       "<table border=\"1\" class=\"dataframe\">\n",
       "  <thead>\n",
       "    <tr style=\"text-align: right;\">\n",
       "      <th></th>\n",
       "      <th>path_to_image</th>\n",
       "      <th>Benign or Malignant</th>\n",
       "      <th>Cancer Type</th>\n",
       "      <th>Magnification</th>\n",
       "    </tr>\n",
       "  </thead>\n",
       "  <tbody>\n",
       "    <tr>\n",
       "      <th>0</th>\n",
       "      <td>BreaKHis_v1/histology_slides/breast/benign/SOB/adenosis/SOB_B_A_14-22549AB/100X/SOB_B_A-14-22549AB-100-011.png</td>\n",
       "      <td>Benign</td>\n",
       "      <td>Adenosis</td>\n",
       "      <td>100X</td>\n",
       "    </tr>\n",
       "    <tr>\n",
       "      <th>1</th>\n",
       "      <td>BreaKHis_v1/histology_slides/breast/benign/SOB/adenosis/SOB_B_A_14-22549AB/100X/SOB_B_A-14-22549AB-100-005.png</td>\n",
       "      <td>Benign</td>\n",
       "      <td>Adenosis</td>\n",
       "      <td>100X</td>\n",
       "    </tr>\n",
       "    <tr>\n",
       "      <th>2</th>\n",
       "      <td>BreaKHis_v1/histology_slides/breast/benign/SOB/adenosis/SOB_B_A_14-22549AB/100X/SOB_B_A-14-22549AB-100-004.png</td>\n",
       "      <td>Benign</td>\n",
       "      <td>Adenosis</td>\n",
       "      <td>100X</td>\n",
       "    </tr>\n",
       "    <tr>\n",
       "      <th>3</th>\n",
       "      <td>BreaKHis_v1/histology_slides/breast/benign/SOB/adenosis/SOB_B_A_14-22549AB/100X/SOB_B_A-14-22549AB-100-010.png</td>\n",
       "      <td>Benign</td>\n",
       "      <td>Adenosis</td>\n",
       "      <td>100X</td>\n",
       "    </tr>\n",
       "    <tr>\n",
       "      <th>4</th>\n",
       "      <td>BreaKHis_v1/histology_slides/breast/benign/SOB/adenosis/SOB_B_A_14-22549AB/100X/SOB_B_A-14-22549AB-100-006.png</td>\n",
       "      <td>Benign</td>\n",
       "      <td>Adenosis</td>\n",
       "      <td>100X</td>\n",
       "    </tr>\n",
       "    <tr>\n",
       "      <th>...</th>\n",
       "      <td>...</td>\n",
       "      <td>...</td>\n",
       "      <td>...</td>\n",
       "      <td>...</td>\n",
       "    </tr>\n",
       "    <tr>\n",
       "      <th>7904</th>\n",
       "      <td>BreaKHis_v1/histology_slides/breast/malignant/SOB/lobular_carcinoma/SOB_M_LC_14-12204/200X/SOB_M_LC-14-12204-200-028.png</td>\n",
       "      <td>Malignant</td>\n",
       "      <td>Lobular Carcinoma</td>\n",
       "      <td>200X</td>\n",
       "    </tr>\n",
       "    <tr>\n",
       "      <th>7905</th>\n",
       "      <td>BreaKHis_v1/histology_slides/breast/malignant/SOB/lobular_carcinoma/SOB_M_LC_14-12204/200X/SOB_M_LC-14-12204-200-029.png</td>\n",
       "      <td>Malignant</td>\n",
       "      <td>Lobular Carcinoma</td>\n",
       "      <td>200X</td>\n",
       "    </tr>\n",
       "    <tr>\n",
       "      <th>7906</th>\n",
       "      <td>BreaKHis_v1/histology_slides/breast/malignant/SOB/lobular_carcinoma/SOB_M_LC_14-12204/200X/SOB_M_LC-14-12204-200-006.png</td>\n",
       "      <td>Malignant</td>\n",
       "      <td>Lobular Carcinoma</td>\n",
       "      <td>200X</td>\n",
       "    </tr>\n",
       "    <tr>\n",
       "      <th>7907</th>\n",
       "      <td>BreaKHis_v1/histology_slides/breast/malignant/SOB/lobular_carcinoma/SOB_M_LC_14-12204/200X/SOB_M_LC-14-12204-200-039.png</td>\n",
       "      <td>Malignant</td>\n",
       "      <td>Lobular Carcinoma</td>\n",
       "      <td>200X</td>\n",
       "    </tr>\n",
       "    <tr>\n",
       "      <th>7908</th>\n",
       "      <td>BreaKHis_v1/histology_slides/breast/malignant/SOB/lobular_carcinoma/SOB_M_LC_14-12204/200X/SOB_M_LC-14-12204-200-038.png</td>\n",
       "      <td>Malignant</td>\n",
       "      <td>Lobular Carcinoma</td>\n",
       "      <td>200X</td>\n",
       "    </tr>\n",
       "  </tbody>\n",
       "</table>\n",
       "<p>7909 rows × 4 columns</p>\n",
       "</div>"
      ],
      "text/plain": [
       "                                                                                                                 path_to_image  \\\n",
       "0               BreaKHis_v1/histology_slides/breast/benign/SOB/adenosis/SOB_B_A_14-22549AB/100X/SOB_B_A-14-22549AB-100-011.png   \n",
       "1               BreaKHis_v1/histology_slides/breast/benign/SOB/adenosis/SOB_B_A_14-22549AB/100X/SOB_B_A-14-22549AB-100-005.png   \n",
       "2               BreaKHis_v1/histology_slides/breast/benign/SOB/adenosis/SOB_B_A_14-22549AB/100X/SOB_B_A-14-22549AB-100-004.png   \n",
       "3               BreaKHis_v1/histology_slides/breast/benign/SOB/adenosis/SOB_B_A_14-22549AB/100X/SOB_B_A-14-22549AB-100-010.png   \n",
       "4               BreaKHis_v1/histology_slides/breast/benign/SOB/adenosis/SOB_B_A_14-22549AB/100X/SOB_B_A-14-22549AB-100-006.png   \n",
       "...                                                                                                                        ...   \n",
       "7904  BreaKHis_v1/histology_slides/breast/malignant/SOB/lobular_carcinoma/SOB_M_LC_14-12204/200X/SOB_M_LC-14-12204-200-028.png   \n",
       "7905  BreaKHis_v1/histology_slides/breast/malignant/SOB/lobular_carcinoma/SOB_M_LC_14-12204/200X/SOB_M_LC-14-12204-200-029.png   \n",
       "7906  BreaKHis_v1/histology_slides/breast/malignant/SOB/lobular_carcinoma/SOB_M_LC_14-12204/200X/SOB_M_LC-14-12204-200-006.png   \n",
       "7907  BreaKHis_v1/histology_slides/breast/malignant/SOB/lobular_carcinoma/SOB_M_LC_14-12204/200X/SOB_M_LC-14-12204-200-039.png   \n",
       "7908  BreaKHis_v1/histology_slides/breast/malignant/SOB/lobular_carcinoma/SOB_M_LC_14-12204/200X/SOB_M_LC-14-12204-200-038.png   \n",
       "\n",
       "     Benign or Malignant        Cancer Type Magnification  \n",
       "0                 Benign           Adenosis          100X  \n",
       "1                 Benign           Adenosis          100X  \n",
       "2                 Benign           Adenosis          100X  \n",
       "3                 Benign           Adenosis          100X  \n",
       "4                 Benign           Adenosis          100X  \n",
       "...                  ...                ...           ...  \n",
       "7904           Malignant  Lobular Carcinoma          200X  \n",
       "7905           Malignant  Lobular Carcinoma          200X  \n",
       "7906           Malignant  Lobular Carcinoma          200X  \n",
       "7907           Malignant  Lobular Carcinoma          200X  \n",
       "7908           Malignant  Lobular Carcinoma          200X  \n",
       "\n",
       "[7909 rows x 4 columns]"
      ]
     },
     "execution_count": 27,
     "metadata": {},
     "output_type": "execute_result"
    }
   ],
   "source": [
    "df"
   ]
  },
  {
   "cell_type": "code",
   "execution_count": 42,
   "id": "948c816a",
   "metadata": {},
   "outputs": [
    {
     "data": {
      "text/plain": [
       "Benign or Malignant\n",
       "Malignant    5426\n",
       "Benign       2480\n",
       "Name: count, dtype: int64"
      ]
     },
     "execution_count": 42,
     "metadata": {},
     "output_type": "execute_result"
    }
   ],
   "source": [
    "df['Benign or Malignant'].value_counts()"
   ]
  },
  {
   "cell_type": "code",
   "execution_count": 52,
   "id": "f19a898c",
   "metadata": {},
   "outputs": [
    {
     "data": {
      "text/plain": [
       "np.int64(3)"
      ]
     },
     "execution_count": 52,
     "metadata": {},
     "output_type": "execute_result"
    }
   ],
   "source": [
    "len(df)-df['Benign or Malignant'].count()"
   ]
  },
  {
   "cell_type": "markdown",
   "id": "4a18133c",
   "metadata": {},
   "source": [
    "Theres 3 datapoints that dont have any information apart from the name."
   ]
  },
  {
   "cell_type": "code",
   "execution_count": 86,
   "id": "18355580",
   "metadata": {},
   "outputs": [
    {
     "data": {
      "text/plain": [
       "path_to_image          0\n",
       "Benign or Malignant    3\n",
       "Cancer Type            4\n",
       "Magnification          4\n",
       "dtype: int64"
      ]
     },
     "execution_count": 86,
     "metadata": {},
     "output_type": "execute_result"
    }
   ],
   "source": [
    "df.isna().sum()"
   ]
  },
  {
   "cell_type": "code",
   "execution_count": 91,
   "id": "e4f29395",
   "metadata": {},
   "outputs": [
    {
     "data": {
      "text/html": [
       "<div>\n",
       "<style scoped>\n",
       "    .dataframe tbody tr th:only-of-type {\n",
       "        vertical-align: middle;\n",
       "    }\n",
       "\n",
       "    .dataframe tbody tr th {\n",
       "        vertical-align: top;\n",
       "    }\n",
       "\n",
       "    .dataframe thead th {\n",
       "        text-align: right;\n",
       "    }\n",
       "</style>\n",
       "<table border=\"1\" class=\"dataframe\">\n",
       "  <thead>\n",
       "    <tr style=\"text-align: right;\">\n",
       "      <th></th>\n",
       "      <th>path_to_image</th>\n",
       "      <th>Benign or Malignant</th>\n",
       "      <th>Cancer Type</th>\n",
       "      <th>Magnification</th>\n",
       "    </tr>\n",
       "  </thead>\n",
       "  <tbody>\n",
       "    <tr>\n",
       "      <th>2871</th>\n",
       "      <td>BreaKHis_v1/histology_slides/breast/malignant/SOB/mucinous_carcinoma/SOB_M_MC_14-18842/100X/SOB_M_MC-14-18842-100-014.png</td>\n",
       "      <td>NaN</td>\n",
       "      <td>NaN</td>\n",
       "      <td>NaN</td>\n",
       "    </tr>\n",
       "    <tr>\n",
       "      <th>3093</th>\n",
       "      <td>BreaKHis_v1/histology_slides/breast/malignant/SOB/mucinous_carcinoma/SOB_M_MC_14-13413/200X/SOB_M_MC-14-13413-200-010.png</td>\n",
       "      <td>Malignant</td>\n",
       "      <td>NaN</td>\n",
       "      <td>NaN</td>\n",
       "    </tr>\n",
       "    <tr>\n",
       "      <th>3228</th>\n",
       "      <td>BreaKHis_v1/histology_slides/breast/malignant/SOB/mucinous_carcinoma/SOB_M_MC_14-10147/400X/SOB_M_MC-14-10147-400-013.png</td>\n",
       "      <td>NaN</td>\n",
       "      <td>NaN</td>\n",
       "      <td>NaN</td>\n",
       "    </tr>\n",
       "    <tr>\n",
       "      <th>4536</th>\n",
       "      <td>BreaKHis_v1/histology_slides/breast/malignant/SOB/ductal_carcinoma/SOB_M_DC_14-14926/40X/SOB_M_DC-14-14926-40-012.png</td>\n",
       "      <td>NaN</td>\n",
       "      <td>NaN</td>\n",
       "      <td>NaN</td>\n",
       "    </tr>\n",
       "  </tbody>\n",
       "</table>\n",
       "</div>"
      ],
      "text/plain": [
       "                                                                                                                  path_to_image  \\\n",
       "2871  BreaKHis_v1/histology_slides/breast/malignant/SOB/mucinous_carcinoma/SOB_M_MC_14-18842/100X/SOB_M_MC-14-18842-100-014.png   \n",
       "3093  BreaKHis_v1/histology_slides/breast/malignant/SOB/mucinous_carcinoma/SOB_M_MC_14-13413/200X/SOB_M_MC-14-13413-200-010.png   \n",
       "3228  BreaKHis_v1/histology_slides/breast/malignant/SOB/mucinous_carcinoma/SOB_M_MC_14-10147/400X/SOB_M_MC-14-10147-400-013.png   \n",
       "4536      BreaKHis_v1/histology_slides/breast/malignant/SOB/ductal_carcinoma/SOB_M_DC_14-14926/40X/SOB_M_DC-14-14926-40-012.png   \n",
       "\n",
       "     Benign or Malignant Cancer Type Magnification  \n",
       "2871                 NaN         NaN           NaN  \n",
       "3093           Malignant         NaN           NaN  \n",
       "3228                 NaN         NaN           NaN  \n",
       "4536                 NaN         NaN           NaN  "
      ]
     },
     "execution_count": 91,
     "metadata": {},
     "output_type": "execute_result"
    }
   ],
   "source": [
    "df.loc[df['Cancer Type'].isna()]"
   ]
  },
  {
   "cell_type": "code",
   "execution_count": 106,
   "id": "ac68541c",
   "metadata": {},
   "outputs": [],
   "source": [
    "df.loc[[2871,3093,3228,4536],'Benign or Malignant'] = 'Malignant'"
   ]
  },
  {
   "cell_type": "code",
   "execution_count": 107,
   "id": "ea0e4239",
   "metadata": {},
   "outputs": [
    {
     "data": {
      "text/plain": [
       "Cancer Type\n",
       "Ductal Carcinoma       3450\n",
       "Fibroadenoma           1014\n",
       "Mucinous Carcinoma      789\n",
       "Lobular Carcinoma       626\n",
       "Tubular Adenoma         569\n",
       "Papillary Carcinoma     560\n",
       "Phyllodes Tumor         453\n",
       "Adenosis                444\n",
       "Name: count, dtype: int64"
      ]
     },
     "execution_count": 107,
     "metadata": {},
     "output_type": "execute_result"
    }
   ],
   "source": [
    "df['Cancer Type'].value_counts()"
   ]
  },
  {
   "cell_type": "code",
   "execution_count": 108,
   "id": "a3436ff9",
   "metadata": {},
   "outputs": [],
   "source": [
    "df.loc[[2871,3093,3228],'Cancer Type'] = 'Mucinous Carcinoma'\n",
    "df.loc[[4536],'Cancer Type'] = 'Ductal Carcinoma'"
   ]
  },
  {
   "cell_type": "code",
   "execution_count": 109,
   "id": "70a68001",
   "metadata": {},
   "outputs": [
    {
     "data": {
      "text/html": [
       "<div>\n",
       "<style scoped>\n",
       "    .dataframe tbody tr th:only-of-type {\n",
       "        vertical-align: middle;\n",
       "    }\n",
       "\n",
       "    .dataframe tbody tr th {\n",
       "        vertical-align: top;\n",
       "    }\n",
       "\n",
       "    .dataframe thead th {\n",
       "        text-align: right;\n",
       "    }\n",
       "</style>\n",
       "<table border=\"1\" class=\"dataframe\">\n",
       "  <thead>\n",
       "    <tr style=\"text-align: right;\">\n",
       "      <th></th>\n",
       "      <th>path_to_image</th>\n",
       "      <th>Benign or Malignant</th>\n",
       "      <th>Cancer Type</th>\n",
       "      <th>Magnification</th>\n",
       "    </tr>\n",
       "  </thead>\n",
       "  <tbody>\n",
       "    <tr>\n",
       "      <th>2871</th>\n",
       "      <td>BreaKHis_v1/histology_slides/breast/malignant/SOB/mucinous_carcinoma/SOB_M_MC_14-18842/100X/SOB_M_MC-14-18842-100-014.png</td>\n",
       "      <td>Malignant</td>\n",
       "      <td>Mucinous Carcinoma</td>\n",
       "      <td>NaN</td>\n",
       "    </tr>\n",
       "    <tr>\n",
       "      <th>3093</th>\n",
       "      <td>BreaKHis_v1/histology_slides/breast/malignant/SOB/mucinous_carcinoma/SOB_M_MC_14-13413/200X/SOB_M_MC-14-13413-200-010.png</td>\n",
       "      <td>Malignant</td>\n",
       "      <td>Mucinous Carcinoma</td>\n",
       "      <td>NaN</td>\n",
       "    </tr>\n",
       "    <tr>\n",
       "      <th>3228</th>\n",
       "      <td>BreaKHis_v1/histology_slides/breast/malignant/SOB/mucinous_carcinoma/SOB_M_MC_14-10147/400X/SOB_M_MC-14-10147-400-013.png</td>\n",
       "      <td>Malignant</td>\n",
       "      <td>Mucinous Carcinoma</td>\n",
       "      <td>NaN</td>\n",
       "    </tr>\n",
       "    <tr>\n",
       "      <th>4536</th>\n",
       "      <td>BreaKHis_v1/histology_slides/breast/malignant/SOB/ductal_carcinoma/SOB_M_DC_14-14926/40X/SOB_M_DC-14-14926-40-012.png</td>\n",
       "      <td>Malignant</td>\n",
       "      <td>Ductal Carcinoma</td>\n",
       "      <td>NaN</td>\n",
       "    </tr>\n",
       "  </tbody>\n",
       "</table>\n",
       "</div>"
      ],
      "text/plain": [
       "                                                                                                                  path_to_image  \\\n",
       "2871  BreaKHis_v1/histology_slides/breast/malignant/SOB/mucinous_carcinoma/SOB_M_MC_14-18842/100X/SOB_M_MC-14-18842-100-014.png   \n",
       "3093  BreaKHis_v1/histology_slides/breast/malignant/SOB/mucinous_carcinoma/SOB_M_MC_14-13413/200X/SOB_M_MC-14-13413-200-010.png   \n",
       "3228  BreaKHis_v1/histology_slides/breast/malignant/SOB/mucinous_carcinoma/SOB_M_MC_14-10147/400X/SOB_M_MC-14-10147-400-013.png   \n",
       "4536      BreaKHis_v1/histology_slides/breast/malignant/SOB/ductal_carcinoma/SOB_M_DC_14-14926/40X/SOB_M_DC-14-14926-40-012.png   \n",
       "\n",
       "     Benign or Malignant         Cancer Type Magnification  \n",
       "2871           Malignant  Mucinous Carcinoma           NaN  \n",
       "3093           Malignant  Mucinous Carcinoma           NaN  \n",
       "3228           Malignant  Mucinous Carcinoma           NaN  \n",
       "4536           Malignant    Ductal Carcinoma           NaN  "
      ]
     },
     "execution_count": 109,
     "metadata": {},
     "output_type": "execute_result"
    }
   ],
   "source": [
    "df.loc[df['Magnification'].isna()]"
   ]
  },
  {
   "cell_type": "code",
   "execution_count": 110,
   "id": "fab6e86b",
   "metadata": {},
   "outputs": [
    {
     "data": {
      "text/plain": [
       "Benign or Malignant\n",
       "Malignant    5429\n",
       "Benign       2480\n",
       "Name: count, dtype: int64"
      ]
     },
     "execution_count": 110,
     "metadata": {},
     "output_type": "execute_result"
    }
   ],
   "source": [
    "df['Benign or Malignant'].value_counts()"
   ]
  },
  {
   "cell_type": "code",
   "execution_count": 112,
   "id": "98a7c21e",
   "metadata": {},
   "outputs": [
    {
     "data": {
      "text/plain": [
       "np.int64(7909)"
      ]
     },
     "execution_count": 112,
     "metadata": {},
     "output_type": "execute_result"
    }
   ],
   "source": [
    "df['Benign or Malignant'].count()"
   ]
  },
  {
   "cell_type": "code",
   "execution_count": 130,
   "id": "91152b4a",
   "metadata": {},
   "outputs": [
    {
     "data": {
      "image/png": "[encoded data removed]",
      "text/plain": [
       "<Figure size 640x480 with 1 Axes>"
      ]
     },
     "metadata": {},
     "output_type": "display_data"
    }
   ],
   "source": [
    "fig_1=sns.countplot(x='Benign or Malignant', data =df, hue='Benign or Malignant', order= df['Benign or Malignant'].value_counts().index)\n",
    "for p in fig_1.patches:\n",
    "    height = p.get_height().astype(int)\n",
    "    fig_1.text(p.get_x()+p.get_width()/2., height + 0.1,\n",
    "     height,ha=\"center\")\n",
    "plt.show()"
   ]
  },
  {
   "cell_type": "code",
   "execution_count": 111,
   "id": "ea2c7417",
   "metadata": {},
   "outputs": [
    {
     "data": {
      "text/plain": [
       "Cancer Type\n",
       "Ductal Carcinoma       3451\n",
       "Fibroadenoma           1014\n",
       "Mucinous Carcinoma      792\n",
       "Lobular Carcinoma       626\n",
       "Tubular Adenoma         569\n",
       "Papillary Carcinoma     560\n",
       "Phyllodes Tumor         453\n",
       "Adenosis                444\n",
       "Name: count, dtype: int64"
      ]
     },
     "execution_count": 111,
     "metadata": {},
     "output_type": "execute_result"
    }
   ],
   "source": [
    "df['Cancer Type'].value_counts()"
   ]
  },
  {
   "cell_type": "code",
   "execution_count": 113,
   "id": "c5908d53",
   "metadata": {},
   "outputs": [
    {
     "data": {
      "text/plain": [
       "np.int64(7909)"
      ]
     },
     "execution_count": 113,
     "metadata": {},
     "output_type": "execute_result"
    }
   ],
   "source": [
    "df['Cancer Type'].count()"
   ]
  },
  {
   "cell_type": "code",
   "execution_count": null,
   "id": "d2baccda",
   "metadata": {},
   "outputs": [
    {
     "data": {
      "image/png": "[encoded data removed]",
      "text/plain": [
       "<Figure size 640x480 with 1 Axes>"
      ]
     },
     "metadata": {},
     "output_type": "display_data"
    }
   ],
   "source": [
    "fig = sns.countplot(x='Cancer Type', data =df, hue='Cancer Type', order= df['Cancer Type'].value_counts().index)\n",
    "plt.xticks(rotation = 45)\n",
    "for p in fig.patches:\n",
    "    height = p.get_height().astype(int)\n",
    "    fig.text(p.get_x()+p.get_width()/2., height + 0.1,\n",
    "     height,ha=\"center\")\n",
    "plt.show()"
   ]
  },
  {
   "cell_type": "markdown",
   "id": "123053bb",
   "metadata": {},
   "source": [
    "Dataset is very unbalanced. Some techniques should be applied (oversampling, undersampling, Data Augmentation...)"
   ]
  },
  {
   "cell_type": "code",
   "execution_count": 83,
   "id": "b746ba7c",
   "metadata": {},
   "outputs": [
    {
     "name": "stdout",
     "output_type": "stream",
     "text": [
      "1736.0, 70%\n",
      "744.0, 30%\n",
      "372.0 + 372.0, 15% + 15%\n"
     ]
    }
   ],
   "source": [
    "print(f'{ben * 0.7}, 70%')\n",
    "print(f'{ben * 0.3}, 30%')\n",
    "print(f'{ben * 0.3 / 2} + {ben * 0.3 / 2}, 15% + 15%')"
   ]
  },
  {
   "cell_type": "code",
   "execution_count": 84,
   "id": "a8315429",
   "metadata": {},
   "outputs": [
    {
     "name": "stdout",
     "output_type": "stream",
     "text": [
      "3800.2999999999997, 70%\n",
      "1628.7, 30%\n",
      "814.35 + 814.35, 15% + 15%\n"
     ]
    }
   ],
   "source": [
    "print(f'{mal * 0.7}, 70%')\n",
    "print(f'{mal * 0.3}, 30%')\n",
    "print(f'{mal * 0.3 / 2} + {mal * 0.3 / 2}, 15% + 15%')"
   ]
  },
  {
   "cell_type": "markdown",
   "id": "39962de9",
   "metadata": {},
   "source": [
    "Train/Validation/Test Split"
   ]
  },
  {
   "cell_type": "code",
   "execution_count": 132,
   "id": "65d85aee",
   "metadata": {},
   "outputs": [],
   "source": [
    "df['image_name'] = df['path_to_image'].apply(lambda x: os.path.basename(x))"
   ]
  },
  {
   "cell_type": "code",
   "execution_count": 135,
   "id": "83b01df9",
   "metadata": {},
   "outputs": [
    {
     "name": "stdout",
     "output_type": "stream",
     "text": [
      "Train: 5536 | Val: 1186 | Test: 1187\n"
     ]
    }
   ],
   "source": [
    "X = df['image_name']\n",
    "y = df['Cancer Type']\n",
    "\n",
    "X_train, X_temp, y_train, y_temp = train_test_split(\n",
    "    X, y, test_size=0.3, stratify=y, random_state=42\n",
    ")\n",
    "\n",
    "X_val, X_test, y_val, y_test = train_test_split(\n",
    "    X_temp, y_temp, test_size=0.5, stratify=y_temp, random_state=42\n",
    ")\n",
    "\n",
    "print(f\"Train: {len(X_train)} | Val: {len(X_val)} | Test: {len(X_test)}\")\n"
   ]
  },
  {
   "cell_type": "code",
   "execution_count": 136,
   "id": "d063a5e5",
   "metadata": {},
   "outputs": [],
   "source": [
    "def copy_images(image_list, df, src_folder, dest_folder):\n",
    "    for img_name in image_list:\n",
    "        label = df.loc[df['image_name'] == img_name, 'Benign or Malignant'].values[0]\n",
    "        src = os.path.join(src_folder, img_name)\n",
    "        dst = os.path.join(dest_folder, label, img_name)\n",
    "        if os.path.exists(src):\n",
    "            shutil.copy(src, dst)\n",
    "        else:\n",
    "            print(f\"⚠️ File not found: {src}\")"
   ]
  },
  {
   "cell_type": "code",
   "execution_count": 139,
   "id": "60740e7a",
   "metadata": {},
   "outputs": [],
   "source": [
    "unnested_folder = r'C:\\Users\\pedro\\Desktop\\Breast-Cancer-Detection\\unnested'  \n",
    "output_base = r'C:\\Users\\pedro\\Desktop\\Breast-Cancer-Detection\\binary_class'      \n",
    "\n",
    "#copy_images(X_train, df, unnested_folder, os.path.join(output_base, \"train\"))\n",
    "copy_images(X_val, df, unnested_folder, os.path.join(output_base, \"validation\"))\n",
    "copy_images(X_test, df, unnested_folder, os.path.join(output_base, \"test\"))"
   ]
  },
  {
   "cell_type": "markdown",
   "id": "50ff2784",
   "metadata": {},
   "source": [
    "Check if Split was done as Expected"
   ]
  },
  {
   "cell_type": "code",
   "execution_count": 143,
   "id": "bf548148",
   "metadata": {},
   "outputs": [
    {
     "name": "stdout",
     "output_type": "stream",
     "text": [
      "# of benign in train: 1736\n",
      "# of malignant in train: 3800\n",
      "# of benign in validation: 372\n",
      "# of malignant in validation: 814\n",
      "# of benign in test: 372\n",
      "# of malignant in test: 815\n"
     ]
    }
   ],
   "source": [
    "base_dir = r\"C:\\Users\\pedro\\Desktop\\Breast-Cancer-Detection\\binary_class\"\n",
    "\n",
    "for i in ['train','validation', 'test']:\n",
    "    for j in ['benign', 'malignant']:\n",
    "        folder = os.path.join(base_dir, i, j)\n",
    "        print (f'# of {j} in {i}: {len(os.listdir(folder))}')"
   ]
  },
  {
   "cell_type": "code",
   "execution_count": 148,
   "id": "de10f9ec",
   "metadata": {},
   "outputs": [
    {
     "data": {
      "text/plain": [
       "<bound method IndexOpsMixin.tolist of Index(['Ductal Carcinoma', 'Fibroadenoma', 'Mucinous Carcinoma',\n",
       "       'Lobular Carcinoma', 'Tubular Adenoma', 'Papillary Carcinoma',\n",
       "       'Phyllodes Tumor', 'Adenosis'],\n",
       "      dtype='object', name='Cancer Type')>"
      ]
     },
     "execution_count": 148,
     "metadata": {},
     "output_type": "execute_result"
    }
   ],
   "source": [
    "df['Cancer Type'].value_counts().index.to_list"
   ]
  },
  {
   "cell_type": "code",
   "execution_count": 159,
   "id": "ad419ff5",
   "metadata": {},
   "outputs": [],
   "source": [
    "dict_ben = {\n",
    "    'Fibroadenoma':'F',\n",
    "    'Tubular Adenoma':'TA',\n",
    "    'Phyllodes Tumor':'PT',\n",
    "    'Adenosis':'A'\n",
    "\n",
    "}\n",
    "\n",
    "dict_mal = {\n",
    "    'Ductal Carcinoma': 'DC',\n",
    "    'Mucinous Carcinoma':'MC',\n",
    "    'Lobular Carcinoma':'LC',\n",
    "    'Papillary Carcinoma':'PC',\n",
    "\n",
    "}"
   ]
  },
  {
   "cell_type": "code",
   "execution_count": 160,
   "id": "e08f4fd2",
   "metadata": {},
   "outputs": [
    {
     "name": "stdout",
     "output_type": "stream",
     "text": [
      "train / benign / F: 710\n",
      "train / benign / TA: 398\n",
      "train / benign / PT: 317\n",
      "train / benign / A: 311\n",
      "train / malignant / DC: 2416\n",
      "train / malignant / MC: 554\n",
      "train / malignant / LC: 438\n",
      "train / malignant / PC: 392\n",
      "validation / benign / F: 152\n",
      "validation / benign / TA: 85\n",
      "validation / benign / PT: 68\n",
      "validation / benign / A: 67\n",
      "validation / malignant / DC: 517\n",
      "validation / malignant / MC: 119\n",
      "validation / malignant / LC: 94\n",
      "validation / malignant / PC: 84\n",
      "test / benign / F: 152\n",
      "test / benign / TA: 86\n",
      "test / benign / PT: 68\n",
      "test / benign / A: 66\n",
      "test / malignant / DC: 518\n",
      "test / malignant / MC: 119\n",
      "test / malignant / LC: 94\n",
      "test / malignant / PC: 84\n"
     ]
    }
   ],
   "source": [
    "base_dir = r\"C:\\Users\\pedro\\Desktop\\Breast-Cancer-Detection\\binary_class\"\n",
    "\n",
    "splits = ['train','validation','test']\n",
    "\n",
    "for split in splits:\n",
    "    # Benign\n",
    "    folder_b = os.path.join(base_dir, split, 'benign')\n",
    "    files_b = os.listdir(folder_b)\n",
    "    for code in dict_ben.values():\n",
    "        count = sum(f\"SOB_B_{code}\" in f for f in files_b)\n",
    "        print(f\"{split} / benign / {code}: {count}\")\n",
    "\n",
    "    # Malignant\n",
    "    folder_m = os.path.join(base_dir, split, 'malignant')\n",
    "    files_m = os.listdir(folder_m)\n",
    "    for code in dict_mal.values():\n",
    "        count = sum(f\"SOB_M_{code}\" in f for f in files_m)\n",
    "        print(f\"{split} / malignant / {code}: {count}\")"
   ]
  },
  {
   "cell_type": "code",
   "execution_count": 161,
   "id": "c5e14792",
   "metadata": {},
   "outputs": [],
   "source": [
    "df.to_csv(r'C:\\Users\\pedro\\Desktop\\Breast-Cancer-Detection\\Data\\breast\\image_data_preprocessed.csv')"
   ]
  }
 ],
 "metadata": {
  "kernelspec": {
   "display_name": "venv",
   "language": "python",
   "name": "python3"
  },
  "language_info": {
   "codemirror_mode": {
    "name": "ipython",
    "version": 3
   },
   "file_extension": ".py",
   "mimetype": "text/x-python",
   "name": "python",
   "nbconvert_exporter": "python",
   "pygments_lexer": "ipython3",
   "version": "3.12.0"
  }
 },
 "nbformat": 4,
 "nbformat_minor": 5
}
