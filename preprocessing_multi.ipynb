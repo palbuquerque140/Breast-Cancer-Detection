{
 "cells": [
  {
   "cell_type": "code",
   "execution_count": 1,
   "id": "edbd78d8",
   "metadata": {},
   "outputs": [],
   "source": [
    "import os\n",
    "import shutil\n",
    "import pandas as pd\n",
    "import numpy as np\n",
    "import matplotlib.pyplot as plt\n",
    "import seaborn as sns\n",
    "from sklearn.model_selection import train_test_split"
   ]
  },
  {
   "cell_type": "code",
   "execution_count": 2,
   "id": "c4f143b5",
   "metadata": {},
   "outputs": [],
   "source": [
    "df = pd.read_csv(r'C:\\Users\\pedro\\Desktop\\Breast-Cancer-Detection\\Data\\breast\\image_data_preprocessed.csv')"
   ]
  },
  {
   "cell_type": "code",
   "execution_count": null,
   "id": "5fbb2dee",
   "metadata": {},
   "outputs": [],
   "source": [
    "original_dir = r'C:\\Users\\pedro\\Desktop\\Breast-Cancer-Detection\\Data\\breast'"
   ]
  },
  {
   "cell_type": "code",
   "execution_count": 4,
   "id": "58c6d68a",
   "metadata": {},
   "outputs": [
    {
     "data": {
      "text/plain": [
       "Index(['Ductal Carcinoma', 'Fibroadenoma', 'Mucinous Carcinoma',\n",
       "       'Lobular Carcinoma', 'Tubular Adenoma', 'Papillary Carcinoma',\n",
       "       'Phyllodes Tumor', 'Adenosis'],\n",
       "      dtype='object', name='Cancer Type')"
      ]
     },
     "execution_count": 4,
     "metadata": {},
     "output_type": "execute_result"
    }
   ],
   "source": [
    "df['Cancer Type'].value_counts().index"
   ]
  },
  {
   "cell_type": "code",
   "execution_count": 5,
   "id": "44f4db10",
   "metadata": {},
   "outputs": [],
   "source": [
    "classes = df['Cancer Type'].value_counts().index\n",
    "sub_classes = ['train', 'validation', 'test']"
   ]
  },
  {
   "cell_type": "markdown",
   "id": "969b6dfa",
   "metadata": {},
   "source": [
    "Create Folders"
   ]
  },
  {
   "cell_type": "code",
   "execution_count": 6,
   "id": "ba12fedd",
   "metadata": {},
   "outputs": [],
   "source": [
    "base_dir = r'C:\\Users\\pedro\\Desktop\\Breast-Cancer-Detection\\multi_class'\n",
    "os.mkdir(base_dir)"
   ]
  },
  {
   "cell_type": "code",
   "execution_count": 7,
   "id": "02c2129e",
   "metadata": {},
   "outputs": [],
   "source": [
    "for i in sub_classes:\n",
    "    for j in classes:\n",
    "        os.makedirs(os.path.join(base_dir, i, j))"
   ]
  },
  {
   "cell_type": "code",
   "execution_count": 8,
   "id": "bc45cf5d",
   "metadata": {},
   "outputs": [],
   "source": [
    "X = df['image_name']\n",
    "y = df['Cancer Type'] "
   ]
  },
  {
   "cell_type": "code",
   "execution_count": 9,
   "id": "b3fd8e0f",
   "metadata": {},
   "outputs": [
    {
     "name": "stdout",
     "output_type": "stream",
     "text": [
      "Train: 5536, Val: 1186, Test: 1187\n"
     ]
    }
   ],
   "source": [
    "X_train, X_temp, y_train, y_temp = train_test_split(\n",
    "    X, y, test_size=0.3, stratify=y, random_state=42\n",
    ")\n",
    "\n",
    "X_val, X_test, y_val, y_test = train_test_split(\n",
    "    X_temp, y_temp, test_size=0.5, stratify=y_temp, random_state=42\n",
    ")\n",
    "\n",
    "print(f\"Train: {len(X_train)}, Val: {len(X_val)}, Test: {len(X_test)}\")"
   ]
  },
  {
   "cell_type": "code",
   "execution_count": 10,
   "id": "9a196e6a",
   "metadata": {},
   "outputs": [],
   "source": [
    "def copy_images(image_list, df, src_folder, dest_folder):\n",
    "    for img_name in image_list:\n",
    "        label = df.loc[df['image_name'] == img_name, 'Cancer Type'].values[0]\n",
    "        dst_dir = os.path.join(dest_folder, label)\n",
    "        src_path = os.path.join(src_folder, img_name)\n",
    "        dst_path = os.path.join(dst_dir, img_name)\n",
    "        if os.path.exists(src_path):\n",
    "            shutil.copy(src_path, dst_path)\n",
    "        else:\n",
    "            print(f\"⚠️ File not found: {src_path}\")"
   ]
  },
  {
   "cell_type": "code",
   "execution_count": 11,
   "id": "127f78f3",
   "metadata": {},
   "outputs": [],
   "source": [
    "unnested_folder = r'C:\\Users\\pedro\\Desktop\\Breast-Cancer-Detection\\unnested'\n",
    "output_base = r'C:\\Users\\pedro\\Desktop\\Breast-Cancer-Detection\\multi_class'\n",
    "\n",
    "copy_images(X_train, df, unnested_folder, os.path.join(output_base, \"train\"))\n",
    "copy_images(X_val, df, unnested_folder, os.path.join(output_base, \"validation\"))\n",
    "copy_images(X_test, df, unnested_folder, os.path.join(output_base, \"test\"))"
   ]
  },
  {
   "cell_type": "code",
   "execution_count": 15,
   "id": "8697e5bb",
   "metadata": {},
   "outputs": [
    {
     "name": "stdout",
     "output_type": "stream",
     "text": [
      "train / Adenosis: 311\n",
      "train / Ductal Carcinoma: 2416\n",
      "train / Fibroadenoma: 710\n",
      "train / Lobular Carcinoma: 438\n",
      "train / Mucinous Carcinoma: 554\n",
      "train / Papillary Carcinoma: 392\n",
      "train / Phyllodes Tumor: 317\n",
      "train / Tubular Adenoma: 398\n",
      "validation / Adenosis: 67\n",
      "validation / Ductal Carcinoma: 517\n",
      "validation / Fibroadenoma: 152\n",
      "validation / Lobular Carcinoma: 94\n",
      "validation / Mucinous Carcinoma: 119\n",
      "validation / Papillary Carcinoma: 84\n",
      "validation / Phyllodes Tumor: 68\n",
      "validation / Tubular Adenoma: 85\n",
      "test / Adenosis: 66\n",
      "test / Ductal Carcinoma: 518\n",
      "test / Fibroadenoma: 152\n",
      "test / Lobular Carcinoma: 94\n",
      "test / Mucinous Carcinoma: 119\n",
      "test / Papillary Carcinoma: 84\n",
      "test / Phyllodes Tumor: 68\n",
      "test / Tubular Adenoma: 86\n"
     ]
    }
   ],
   "source": [
    "base_dir = r\"C:\\Users\\pedro\\Desktop\\Breast-Cancer-Detection\\multi_class\"\n",
    "\n",
    "for i in ['train', 'validation', 'test']:\n",
    "    \n",
    "    i_path = os.path.join(base_dir, i)\n",
    "    \n",
    "    for j in os.listdir(i_path):\n",
    "        folder = os.path.join(i_path, j)\n",
    "        if os.path.isdir(folder):\n",
    "            count = len(os.listdir(folder))\n",
    "            print(f\"{i} / {j}: {count}\")"
   ]
  }
 ],
 "metadata": {
  "kernelspec": {
   "display_name": "venv",
   "language": "python",
   "name": "python3"
  },
  "language_info": {
   "codemirror_mode": {
    "name": "ipython",
    "version": 3
   },
   "file_extension": ".py",
   "mimetype": "text/x-python",
   "name": "python",
   "nbconvert_exporter": "python",
   "pygments_lexer": "ipython3",
   "version": "3.12.0"
  }
 },
 "nbformat": 4,
 "nbformat_minor": 5
}
